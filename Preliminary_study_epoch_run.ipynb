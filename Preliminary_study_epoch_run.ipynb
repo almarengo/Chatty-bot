{
 "cells": [
  {
   "cell_type": "code",
   "execution_count": 1,
   "id": "3ec4c605",
   "metadata": {},
   "outputs": [],
   "source": [
    "from utils import prepare_data\n",
    "import numpy as np\n",
    "import torch\n",
    "from torch import nn\n",
    "import torch.nn.functional as F\n",
    "from tqdm.notebook import tnrange, tqdm_notebook"
   ]
  },
  {
   "cell_type": "code",
   "execution_count": 2,
   "id": "9ac6aa0f",
   "metadata": {},
   "outputs": [
    {
     "name": "stdout",
     "output_type": "stream",
     "text": [
      "Reading test -------\n",
      "Read 4041 sentence pairs\n",
      "Counting words\n",
      "Counted words:\n",
      "In questions: 5087 words\n",
      "In answers: 394 words\n"
     ]
    }
   ],
   "source": [
    "q, a, pairs, vector = prepare_data('test', 'glove.42B.300d/glove.42B.300d.txt', small=True)"
   ]
  },
  {
   "cell_type": "code",
   "execution_count": 5,
   "id": "c65f9a7f",
   "metadata": {},
   "outputs": [
    {
     "ename": "SyntaxError",
     "evalue": "invalid syntax (<ipython-input-5-e9e706937ea8>, line 1)",
     "output_type": "error",
     "traceback": [
      "\u001b[1;36m  File \u001b[1;32m\"<ipython-input-5-e9e706937ea8>\"\u001b[1;36m, line \u001b[1;32m1\u001b[0m\n\u001b[1;33m    def epoch_train(model, optimizer, batch_size, pairs)\u001b[0m\n\u001b[1;37m                                                        ^\u001b[0m\n\u001b[1;31mSyntaxError\u001b[0m\u001b[1;31m:\u001b[0m invalid syntax\n"
     ]
    }
   ],
   "source": [
    "def epoch_train(model, optimizer, batch_size, pairs)\n",
    "    \n",
    "    # Set the model in train mode\n",
    "    model.train()\n",
    "    \n",
    "    # Gets number total number of rows for training\n",
    "    n_records = len(pairs)\n",
    "    \n",
    "    # Shuffle the row indexes \n",
    "    perm = np.random.permutation(n_records)\n",
    "    \n",
    "    st = 0\n",
    "    \n",
    "    while st < n_records:\n",
    "        \n",
    "        ed = st + batch_size if (st + batch_size) < n_records else n_records\n",
    "    \n",
    "        encoder_in, decoder_in = to_batch_sequence(pairs, st, ed, perm)\n",
    "\n",
    "        # Calculate outputs and loss\n",
    "        output_values, loss = model(encoder_in, decoder_in)\n",
    "        \n",
    "        # Clear gradients (pytorch accumulates gradients by default)\n",
    "        optimizer.zero_grad() \n",
    "\n",
    "        # Backpropagation & weight adjustment\n",
    "        loss.backward()\n",
    "        optimizer.step()\n",
    "        \n",
    "        st = ed\n",
    "\n",
    "print(f\"Optimization ended successfully\")"
   ]
  },
  {
   "cell_type": "code",
   "execution_count": 4,
   "id": "82c2044c",
   "metadata": {},
   "outputs": [
    {
     "data": {
      "text/plain": [
       "array([1882, 3441, 3572, ..., 3598,   73, 3906])"
      ]
     },
     "execution_count": 4,
     "metadata": {},
     "output_type": "execute_result"
    }
   ],
   "source": [
    "np.random.permutation(len(pairs))"
   ]
  },
  {
   "cell_type": "code",
   "execution_count": null,
   "id": "19b9ba9e",
   "metadata": {},
   "outputs": [],
   "source": []
  },
  {
   "cell_type": "code",
   "execution_count": null,
   "id": "03bef08a",
   "metadata": {},
   "outputs": [],
   "source": []
  }
 ],
 "metadata": {
  "kernelspec": {
   "display_name": "Python 3",
   "language": "python",
   "name": "python3"
  },
  "language_info": {
   "codemirror_mode": {
    "name": "ipython",
    "version": 3
   },
   "file_extension": ".py",
   "mimetype": "text/x-python",
   "name": "python",
   "nbconvert_exporter": "python",
   "pygments_lexer": "ipython3",
   "version": "3.8.10"
  }
 },
 "nbformat": 4,
 "nbformat_minor": 5
}
