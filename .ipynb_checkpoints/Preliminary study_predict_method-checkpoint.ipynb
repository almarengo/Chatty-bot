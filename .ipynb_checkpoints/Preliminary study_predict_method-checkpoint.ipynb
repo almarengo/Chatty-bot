{
 "cells": [
  {
   "cell_type": "code",
   "execution_count": 1,
   "id": "sporting-circular",
   "metadata": {
    "ExecuteTime": {
     "end_time": "2021-09-01T06:40:42.013249Z",
     "start_time": "2021-09-01T06:40:41.389328Z"
    }
   },
   "outputs": [],
   "source": [
    "from torch.optim.lr_scheduler import ReduceLROnPlateau, CyclicLR\n",
    "from load_utils import prepare_data\n",
    "from train_utils import *\n",
    "from seq2seq_model import *\n",
    "import numpy as np\n",
    "import torch\n",
    "from tqdm.notebook import tnrange, tqdm_notebook\n",
    "from Calculate_BLEU import *\n",
    "import datetime"
   ]
  },
  {
   "cell_type": "code",
   "execution_count": 2,
   "id": "interpreted-cornwall",
   "metadata": {
    "ExecuteTime": {
     "end_time": "2021-09-01T06:40:42.029253Z",
     "start_time": "2021-09-01T06:40:42.016253Z"
    }
   },
   "outputs": [],
   "source": [
    "device = torch.device(\"cuda\" if torch.cuda.is_available() else \"cpu\")\n",
    "#device = \"cpu\""
   ]
  },
  {
   "cell_type": "code",
   "execution_count": 3,
   "id": "sixth-management",
   "metadata": {
    "ExecuteTime": {
     "end_time": "2021-09-01T06:40:42.771941Z",
     "start_time": "2021-09-01T06:40:42.033248Z"
    }
   },
   "outputs": [
    {
     "name": "stdout",
     "output_type": "stream",
     "text": [
      "Reading validation -------\n",
      "Read 4217 sentence pairs\n",
      "Counting words\n",
      "Counted words:\n",
      "In questions: 11087 words\n",
      "In answers: 4542 words\n"
     ]
    }
   ],
   "source": [
    "q, a, pairs, vector = prepare_data('validation', 'glove.42B.300d/glove.42B.300d.txt', small=True)"
   ]
  },
  {
   "cell_type": "code",
   "execution_count": 4,
   "id": "b0f9b5d9",
   "metadata": {},
   "outputs": [],
   "source": [
    "# Add EOS at end of each target sentence\n",
    "pairs = [[line[0], line[1]+' EOS'] for line in pairs ]"
   ]
  },
  {
   "cell_type": "code",
   "execution_count": 5,
   "id": "6a4600a6",
   "metadata": {},
   "outputs": [],
   "source": [
    "matrix_len = q.n_words\n",
    "weights_matrix = np.zeros((matrix_len, 300))\n",
    "word_found = 0\n",
    "for i, word in enumerate(q.word2index):\n",
    "    try:\n",
    "        weights_matrix[i] = vector[word]\n",
    "    except KeyError:\n",
    "        weights_matrix[i] = np.random.normal(scale=0.6, size=(300, ))"
   ]
  },
  {
   "cell_type": "code",
   "execution_count": 6,
   "id": "d0543927",
   "metadata": {},
   "outputs": [
    {
     "name": "stderr",
     "output_type": "stream",
     "text": [
      "C:\\Users\\maren\\Anaconda3\\envs\\deeplearning\\lib\\site-packages\\torch\\nn\\modules\\rnn.py:62: UserWarning: dropout option adds dropout after all but last recurrent layer, so non-zero dropout expects num_layers greater than 1, but got dropout=0.3 and num_layers=1\n",
      "  warnings.warn(\"dropout option adds dropout after all but last \"\n"
     ]
    }
   ],
   "source": [
    "model = Seq2Seq(32, q.n_words, a.n_words, 300, 100, weights_matrix, 0.3, 'concat', device, _)"
   ]
  },
  {
   "cell_type": "code",
   "execution_count": 7,
   "id": "b02dd394",
   "metadata": {},
   "outputs": [
    {
     "data": {
      "text/plain": [
       "<All keys matched successfully>"
      ]
     },
     "execution_count": 7,
     "metadata": {},
     "output_type": "execute_result"
    }
   ],
   "source": [
    "model.load_state_dict(torch.load('test_model'))"
   ]
  },
  {
   "cell_type": "code",
   "execution_count": 8,
   "id": "5a4f6820",
   "metadata": {},
   "outputs": [
    {
     "data": {
      "text/plain": [
       "Seq2Seq(\n",
       "  (encoder): Encoder(\n",
       "    (embedding): Embedding(11087, 300)\n",
       "    (gru): GRU(300, 100, batch_first=True, dropout=0.3)\n",
       "  )\n",
       "  (decoder): Decoder(\n",
       "    (embedding): Embedding(4542, 300)\n",
       "    (dropout): Dropout(p=0.3, inplace=True)\n",
       "    (attention): Attention(\n",
       "      (attn): Linear(in_features=200, out_features=100, bias=True)\n",
       "    )\n",
       "    (gru): GRU(300, 100, batch_first=True, dropout=0.3)\n",
       "    (concat): Linear(in_features=200, out_features=100, bias=True)\n",
       "    (out): Linear(in_features=100, out_features=4542, bias=True)\n",
       "    (tan): Tanh()\n",
       "  )\n",
       "  (softmax): Softmax(dim=1)\n",
       ")"
      ]
     },
     "execution_count": 8,
     "metadata": {},
     "output_type": "execute_result"
    }
   ],
   "source": [
    "model.eval()"
   ]
  },
  {
   "cell_type": "code",
   "execution_count": 9,
   "id": "8300d88c",
   "metadata": {},
   "outputs": [],
   "source": [
    "n_records = len(pairs)\n",
    "indexes = np.array(range(n_records))\n",
    "encoder_in, decoder_in, enc_length, seq_length, _ = to_batch_sequence(pairs, q, a, 32, 64, indexes, device)\n",
    "dec_len = decoder_in.size()[1]"
   ]
  },
  {
   "cell_type": "code",
   "execution_count": 10,
   "id": "24b374d6",
   "metadata": {},
   "outputs": [],
   "source": [
    "input = encoder_in[0]"
   ]
  },
  {
   "cell_type": "code",
   "execution_count": 11,
   "id": "d237f29e",
   "metadata": {},
   "outputs": [
    {
     "data": {
      "text/plain": [
       "torch.Size([32, 47])"
      ]
     },
     "execution_count": 11,
     "metadata": {},
     "output_type": "execute_result"
    }
   ],
   "source": [
    "encoder_in.size()"
   ]
  },
  {
   "cell_type": "code",
   "execution_count": 12,
   "id": "70f7e4b5",
   "metadata": {},
   "outputs": [],
   "source": [
    "input = input.unsqueeze(0)"
   ]
  },
  {
   "cell_type": "code",
   "execution_count": 13,
   "id": "cf2b1b3f",
   "metadata": {},
   "outputs": [],
   "source": [
    "predictions = model.predict(input, enc_length)"
   ]
  },
  {
   "cell_type": "code",
   "execution_count": 14,
   "id": "75f753be",
   "metadata": {},
   "outputs": [
    {
     "data": {
      "text/plain": [
       "'that s used to . we got that fixed yesterday . i m a fixed too and that i to PAD to PAD to PAD to PAD PAD to PAD PAD PAD PAD PAD PAD PAD PAD PAD PAD PAD PAD PAD PAD PAD PAD PAD PAD PAD PAD'"
      ]
     },
     "execution_count": 14,
     "metadata": {},
     "output_type": "execute_result"
    }
   ],
   "source": [
    "pred_list = [a.index2word[idx] for idx in predictions]\n",
    "answer = ' '.join(pred_list[:-1])\n",
    "answer"
   ]
  },
  {
   "cell_type": "code",
   "execution_count": 15,
   "id": "2866b239",
   "metadata": {},
   "outputs": [
    {
     "data": {
      "text/plain": [
       "\"i've counted nine different cockroaches and i accidentally stepped on another one . PAD PAD PAD PAD PAD PAD PAD PAD PAD PAD PAD PAD PAD PAD PAD PAD PAD PAD PAD PAD PAD PAD PAD PAD PAD PAD PAD PAD PAD PAD PAD PAD PAD PAD\""
      ]
     },
     "execution_count": 15,
     "metadata": {},
     "output_type": "execute_result"
    }
   ],
   "source": [
    "question_list = [q.index2word[idx] for idx in input.squeeze().tolist()]\n",
    "question = ' '.join(question_list)\n",
    "question"
   ]
  }
 ],
 "metadata": {
  "hide_input": false,
  "kernelspec": {
   "display_name": "Python 3",
   "language": "python",
   "name": "python3"
  },
  "language_info": {
   "codemirror_mode": {
    "name": "ipython",
    "version": 3
   },
   "file_extension": ".py",
   "mimetype": "text/x-python",
   "name": "python",
   "nbconvert_exporter": "python",
   "pygments_lexer": "ipython3",
   "version": "3.8.10"
  },
  "toc": {
   "base_numbering": 1,
   "nav_menu": {},
   "number_sections": true,
   "sideBar": true,
   "skip_h1_title": false,
   "title_cell": "Table of Contents",
   "title_sidebar": "Contents",
   "toc_cell": false,
   "toc_position": {},
   "toc_section_display": true,
   "toc_window_display": false
  }
 },
 "nbformat": 4,
 "nbformat_minor": 5
}
