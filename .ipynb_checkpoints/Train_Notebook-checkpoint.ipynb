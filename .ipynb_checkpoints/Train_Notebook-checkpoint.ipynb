{
 "cells": [
  {
   "cell_type": "code",
   "execution_count": null,
   "id": "sporting-circular",
   "metadata": {
    "ExecuteTime": {
     "end_time": "2021-09-01T06:40:42.013249Z",
     "start_time": "2021-09-01T06:40:41.389328Z"
    }
   },
   "outputs": [],
   "source": [
    "from load_utils import prepare_data\n",
    "from train_utils import *\n",
    "from seq2seq_model import *\n",
    "import numpy as np\n",
    "import torch\n",
    "from tqdm.notebook import tnrange, tqdm_notebook\n",
    "import datetime"
   ]
  },
  {
   "cell_type": "code",
   "execution_count": null,
   "id": "interpreted-cornwall",
   "metadata": {
    "ExecuteTime": {
     "end_time": "2021-09-01T06:40:42.029253Z",
     "start_time": "2021-09-01T06:40:42.016253Z"
    }
   },
   "outputs": [],
   "source": [
    "device = torch.device(\"cuda\" if torch.cuda.is_available() else \"cpu\")"
   ]
  },
  {
   "cell_type": "code",
   "execution_count": null,
   "id": "sixth-management",
   "metadata": {
    "ExecuteTime": {
     "end_time": "2021-09-01T06:40:42.771941Z",
     "start_time": "2021-09-01T06:40:42.033248Z"
    }
   },
   "outputs": [],
   "source": [
    "q, a, pairs, vector = prepare_data('test', 'glove.42B.300d/glove.42B.300d.txt', small=True)"
   ]
  },
  {
   "cell_type": "code",
   "execution_count": null,
   "id": "decimal-tissue",
   "metadata": {
    "ExecuteTime": {
     "end_time": "2021-09-01T06:40:42.803806Z",
     "start_time": "2021-09-01T06:40:42.775935Z"
    }
   },
   "outputs": [],
   "source": [
    "matrix_len = q.n_words\n",
    "weights_matrix = np.zeros((matrix_len, 300))\n",
    "word_found = 0\n",
    "for i, word in enumerate(q.word2index):\n",
    "    try:\n",
    "        weights_matrix[i] = vector[word]\n",
    "    except:\n",
    "        continue"
   ]
  },
  {
   "cell_type": "code",
   "execution_count": null,
   "id": "spatial-deviation",
   "metadata": {
    "ExecuteTime": {
     "end_time": "2021-09-01T06:40:43.201340Z",
     "start_time": "2021-09-01T06:40:42.806805Z"
    }
   },
   "outputs": [],
   "source": [
    "from matplotlib import pyplot as plt\n",
    "\n",
    "class LivePlotNotebook(object):\n",
    "    \"\"\"\n",
    "    Live plot using %matplotlib notebook in jupyter notebook\n",
    "    \n",
    "    Usage:\n",
    "    ```\n",
    "    import time\n",
    "    liveplot = LivePlotNotebook()\n",
    "    x=np.random.random((10,))\n",
    "    for i in range(10):\n",
    "        time.sleep(1)\n",
    "        liveplot.update(\n",
    "            x=x+np.random.random(x.shape)/10,\n",
    "            actions=np.random.randint(0, 3, size=(10,))\n",
    "        )\n",
    "    ```\n",
    "    \n",
    "    url:\n",
    "    \"\"\"\n",
    "\n",
    "    def __init__(self):\n",
    "        %matplotlib notebook\n",
    "        fig,ax = plt.subplots(1,1)\n",
    "        \n",
    "        ax.plot([0]*20, label='price')\n",
    "        ax.plot([1]*20, [1]*20, 'o', ms=12,c='gray', label='hold')\n",
    "        \n",
    "        \n",
    "    \n",
    "        ax.legend()\n",
    "        ax.set_xlabel('timesteps')\n",
    "        ax.grid()\n",
    "        ax.set_title('actions')\n",
    "        \n",
    "        self.ax = ax\n",
    "        self.fig = fig\n",
    "\n",
    "    def update(self, x, actions):             \n",
    "        # update price\n",
    "        line = self.ax.lines[0]\n",
    "        line.set_xdata(range(len(x)))\n",
    "        line.set_ydata(x)\n",
    "        \n",
    "        # update action plots\n",
    "        for i, line in enumerate(self.ax.lines[1:]):\n",
    "            line.set_xdata(np.argwhere(actions==i).T)\n",
    "            line.set_ydata(x[actions==i])\n",
    "            line.set_marker(['o','^','v'][i])\n",
    "\n",
    "        # update limits\n",
    "        self.ax.set_xlim(0, len(actions))\n",
    "        self.ax.set_ylim(x.min(), x.max())\n",
    "\n",
    "        self.fig.canvas.draw()\n",
    "        "
   ]
  },
  {
   "cell_type": "code",
   "execution_count": null,
   "id": "bored-interest",
   "metadata": {
    "ExecuteTime": {
     "end_time": "2021-09-01T06:40:43.217378Z",
     "start_time": "2021-09-01T06:40:43.203344Z"
    }
   },
   "outputs": [],
   "source": [
    "criterion = nn.NLLLoss\n",
    "optimizer = 'Adam'\n",
    "batch_size = 32"
   ]
  },
  {
   "cell_type": "code",
   "execution_count": null,
   "id": "finnish-insertion",
   "metadata": {
    "ExecuteTime": {
     "end_time": "2021-09-01T06:40:43.265344Z",
     "start_time": "2021-09-01T06:40:43.219343Z"
    }
   },
   "outputs": [],
   "source": [
    "model = Seq2Seq(batch_size, q.n_words, a.n_words, 300, 100, weights_matrix, 0.5, device, criterion)"
   ]
  },
  {
   "cell_type": "code",
   "execution_count": null,
   "id": "improving-jerusalem",
   "metadata": {
    "ExecuteTime": {
     "end_time": "2021-09-01T05:34:10.025725Z",
     "start_time": "2021-09-01T05:34:07.912Z"
    }
   },
   "outputs": [],
   "source": []
  },
  {
   "cell_type": "code",
   "execution_count": null,
   "id": "commercial-james",
   "metadata": {
    "ExecuteTime": {
     "end_time": "2021-09-01T05:34:10.027729Z",
     "start_time": "2021-09-01T05:34:07.913Z"
    }
   },
   "outputs": [],
   "source": []
  },
  {
   "cell_type": "code",
   "execution_count": null,
   "id": "grave-prison",
   "metadata": {
    "ExecuteTime": {
     "end_time": "2021-09-01T06:40:43.816506Z",
     "start_time": "2021-09-01T06:40:43.267345Z"
    }
   },
   "outputs": [],
   "source": [
    "for epoch in tnrange(2, desc=\"Total epochs: \"):\n",
    "\n",
    "    print(f'Epoch {epoch + 1}: {datetime.datetime.now()}')\n",
    "  \n",
    "    # Calculte loss\n",
    "    loss = epoch_train(model, optimizer, batch_size, pairs, q, device)\n",
    "\n",
    "    print(f'Loss: {loss}')\n",
    "\n",
    "    # Calculate accuracy\n",
    "    accuracy = epoch_accuray(model, batch_size, pairs, a, device)\n",
    "\n",
    "    print(f'Train accuracy: {accuracy}')\n",
    "\n",
    "    # Calculate BLEU Score\n",
    "    BLEU_model = CalculateBleu(model, batch_size, pairs, q, a, device)\n",
    "    bleu_score = BLEU_model.score()\n",
    "\n",
    "    print(f'BLUE score: {bleu_score}')\n",
    "\n",
    "    # Try to do interactive plot\n",
    "    \n",
    "\n",
    "\n",
    "print(f\"Optimization ended successfully\")\n"
   ]
  },
  {
   "cell_type": "code",
   "execution_count": null,
   "id": "6b26b7f5",
   "metadata": {},
   "outputs": [],
   "source": []
  },
  {
   "cell_type": "code",
   "execution_count": null,
   "id": "american-broadcast",
   "metadata": {
    "ExecuteTime": {
     "end_time": "2021-09-01T06:39:46.562116Z",
     "start_time": "2021-09-01T06:39:46.534118Z"
    }
   },
   "outputs": [],
   "source": []
  },
  {
   "cell_type": "code",
   "execution_count": null,
   "id": "protected-devon",
   "metadata": {},
   "outputs": [],
   "source": []
  }
 ],
 "metadata": {
  "hide_input": false,
  "kernelspec": {
   "display_name": "Python 3",
   "language": "python",
   "name": "python3"
  },
  "language_info": {
   "codemirror_mode": {
    "name": "ipython",
    "version": 3
   },
   "file_extension": ".py",
   "mimetype": "text/x-python",
   "name": "python",
   "nbconvert_exporter": "python",
   "pygments_lexer": "ipython3",
   "version": "3.8.10"
  },
  "toc": {
   "base_numbering": 1,
   "nav_menu": {},
   "number_sections": true,
   "sideBar": true,
   "skip_h1_title": false,
   "title_cell": "Table of Contents",
   "title_sidebar": "Contents",
   "toc_cell": false,
   "toc_position": {},
   "toc_section_display": true,
   "toc_window_display": false
  }
 },
 "nbformat": 4,
 "nbformat_minor": 5
}
