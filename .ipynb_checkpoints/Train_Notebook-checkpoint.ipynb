{
 "cells": [
  {
   "cell_type": "code",
   "execution_count": 1,
   "id": "sporting-circular",
   "metadata": {
    "ExecuteTime": {
     "end_time": "2021-09-01T06:40:42.013249Z",
     "start_time": "2021-09-01T06:40:41.389328Z"
    }
   },
   "outputs": [],
   "source": [
    "from torch.optim.lr_scheduler import ReduceLROnPlateau, CyclicLR\n",
    "from load_utils import prepare_data\n",
    "from train_utils import *\n",
    "from seq2seq_model import *\n",
    "import numpy as np\n",
    "import torch\n",
    "from tqdm.notebook import tnrange, tqdm_notebook\n",
    "from Calculate_BLEU import *\n",
    "import datetime"
   ]
  },
  {
   "cell_type": "code",
   "execution_count": 2,
   "id": "interpreted-cornwall",
   "metadata": {
    "ExecuteTime": {
     "end_time": "2021-09-01T06:40:42.029253Z",
     "start_time": "2021-09-01T06:40:42.016253Z"
    }
   },
   "outputs": [],
   "source": [
    "device = torch.device(\"cuda\" if torch.cuda.is_available() else \"cpu\")\n",
    "#device = \"cpu\""
   ]
  },
  {
   "cell_type": "code",
   "execution_count": 3,
   "id": "sixth-management",
   "metadata": {
    "ExecuteTime": {
     "end_time": "2021-09-01T06:40:42.771941Z",
     "start_time": "2021-09-01T06:40:42.033248Z"
    }
   },
   "outputs": [
    {
     "name": "stdout",
     "output_type": "stream",
     "text": [
      "Reading train -------\n",
      "Read 45544 sentence pairs\n",
      "Counting words\n",
      "Counted words:\n",
      "In questions: 14537 words\n",
      "In answers: 14636 words\n"
     ]
    }
   ],
   "source": [
    "q, a, pairs, vector = prepare_data('train', 'glove.42B.300d/glove.42B.300d.txt', small=True)"
   ]
  },
  {
   "cell_type": "code",
   "execution_count": 4,
   "id": "24c8383f",
   "metadata": {},
   "outputs": [],
   "source": [
    "# Add EOS at end of each target sentence\n",
    "pairs = [[line[0], line[1]+' EOS'] for line in pairs ]"
   ]
  },
  {
   "cell_type": "code",
   "execution_count": 5,
   "id": "decimal-tissue",
   "metadata": {
    "ExecuteTime": {
     "end_time": "2021-09-01T06:40:42.803806Z",
     "start_time": "2021-09-01T06:40:42.775935Z"
    }
   },
   "outputs": [],
   "source": [
    "matrix_len = q.n_words\n",
    "weights_matrix = np.zeros((matrix_len, 300))\n",
    "word_found = 0\n",
    "for i, word in enumerate(q.word2index):\n",
    "    try:\n",
    "        weights_matrix[i] = vector[word]\n",
    "    except:\n",
    "        continue"
   ]
  },
  {
   "cell_type": "code",
   "execution_count": 6,
   "id": "bored-interest",
   "metadata": {
    "ExecuteTime": {
     "end_time": "2021-09-01T06:40:43.217378Z",
     "start_time": "2021-09-01T06:40:43.203344Z"
    }
   },
   "outputs": [],
   "source": [
    "criterion = nn.NLLLoss()\n",
    "optimizer = 'Adam'\n",
    "batch_size = 32\n",
    "lr = 0.001"
   ]
  },
  {
   "cell_type": "code",
   "execution_count": 7,
   "id": "finnish-insertion",
   "metadata": {
    "ExecuteTime": {
     "end_time": "2021-09-01T06:40:43.265344Z",
     "start_time": "2021-09-01T06:40:43.219343Z"
    },
    "scrolled": true
   },
   "outputs": [
    {
     "ename": "RuntimeError",
     "evalue": "Error(s) in loading state_dict for Embedding:\n\tsize mismatch for weight: copying a param with shape (14537, 300) from checkpoint, the shape in current model is torch.Size([14537, 256]).",
     "output_type": "error",
     "traceback": [
      "\u001b[1;31m---------------------------------------------------------------------------\u001b[0m",
      "\u001b[1;31mRuntimeError\u001b[0m                              Traceback (most recent call last)",
      "\u001b[1;32m<ipython-input-7-94ee8446da94>\u001b[0m in \u001b[0;36m<module>\u001b[1;34m\u001b[0m\n\u001b[1;32m----> 1\u001b[1;33m \u001b[0mmodel\u001b[0m \u001b[1;33m=\u001b[0m \u001b[0mSeq2Seq\u001b[0m\u001b[1;33m(\u001b[0m\u001b[0mbatch_size\u001b[0m\u001b[1;33m,\u001b[0m \u001b[0mq\u001b[0m\u001b[1;33m.\u001b[0m\u001b[0mn_words\u001b[0m\u001b[1;33m,\u001b[0m \u001b[0ma\u001b[0m\u001b[1;33m.\u001b[0m\u001b[0mn_words\u001b[0m\u001b[1;33m,\u001b[0m \u001b[1;36m256\u001b[0m\u001b[1;33m,\u001b[0m \u001b[1;36m100\u001b[0m\u001b[1;33m,\u001b[0m \u001b[0mweights_matrix\u001b[0m\u001b[1;33m,\u001b[0m \u001b[1;36m0.2\u001b[0m\u001b[1;33m,\u001b[0m \u001b[0mdevice\u001b[0m\u001b[1;33m,\u001b[0m \u001b[0mcriterion\u001b[0m\u001b[1;33m)\u001b[0m\u001b[1;33m\u001b[0m\u001b[1;33m\u001b[0m\u001b[0m\n\u001b[0m",
      "\u001b[1;32m~\\01_Projects\\02_RNN_with_Attention\\Chatty-bot\\seq2seq_model.py\u001b[0m in \u001b[0;36m__init__\u001b[1;34m(self, batch_size, vocabolary_size, output_size, embedding_dim, hidden_size, weights_matrix, dropout, device, criterion)\u001b[0m\n\u001b[0;32m     12\u001b[0m         \u001b[0msuper\u001b[0m\u001b[1;33m(\u001b[0m\u001b[0mSeq2Seq\u001b[0m\u001b[1;33m,\u001b[0m \u001b[0mself\u001b[0m\u001b[1;33m)\u001b[0m\u001b[1;33m.\u001b[0m\u001b[0m__init__\u001b[0m\u001b[1;33m(\u001b[0m\u001b[1;33m)\u001b[0m\u001b[1;33m\u001b[0m\u001b[1;33m\u001b[0m\u001b[0m\n\u001b[0;32m     13\u001b[0m \u001b[1;33m\u001b[0m\u001b[0m\n\u001b[1;32m---> 14\u001b[1;33m         \u001b[0mself\u001b[0m\u001b[1;33m.\u001b[0m\u001b[0mencoder\u001b[0m \u001b[1;33m=\u001b[0m \u001b[0mEncoder\u001b[0m\u001b[1;33m(\u001b[0m\u001b[0mbatch_size\u001b[0m\u001b[1;33m,\u001b[0m \u001b[0mvocabolary_size\u001b[0m\u001b[1;33m,\u001b[0m \u001b[0membedding_dim\u001b[0m\u001b[1;33m,\u001b[0m \u001b[0mhidden_size\u001b[0m\u001b[1;33m,\u001b[0m \u001b[0mweights_matrix\u001b[0m\u001b[1;33m,\u001b[0m \u001b[0mdropout\u001b[0m\u001b[1;33m,\u001b[0m \u001b[0mdevice\u001b[0m\u001b[1;33m)\u001b[0m\u001b[1;33m\u001b[0m\u001b[1;33m\u001b[0m\u001b[0m\n\u001b[0m\u001b[0;32m     15\u001b[0m         \u001b[0mself\u001b[0m\u001b[1;33m.\u001b[0m\u001b[0mdecoder\u001b[0m \u001b[1;33m=\u001b[0m \u001b[0mAttentionDecoder\u001b[0m\u001b[1;33m(\u001b[0m\u001b[0membedding_dim\u001b[0m\u001b[1;33m,\u001b[0m \u001b[0mhidden_size\u001b[0m\u001b[1;33m,\u001b[0m \u001b[0moutput_size\u001b[0m\u001b[1;33m,\u001b[0m \u001b[0mdropout\u001b[0m\u001b[1;33m,\u001b[0m \u001b[0mdevice\u001b[0m\u001b[1;33m)\u001b[0m\u001b[1;33m\u001b[0m\u001b[1;33m\u001b[0m\u001b[0m\n\u001b[0;32m     16\u001b[0m         \u001b[0mself\u001b[0m\u001b[1;33m.\u001b[0m\u001b[0moutput_size\u001b[0m \u001b[1;33m=\u001b[0m \u001b[0moutput_size\u001b[0m\u001b[1;33m\u001b[0m\u001b[1;33m\u001b[0m\u001b[0m\n",
      "\u001b[1;32m~\\01_Projects\\02_RNN_with_Attention\\Chatty-bot\\modules.py\u001b[0m in \u001b[0;36m__init__\u001b[1;34m(self, batch_size, vocabolary_size, embedding_dim, hidden_size, weights_matrix, dropout, device)\u001b[0m\n\u001b[0;32m     14\u001b[0m         \u001b[0mself\u001b[0m\u001b[1;33m.\u001b[0m\u001b[0membedding_dim\u001b[0m \u001b[1;33m=\u001b[0m \u001b[0membedding_dim\u001b[0m\u001b[1;33m\u001b[0m\u001b[1;33m\u001b[0m\u001b[0m\n\u001b[0;32m     15\u001b[0m         \u001b[0mself\u001b[0m\u001b[1;33m.\u001b[0m\u001b[0membedding\u001b[0m \u001b[1;33m=\u001b[0m \u001b[0mnn\u001b[0m\u001b[1;33m.\u001b[0m\u001b[0mEmbedding\u001b[0m\u001b[1;33m(\u001b[0m\u001b[0mvocabolary_size\u001b[0m\u001b[1;33m,\u001b[0m \u001b[0membedding_dim\u001b[0m\u001b[1;33m,\u001b[0m \u001b[0mdevice\u001b[0m\u001b[1;33m=\u001b[0m\u001b[0mdevice\u001b[0m\u001b[1;33m)\u001b[0m\u001b[1;33m\u001b[0m\u001b[1;33m\u001b[0m\u001b[0m\n\u001b[1;32m---> 16\u001b[1;33m         \u001b[0mself\u001b[0m\u001b[1;33m.\u001b[0m\u001b[0membedding\u001b[0m\u001b[1;33m.\u001b[0m\u001b[0mload_state_dict\u001b[0m\u001b[1;33m(\u001b[0m\u001b[1;33m{\u001b[0m\u001b[1;34m'weight'\u001b[0m\u001b[1;33m:\u001b[0m \u001b[0mweights_matrix\u001b[0m\u001b[1;33m}\u001b[0m\u001b[1;33m)\u001b[0m\u001b[1;33m\u001b[0m\u001b[1;33m\u001b[0m\u001b[0m\n\u001b[0m\u001b[0;32m     17\u001b[0m         \u001b[0mself\u001b[0m\u001b[1;33m.\u001b[0m\u001b[0membedding\u001b[0m\u001b[1;33m.\u001b[0m\u001b[0mweight\u001b[0m\u001b[1;33m.\u001b[0m\u001b[0mrequires_grad\u001b[0m \u001b[1;33m=\u001b[0m \u001b[1;32mFalse\u001b[0m\u001b[1;33m\u001b[0m\u001b[1;33m\u001b[0m\u001b[0m\n\u001b[0;32m     18\u001b[0m         \u001b[0mself\u001b[0m\u001b[1;33m.\u001b[0m\u001b[0membedding\u001b[0m\u001b[1;33m.\u001b[0m\u001b[0mto\u001b[0m\u001b[1;33m(\u001b[0m\u001b[0mdevice\u001b[0m\u001b[1;33m)\u001b[0m\u001b[1;33m\u001b[0m\u001b[1;33m\u001b[0m\u001b[0m\n",
      "\u001b[1;32m~\\Anaconda3\\envs\\deeplearning\\lib\\site-packages\\torch\\nn\\modules\\module.py\u001b[0m in \u001b[0;36mload_state_dict\u001b[1;34m(self, state_dict, strict)\u001b[0m\n\u001b[0;32m   1404\u001b[0m \u001b[1;33m\u001b[0m\u001b[0m\n\u001b[0;32m   1405\u001b[0m         \u001b[1;32mif\u001b[0m \u001b[0mlen\u001b[0m\u001b[1;33m(\u001b[0m\u001b[0merror_msgs\u001b[0m\u001b[1;33m)\u001b[0m \u001b[1;33m>\u001b[0m \u001b[1;36m0\u001b[0m\u001b[1;33m:\u001b[0m\u001b[1;33m\u001b[0m\u001b[1;33m\u001b[0m\u001b[0m\n\u001b[1;32m-> 1406\u001b[1;33m             raise RuntimeError('Error(s) in loading state_dict for {}:\\n\\t{}'.format(\n\u001b[0m\u001b[0;32m   1407\u001b[0m                                self.__class__.__name__, \"\\n\\t\".join(error_msgs)))\n\u001b[0;32m   1408\u001b[0m         \u001b[1;32mreturn\u001b[0m \u001b[0m_IncompatibleKeys\u001b[0m\u001b[1;33m(\u001b[0m\u001b[0mmissing_keys\u001b[0m\u001b[1;33m,\u001b[0m \u001b[0munexpected_keys\u001b[0m\u001b[1;33m)\u001b[0m\u001b[1;33m\u001b[0m\u001b[1;33m\u001b[0m\u001b[0m\n",
      "\u001b[1;31mRuntimeError\u001b[0m: Error(s) in loading state_dict for Embedding:\n\tsize mismatch for weight: copying a param with shape (14537, 300) from checkpoint, the shape in current model is torch.Size([14537, 256])."
     ]
    }
   ],
   "source": [
    "model = Seq2Seq(batch_size, q.n_words, a.n_words, 300, 100, weights_matrix, 0.2, device, criterion)"
   ]
  },
  {
   "cell_type": "code",
   "execution_count": null,
   "id": "94be34b3",
   "metadata": {},
   "outputs": [],
   "source": [
    "if optimizer == 'Adam':\n",
    "    optimizer = torch.optim.Adam(model.parameters(), lr=lr, eps=1e-6)\n",
    "else:\n",
    "    optimizer = torch.optim.SGD(model.parameters(), lr=lr, momentum=0.9)"
   ]
  },
  {
   "cell_type": "code",
   "execution_count": null,
   "id": "e5c23f57",
   "metadata": {},
   "outputs": [],
   "source": [
    "#scheduler = ReduceLROnPlateau(optimizer, 'min', patience=5, threshold=0.001)\n",
    "#scheduler = CyclicLR(optimizer, base_lr=0.001, max_lr=0.1, step_size_up=500)"
   ]
  },
  {
   "cell_type": "code",
   "execution_count": null,
   "id": "improving-jerusalem",
   "metadata": {
    "ExecuteTime": {
     "end_time": "2021-09-01T05:34:10.025725Z",
     "start_time": "2021-09-01T05:34:07.912Z"
    }
   },
   "outputs": [],
   "source": [
    "a.n_words"
   ]
  },
  {
   "cell_type": "code",
   "execution_count": null,
   "id": "grave-prison",
   "metadata": {
    "ExecuteTime": {
     "end_time": "2021-09-01T06:40:43.816506Z",
     "start_time": "2021-09-01T06:40:43.267345Z"
    },
    "scrolled": false
   },
   "outputs": [],
   "source": [
    "from jupyterplot import ProgressPlot\n",
    "\n",
    "pp = ProgressPlot(x_label='Epoch', plot_names=['train_loss', 'train_accuracy'])\n",
    "\n",
    "for epoch in tnrange(1000, desc=\"Total epochs: \"):\n",
    "\n",
    "    print(f'Epoch {epoch + 1}: {datetime.datetime.now()}')\n",
    "\n",
    "    # Calculte loss\n",
    "    loss = epoch_train(model, optimizer, batch_size, pairs, q, a, device)\n",
    "    \n",
    "    #current_lr = optimizer.param_groups[0]['lr']\n",
    "    \n",
    "    print(f'Loss: {loss}')\n",
    "    #print(f'LR: {current_lr}')\n",
    "    \n",
    "    #scheduler.step(loss)\n",
    "    #scheduler.step()\n",
    "\n",
    "    # Calculate accuracy\n",
    "    accuracy = epoch_accuray(model, batch_size, pairs, q, a, device)\n",
    "\n",
    "    print(f'Train accuracy: {accuracy}')\n",
    "\n",
    "    # Calculate BLEU Score\n",
    "    #BLEU_model = CalculateBleu(model, batch_size, pairs, q, a, device)\n",
    "    #bleu_score = BLEU_model.score()\n",
    "\n",
    "    #print(f'BLUE score: {bleu_score}')\n",
    "\n",
    "    # Try to do interactive plot\n",
    "    pp.update([[loss], [accuracy]])\n",
    "\n",
    "pp.finalize()\n",
    "print(f\"Optimization ended successfully\")\n"
   ]
  }
 ],
 "metadata": {
  "hide_input": false,
  "kernelspec": {
   "display_name": "Python 3",
   "language": "python",
   "name": "python3"
  },
  "language_info": {
   "codemirror_mode": {
    "name": "ipython",
    "version": 3
   },
   "file_extension": ".py",
   "mimetype": "text/x-python",
   "name": "python",
   "nbconvert_exporter": "python",
   "pygments_lexer": "ipython3",
   "version": "3.8.10"
  },
  "toc": {
   "base_numbering": 1,
   "nav_menu": {},
   "number_sections": true,
   "sideBar": true,
   "skip_h1_title": false,
   "title_cell": "Table of Contents",
   "title_sidebar": "Contents",
   "toc_cell": false,
   "toc_position": {},
   "toc_section_display": true,
   "toc_window_display": false
  }
 },
 "nbformat": 4,
 "nbformat_minor": 5
}
