{
 "cells": [
  {
   "cell_type": "code",
   "execution_count": null,
   "id": "adf039e9",
   "metadata": {},
   "outputs": [],
   "source": [
    "from Calculate_BLEU import CalculateBleu\n",
    "from load_utils import prepare_data\n",
    "from seq2seq_model import *\n",
    "import numpy as np\n",
    "import torch\n",
    "from tqdm.notebook import tnrange, tqdm_notebook\n",
    "from train_utils import *\n",
    "from pylive import live_plotter\n",
    "import datetime"
   ]
  },
  {
   "cell_type": "code",
   "execution_count": null,
   "id": "8d48c197",
   "metadata": {},
   "outputs": [],
   "source": [
    "device = torch.device(\"cuda\" if torch.cuda.is_available() else \"cpu\")"
   ]
  },
  {
   "cell_type": "code",
   "execution_count": null,
   "id": "ee6383b6",
   "metadata": {},
   "outputs": [],
   "source": [
    "q, a, pairs, vector = prepare_data('test', 'glove.42B.300d/glove.42B.300d.txt', small=True)"
   ]
  },
  {
   "cell_type": "code",
   "execution_count": null,
   "id": "64b77178",
   "metadata": {},
   "outputs": [],
   "source": [
    "matrix_len = q.n_words\n",
    "weights_matrix = np.zeros((matrix_len, 300))\n",
    "word_found = 0\n",
    "for i, word in enumerate(q.word2index):\n",
    "    try:\n",
    "        weights_matrix[i] = vector[word]\n",
    "    except:\n",
    "        continue"
   ]
  },
  {
   "cell_type": "code",
   "execution_count": null,
   "id": "b0107ab9",
   "metadata": {},
   "outputs": [],
   "source": [
    "# Declaire optimizer, batch, etc..."
   ]
  },
  {
   "cell_type": "code",
   "execution_count": null,
   "id": "e1f39d5d",
   "metadata": {},
   "outputs": [],
   "source": [
    "# Initiate Model"
   ]
  },
  {
   "cell_type": "code",
   "execution_count": null,
   "id": "9060b236",
   "metadata": {},
   "outputs": [],
   "source": [
    "line1 = []\n",
    "\n",
    "# Now run for 100 epochs\n",
    "for epoch in tnrange(2, desc=\"Total epochs: \"):\n",
    "\n",
    "    print(f'Epoch {epoch + 1}: {datetime.datetime.now()}')\n",
    "  \n",
    "    # Calculte loss\n",
    "    loss = epoch_train(model, optimizer, batch_size, pairs, device)\n",
    "\n",
    "    print(f'Loss: {loss}')\n",
    "\n",
    "    # Calculate accuracy\n",
    "    accuracy = epoch_accuray(model, batch_size, pairs, a, device)\n",
    "\n",
    "    print(f'Train accuracy: {accuracy}')\n",
    "\n",
    "    # Calculate BLEU Score\n",
    "    BLEU_model = CalculateBleu(model, batch_size, pairs, q, a, device)\n",
    "    bleu_score = BLEU_model.score()\n",
    "\n",
    "    print(f'BLUE score: {bleu_score}')\n",
    "\n",
    "    # Try to do interactive plot\n",
    "    line1 = live_plotter(epoch, loss, line1)\n",
    "\n",
    "\n",
    "print(f\"Optimization ended successfully\")"
   ]
  },
  {
   "cell_type": "code",
   "execution_count": null,
   "id": "318c0f54",
   "metadata": {},
   "outputs": [],
   "source": []
  }
 ],
 "metadata": {
  "kernelspec": {
   "display_name": "Python 3",
   "language": "python",
   "name": "python3"
  },
  "language_info": {
   "codemirror_mode": {
    "name": "ipython",
    "version": 3
   },
   "file_extension": ".py",
   "mimetype": "text/x-python",
   "name": "python",
   "nbconvert_exporter": "python",
   "pygments_lexer": "ipython3",
   "version": "3.8.10"
  }
 },
 "nbformat": 4,
 "nbformat_minor": 5
}
