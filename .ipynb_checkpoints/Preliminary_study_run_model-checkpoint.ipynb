{
 "cells": [
  {
   "cell_type": "code",
   "execution_count": 1,
   "id": "bcca0dcb",
   "metadata": {},
   "outputs": [],
   "source": [
    "from load_utils import prepare_data\n",
    "from seq2seq_model import *\n",
    "import numpy as np\n",
    "import torch\n",
    "from tqdm.notebook import tnrange, tqdm_notebook"
   ]
  },
  {
   "cell_type": "code",
   "execution_count": 2,
   "id": "fdff27e8",
   "metadata": {},
   "outputs": [],
   "source": [
    "device = torch.device(\"cuda\" if torch.cuda.is_available() else \"cpu\")"
   ]
  },
  {
   "cell_type": "code",
   "execution_count": 3,
   "id": "05d1d37e",
   "metadata": {},
   "outputs": [
    {
     "name": "stdout",
     "output_type": "stream",
     "text": [
      "Reading test -------\n",
      "Read 4041 sentence pairs\n",
      "Counting words\n",
      "Counted words:\n",
      "In questions: 5087 words\n",
      "In answers: 394 words\n"
     ]
    }
   ],
   "source": [
    "q, a, pairs, vector = prepare_data('test', 'glove.42B.300d/glove.42B.300d.txt', small=True)"
   ]
  },
  {
   "cell_type": "code",
   "execution_count": 4,
   "id": "972cd0b4",
   "metadata": {},
   "outputs": [],
   "source": [
    "matrix_len = q.n_words\n",
    "weights_matrix = np.zeros((matrix_len, 300))\n",
    "word_found = 0\n",
    "for i, word in enumerate(q.word2index):\n",
    "    try:\n",
    "        weights_matrix[i] = vector[word]\n",
    "    except:\n",
    "        continue"
   ]
  },
  {
   "cell_type": "code",
   "execution_count": 25,
   "id": "96c89bea",
   "metadata": {},
   "outputs": [],
   "source": [
    "input = torch.randn(3, 5, requires_grad=True)\n",
    "target = torch.randn(3, 5)\n",
    "\n",
    "mae_loss = nn.L1Loss()\n",
    "loss = mae_loss(input, target)"
   ]
  },
  {
   "cell_type": "code",
   "execution_count": 36,
   "id": "c856c686",
   "metadata": {},
   "outputs": [
    {
     "data": {
      "text/plain": [
       "tensor(1.6003)"
      ]
     },
     "execution_count": 36,
     "metadata": {},
     "output_type": "execute_result"
    }
   ],
   "source": [
    "loss.data.cpu()"
   ]
  },
  {
   "cell_type": "code",
   "execution_count": 40,
   "id": "82eebad3",
   "metadata": {},
   "outputs": [
    {
     "data": {
      "text/plain": [
       "51.2104606628418"
      ]
     },
     "execution_count": 40,
     "metadata": {},
     "output_type": "execute_result"
    }
   ],
   "source": [
    "loss.detach().numpy()*32"
   ]
  },
  {
   "cell_type": "code",
   "execution_count": null,
   "id": "e65455ff",
   "metadata": {},
   "outputs": [],
   "source": [
    "# Declaire optimizer, batch, etc...\n",
    "\n",
    "# Initiate Model\n"
   ]
  },
  {
   "cell_type": "code",
   "execution_count": null,
   "id": "cbdadb4c",
   "metadata": {},
   "outputs": [],
   "source": [
    "# Now run for 100 epochs\n",
    "for epoch in tnrange(100, desc=\"Total epochs: \"):\n",
    "  \n",
    "    # Calculte loss\n",
    "    loss = epoch_train(model, optimizer, batch_size, pairs, device)\n",
    "\n",
    "    # Calculate accuracy\n",
    "    \n",
    "\n",
    "    # Try to do interactive plot\n",
    "    \n",
    "\n",
    "    \n",
    "\n",
    "print(f\"Optimization ended successfully\")"
   ]
  }
 ],
 "metadata": {
  "kernelspec": {
   "display_name": "Python 3",
   "language": "python",
   "name": "python3"
  },
  "language_info": {
   "codemirror_mode": {
    "name": "ipython",
    "version": 3
   },
   "file_extension": ".py",
   "mimetype": "text/x-python",
   "name": "python",
   "nbconvert_exporter": "python",
   "pygments_lexer": "ipython3",
   "version": "3.8.10"
  }
 },
 "nbformat": 4,
 "nbformat_minor": 5
}
