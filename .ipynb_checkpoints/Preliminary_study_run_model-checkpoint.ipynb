{
 "cells": [
  {
   "cell_type": "code",
   "execution_count": 1,
   "id": "e09baaea",
   "metadata": {},
   "outputs": [],
   "source": [
    "from load_utils import prepare_data\n",
    "from seq2seq_model import *\n",
    "import numpy as np\n",
    "import torch\n",
    "from tqdm.notebook import tnrange, tqdm_notebook"
   ]
  },
  {
   "cell_type": "code",
   "execution_count": 2,
   "id": "0321d3e1",
   "metadata": {},
   "outputs": [],
   "source": [
    "device = torch.device(\"cuda\" if torch.cuda.is_available() else \"cpu\")"
   ]
  },
  {
   "cell_type": "code",
   "execution_count": 3,
   "id": "5c5b05d8",
   "metadata": {},
   "outputs": [
    {
     "name": "stdout",
     "output_type": "stream",
     "text": [
      "Reading test -------\n",
      "Read 4041 sentence pairs\n",
      "Counting words\n",
      "Counted words:\n",
      "In questions: 5087 words\n",
      "In answers: 394 words\n"
     ]
    }
   ],
   "source": [
    "q, a, pairs, vector = prepare_data('test', 'glove.42B.300d/glove.42B.300d.txt', small=True)"
   ]
  },
  {
   "cell_type": "code",
   "execution_count": 4,
   "id": "8fe17cdb",
   "metadata": {},
   "outputs": [],
   "source": [
    "matrix_len = q.n_words\n",
    "weights_matrix = np.zeros((matrix_len, 300))\n",
    "word_found = 0\n",
    "for i, word in enumerate(q.word2index):\n",
    "    try:\n",
    "        weights_matrix[i] = vector[word]\n",
    "    except:\n",
    "        continue"
   ]
  },
  {
   "cell_type": "code",
   "execution_count": null,
   "id": "3b3ac440",
   "metadata": {},
   "outputs": [],
   "source": []
  }
 ],
 "metadata": {
  "kernelspec": {
   "display_name": "Python 3",
   "language": "python",
   "name": "python3"
  },
  "language_info": {
   "codemirror_mode": {
    "name": "ipython",
    "version": 3
   },
   "file_extension": ".py",
   "mimetype": "text/x-python",
   "name": "python",
   "nbconvert_exporter": "python",
   "pygments_lexer": "ipython3",
   "version": "3.8.10"
  }
 },
 "nbformat": 4,
 "nbformat_minor": 5
}
