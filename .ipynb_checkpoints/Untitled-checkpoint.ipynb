{
 "cells": [
  {
   "cell_type": "code",
   "execution_count": 1,
   "id": "90ef02d8",
   "metadata": {},
   "outputs": [],
   "source": [
    "from model.utils.load_utils import prepare_data\n",
    "from model.utils.train_utils import *"
   ]
  },
  {
   "cell_type": "code",
   "execution_count": 2,
   "id": "d4632d4e",
   "metadata": {},
   "outputs": [
    {
     "name": "stdout",
     "output_type": "stream",
     "text": [
      "Reading train -------\n",
      "Read 45544 sentence pairs\n",
      "Counting words\n",
      "Counted words:\n",
      "In questions: 16872 words\n",
      "In answers: 14638 words\n",
      "Reading validation -------\n",
      "Read 4217 sentence pairs\n",
      "Counting words\n",
      "Counted words:\n",
      "In questions: 11087 words\n",
      "In answers: 4543 words\n"
     ]
    }
   ],
   "source": [
    "q, a, train_pairs, vector = prepare_data('train', 'glove.42B.300d/glove.42B.300d.txt', small=True)\n",
    "_, _, pairs, _ = prepare_data('validation', 'glove.42B.300d/glove.42B.300d.txt', small=True)"
   ]
  },
  {
   "cell_type": "code",
   "execution_count": 3,
   "id": "39569c04",
   "metadata": {},
   "outputs": [
    {
     "ename": "SyntaxError",
     "evalue": "invalid syntax (<ipython-input-3-c79164c91d8e>, line 25)",
     "output_type": "error",
     "traceback": [
      "\u001b[1;36m  File \u001b[1;32m\"<ipython-input-3-c79164c91d8e>\"\u001b[1;36m, line \u001b[1;32m25\u001b[0m\n\u001b[1;33m    true_batch.append(row_list)\u001b[0m\n\u001b[1;37m    ^\u001b[0m\n\u001b[1;31mSyntaxError\u001b[0m\u001b[1;31m:\u001b[0m invalid syntax\n"
     ]
    }
   ],
   "source": [
    "device = torch.device(\"cuda\" if torch.cuda.is_available() else \"cpu\")\n",
    "\n",
    "# Gets number total number of rows for training\n",
    "n_records = len(pairs)\n",
    "    \n",
    "# Shuffle the row indexes \n",
    "perm = np.array(range(n_records))\n",
    "\n",
    "batch_size = 32\n",
    "\n",
    "#encoder_in, decoder_in, enc_length, seq_length, mask = to_batch_sequence(pairs, q, a, 0, 16, perm, device)\n",
    "st = 0\n",
    "\n",
    "while st < n_records:\n",
    "        ed = st + batch_size if (st + batch_size) < n_records else n_records\n",
    "    \n",
    "        encoder_in, decoder_in, enc_length, seq_length, mask = to_batch_sequence(pairs, q, a, st, ed, perm, device)\n",
    "        \n",
    "        true_batch = []\n",
    "\n",
    "        for idx in range(st, ed):\n",
    "            row_list = []\n",
    "            for word in pairs[idx][1].split():\n",
    "                row_list.append(a.word2index.get(word,3))\n",
    "            true_batch.append(row_list)\n",
    "        \n",
    "        st = ed"
   ]
  },
  {
   "cell_type": "code",
   "execution_count": null,
   "id": "0c69ba5c",
   "metadata": {},
   "outputs": [],
   "source": [
    "pairs[1]"
   ]
  },
  {
   "cell_type": "code",
   "execution_count": null,
   "id": "761b839b",
   "metadata": {},
   "outputs": [],
   "source": [
    "q.index2word[3]"
   ]
  },
  {
   "cell_type": "code",
   "execution_count": null,
   "id": "64998df1",
   "metadata": {},
   "outputs": [],
   "source": [
    "q.index2word[57]"
   ]
  },
  {
   "cell_type": "code",
   "execution_count": null,
   "id": "14f6f269",
   "metadata": {},
   "outputs": [],
   "source": [
    "encoder_in"
   ]
  },
  {
   "cell_type": "code",
   "execution_count": null,
   "id": "9e5f1568",
   "metadata": {},
   "outputs": [],
   "source": [
    "decoder_in"
   ]
  },
  {
   "cell_type": "code",
   "execution_count": null,
   "id": "51f2a45a",
   "metadata": {},
   "outputs": [],
   "source": [
    "true_batch"
   ]
  },
  {
   "cell_type": "code",
   "execution_count": null,
   "id": "04924659",
   "metadata": {},
   "outputs": [],
   "source": []
  }
 ],
 "metadata": {
  "kernelspec": {
   "display_name": "Python 3",
   "language": "python",
   "name": "python3"
  },
  "language_info": {
   "codemirror_mode": {
    "name": "ipython",
    "version": 3
   },
   "file_extension": ".py",
   "mimetype": "text/x-python",
   "name": "python",
   "nbconvert_exporter": "python",
   "pygments_lexer": "ipython3",
   "version": "3.8.10"
  }
 },
 "nbformat": 4,
 "nbformat_minor": 5
}
