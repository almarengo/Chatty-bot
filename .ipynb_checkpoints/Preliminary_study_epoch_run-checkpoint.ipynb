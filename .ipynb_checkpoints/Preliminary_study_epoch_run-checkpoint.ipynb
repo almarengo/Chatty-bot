{
 "cells": [
  {
   "cell_type": "code",
   "execution_count": 1,
   "id": "cb7a37a4",
   "metadata": {},
   "outputs": [],
   "source": [
    "from load_utils import prepare_data\n",
    "import numpy as np\n",
    "import torch\n",
    "from torch import nn\n",
    "import torch.nn.functional as F\n",
    "from tqdm.notebook import tnrange, tqdm_notebook"
   ]
  },
  {
   "cell_type": "code",
   "execution_count": 2,
   "id": "b62498d5",
   "metadata": {},
   "outputs": [
    {
     "name": "stdout",
     "output_type": "stream",
     "text": [
      "Reading test -------\n",
      "Read 4041 sentence pairs\n",
      "Counting words\n",
      "Counted words:\n",
      "In questions: 5087 words\n",
      "In answers: 394 words\n"
     ]
    }
   ],
   "source": [
    "q, a, pairs, vector = prepare_data('test', 'glove.42B.300d/glove.42B.300d.txt', small=True)"
   ]
  },
  {
   "cell_type": "code",
   "execution_count": 3,
   "id": "84bb40b8",
   "metadata": {},
   "outputs": [
    {
     "name": "stdout",
     "output_type": "stream",
     "text": [
      "Optimization ended successfully\n"
     ]
    }
   ],
   "source": [
    "def epoch_train(model, optimizer, batch_size, pairs):\n",
    "    \n",
    "    # Set the model in train mode\n",
    "    model.train()\n",
    "    \n",
    "    # Gets number total number of rows for training\n",
    "    n_records = len(pairs)\n",
    "    \n",
    "    # Shuffle the row indexes \n",
    "    perm = np.random.permutation(n_records)\n",
    "    \n",
    "    st = 0\n",
    "    \n",
    "    while st < n_records:\n",
    "        \n",
    "        ed = st + batch_size if (st + batch_size) < n_records else n_records\n",
    "    \n",
    "        encoder_in, decoder_in = to_batch_sequence(pairs, st, ed, perm)\n",
    "\n",
    "        # Calculate outputs and loss\n",
    "        output_values, loss = model(encoder_in, decoder_in)\n",
    "        \n",
    "        # Clear gradients (pytorch accumulates gradients by default)\n",
    "        optimizer.zero_grad() \n",
    "\n",
    "        # Backpropagation & weight adjustment\n",
    "        loss.backward()\n",
    "        optimizer.step()\n",
    "        \n",
    "        st = ed\n",
    "\n",
    "print(f\"Optimization ended successfully\")"
   ]
  },
  {
   "cell_type": "code",
   "execution_count": 5,
   "id": "f6205f44",
   "metadata": {},
   "outputs": [
    {
     "data": {
      "text/plain": [
       "array([2523, 2369, 1514, ..., 3609,  571, 2569])"
      ]
     },
     "execution_count": 5,
     "metadata": {},
     "output_type": "execute_result"
    }
   ],
   "source": [
    "perm = np.random.permutation(len(pairs))\n",
    "perm "
   ]
  },
  {
   "cell_type": "code",
   "execution_count": 58,
   "id": "7ca29707",
   "metadata": {},
   "outputs": [],
   "source": [
    "def to_batch_sequence(pairs, st, ed, perm, device):\n",
    "    \n",
    "    encoder_in = []\n",
    "    decoder_in = []\n",
    "    for i in range(st, ed):\n",
    "        \n",
    "        pair_batch = pairs[perm[i]]\n",
    "        encoder_in.append(pair_batch[0])\n",
    "        decoder_in.append(pair_batch[1])\n",
    "    \n",
    "    encoder_in = [[q.word2index.get(idx) for idx in encoder_in[row].split()] for row in range(len(encoder_in))]\n",
    "    decoder_in = [[q.word2index.get(idx) for idx in decoder_in[row].split()] for row in range(len(decoder_in))]\n",
    "    \n",
    "    encoder_lengths = [len(row) for row in encoder_in]\n",
    "    decoder_lengths = [len(row) for row in decoder_in]\n",
    "    \n",
    "    max_encoder_length = max(encoder_lengths)\n",
    "    max_decoder_length = max(decoder_lengths)\n",
    "    \n",
    "    encoder_in_tensor = torch.zeros(ed, max_encoder_length, device=device, dtype=torch.float)\n",
    "    decoder_in_tensor = torch.zeros(ed, max_decoder_length, device=device, dtype=torch.float)\n",
    "        \n",
    "    return encoder_in, decoder_in"
   ]
  },
  {
   "cell_type": "code",
   "execution_count": 9,
   "id": "82ee3b24",
   "metadata": {},
   "outputs": [],
   "source": [
    "pair_batch = pairs[perm[0]]"
   ]
  },
  {
   "cell_type": "code",
   "execution_count": 10,
   "id": "07732460",
   "metadata": {},
   "outputs": [
    {
     "data": {
      "text/plain": [
       "''"
      ]
     },
     "execution_count": 10,
     "metadata": {},
     "output_type": "execute_result"
    }
   ],
   "source": [
    "pair_batch[0]"
   ]
  },
  {
   "cell_type": "code",
   "execution_count": 11,
   "id": "364f051d",
   "metadata": {},
   "outputs": [
    {
     "data": {
      "text/plain": [
       "'i don t know .'"
      ]
     },
     "execution_count": 11,
     "metadata": {},
     "output_type": "execute_result"
    }
   ],
   "source": [
    "pair_batch[1]"
   ]
  },
  {
   "cell_type": "code",
   "execution_count": 59,
   "id": "0f10212a",
   "metadata": {},
   "outputs": [],
   "source": [
    "encoder_in, decoder_in = to_batch_sequence(pairs, 0, 32, perm)"
   ]
  },
  {
   "cell_type": "code",
   "execution_count": 60,
   "id": "4fed844c",
   "metadata": {},
   "outputs": [
    {
     "data": {
      "text/plain": [
       "[[],\n",
       " [12, 138, 14, 232, 68, 4407, 2, 32, 997, 232, None, 2],\n",
       " [56,\n",
       "  49,\n",
       "  35,\n",
       "  155,\n",
       "  4,\n",
       "  160,\n",
       "  6,\n",
       "  1784,\n",
       "  38,\n",
       "  73,\n",
       "  40,\n",
       "  35,\n",
       "  696,\n",
       "  17,\n",
       "  20,\n",
       "  38,\n",
       "  771,\n",
       "  63,\n",
       "  2002,\n",
       "  9,\n",
       "  178,\n",
       "  292,\n",
       "  10,\n",
       "  14,\n",
       "  None,\n",
       "  5,\n",
       "  828,\n",
       "  2],\n",
       " [101, 2446, None, 2, 84, 43, 12, 173, 16, 38],\n",
       " [12,\n",
       "  753,\n",
       "  20,\n",
       "  None,\n",
       "  305,\n",
       "  3020,\n",
       "  2,\n",
       "  12,\n",
       "  794,\n",
       "  65,\n",
       "  4,\n",
       "  217,\n",
       "  59,\n",
       "  41,\n",
       "  4123,\n",
       "  4,\n",
       "  229,\n",
       "  23,\n",
       "  3,\n",
       "  651,\n",
       "  20,\n",
       "  16,\n",
       "  54,\n",
       "  63,\n",
       "  235,\n",
       "  2],\n",
       " [14, 232, 876, 2, 56, 54, 1898, 1, 2693, 3, None, 38],\n",
       " [24, 16, 1452, 38],\n",
       " [84, 141, 1, 907, 873, 104, 921, 10, 615, 540, 2552, 38],\n",
       " [418, 2],\n",
       " [934, 35, 504, 1, 748, 4730, 2071, 38],\n",
       " [648, 12, 87, 1196, 2, 56, 232, 18, 1121, 25, 98, 38],\n",
       " [648, 53, 46, 12, 2],\n",
       " [101,\n",
       "  796,\n",
       "  2,\n",
       "  42,\n",
       "  248,\n",
       "  9,\n",
       "  2201,\n",
       "  2,\n",
       "  985,\n",
       "  2,\n",
       "  12,\n",
       "  753,\n",
       "  28,\n",
       "  1421,\n",
       "  2,\n",
       "  108,\n",
       "  9,\n",
       "  42,\n",
       "  540,\n",
       "  2],\n",
       " [14,\n",
       "  232,\n",
       "  553,\n",
       "  2,\n",
       "  37,\n",
       "  49,\n",
       "  16,\n",
       "  761,\n",
       "  14,\n",
       "  359,\n",
       "  9,\n",
       "  1,\n",
       "  114,\n",
       "  410,\n",
       "  3631,\n",
       "  5,\n",
       "  6,\n",
       "  345,\n",
       "  16,\n",
       "  None,\n",
       "  1119,\n",
       "  14,\n",
       "  9,\n",
       "  33,\n",
       "  189,\n",
       "  724,\n",
       "  66,\n",
       "  35,\n",
       "  1024,\n",
       "  16,\n",
       "  6,\n",
       "  1664,\n",
       "  2],\n",
       " [46, 16, 29, 6, 811, 10, 489, 228, 38],\n",
       " [115, 75, 16, 228, 144, 4, 6, 1276, 437, 20, 71, 38],\n",
       " [119,\n",
       "  280,\n",
       "  232,\n",
       "  107,\n",
       "  49,\n",
       "  35,\n",
       "  43,\n",
       "  148,\n",
       "  78,\n",
       "  843,\n",
       "  None,\n",
       "  3,\n",
       "  35,\n",
       "  43,\n",
       "  144,\n",
       "  1505,\n",
       "  1,\n",
       "  266,\n",
       "  5,\n",
       "  1,\n",
       "  137,\n",
       "  2],\n",
       " [12, 1185, 12, 30, 2085, 10, 178, 140, 2],\n",
       " [66, 40, 14, 27, 886, 38],\n",
       " [12, None, 768, 695, 2],\n",
       " [142, 123, 16, 155, 4, 144, 10, 2218, 38],\n",
       " [53, 12, 753, 18, 1, 3774, 1133, 38, 84, 229, 22, 353, 51, 74, 2411, 1133, 2],\n",
       " [75, 16, 65, 4, 160, 6, 191, 25, 1, 1778, 3261, 38],\n",
       " [],\n",
       " [5043, None, 668, 2139, 38],\n",
       " [934, 35, 29, 1659, 464, 38],\n",
       " [68, 6, 2299, 228, 2],\n",
       " [],\n",
       " [101, 1624, 3356, 258, 2, 22, 9, None, None, 12, 160, 32, 307, 38],\n",
       " [101,\n",
       "  1624,\n",
       "  3261,\n",
       "  2,\n",
       "  12,\n",
       "  229,\n",
       "  4,\n",
       "  109,\n",
       "  1,\n",
       "  955,\n",
       "  2,\n",
       "  934,\n",
       "  12,\n",
       "  46,\n",
       "  17,\n",
       "  96,\n",
       "  31,\n",
       "  611,\n",
       "  38],\n",
       " [124,\n",
       "  16,\n",
       "  46,\n",
       "  71,\n",
       "  6,\n",
       "  3885,\n",
       "  3,\n",
       "  None,\n",
       "  42,\n",
       "  4820,\n",
       "  168,\n",
       "  12,\n",
       "  691,\n",
       "  17,\n",
       "  60,\n",
       "  4,\n",
       "  1,\n",
       "  619,\n",
       "  879,\n",
       "  743,\n",
       "  38],\n",
       " []]"
      ]
     },
     "execution_count": 60,
     "metadata": {},
     "output_type": "execute_result"
    }
   ],
   "source": [
    "encoder_in"
   ]
  },
  {
   "cell_type": "code",
   "execution_count": 63,
   "id": "1f97dafe",
   "metadata": {},
   "outputs": [
    {
     "data": {
      "text/plain": [
       "[0,\n",
       " 12,\n",
       " 28,\n",
       " 10,\n",
       " 26,\n",
       " 12,\n",
       " 4,\n",
       " 12,\n",
       " 2,\n",
       " 8,\n",
       " 12,\n",
       " 5,\n",
       " 20,\n",
       " 33,\n",
       " 9,\n",
       " 12,\n",
       " 22,\n",
       " 9,\n",
       " 6,\n",
       " 5,\n",
       " 9,\n",
       " 17,\n",
       " 12,\n",
       " 0,\n",
       " 5,\n",
       " 6,\n",
       " 5,\n",
       " 0,\n",
       " 14,\n",
       " 19,\n",
       " 21,\n",
       " 0]"
      ]
     },
     "execution_count": 63,
     "metadata": {},
     "output_type": "execute_result"
    }
   ],
   "source": [
    "[len(row) for row in encoder_in]"
   ]
  },
  {
   "cell_type": "code",
   "execution_count": 67,
   "id": "d9356577",
   "metadata": {},
   "outputs": [
    {
     "data": {
      "text/plain": [
       "tensor([[0., 0., 0.,  ..., 0., 0., 0.],\n",
       "        [0., 0., 0.,  ..., 0., 0., 0.],\n",
       "        [0., 0., 0.,  ..., 0., 0., 0.],\n",
       "        ...,\n",
       "        [0., 0., 0.,  ..., 0., 0., 0.],\n",
       "        [0., 0., 0.,  ..., 0., 0., 0.],\n",
       "        [0., 0., 0.,  ..., 0., 0., 0.]])"
      ]
     },
     "execution_count": 67,
     "metadata": {},
     "output_type": "execute_result"
    }
   ],
   "source": [
    "torch.zeros(32, 33, device='cpu', dtype=torch.float)"
   ]
  }
 ],
 "metadata": {
  "kernelspec": {
   "display_name": "Python 3",
   "language": "python",
   "name": "python3"
  },
  "language_info": {
   "codemirror_mode": {
    "name": "ipython",
    "version": 3
   },
   "file_extension": ".py",
   "mimetype": "text/x-python",
   "name": "python",
   "nbconvert_exporter": "python",
   "pygments_lexer": "ipython3",
   "version": "3.8.10"
  }
 },
 "nbformat": 4,
 "nbformat_minor": 5
}
