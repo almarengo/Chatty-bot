{
 "cells": [
  {
   "cell_type": "code",
   "execution_count": 4,
   "id": "a05f8356",
   "metadata": {},
   "outputs": [],
   "source": [
    "import numpy as np"
   ]
  },
  {
   "cell_type": "code",
   "execution_count": 14,
   "id": "aad5f44c",
   "metadata": {},
   "outputs": [],
   "source": [
    "size = 100\n",
    "x_vec = np.linspace(0,1,size+1)[0:-1]"
   ]
  },
  {
   "cell_type": "code",
   "execution_count": 15,
   "id": "9dccd6d8",
   "metadata": {},
   "outputs": [
    {
     "data": {
      "text/plain": [
       "100"
      ]
     },
     "execution_count": 15,
     "metadata": {},
     "output_type": "execute_result"
    }
   ],
   "source": [
    "len(x_vec)"
   ]
  },
  {
   "cell_type": "code",
   "execution_count": 16,
   "id": "ca1d7661",
   "metadata": {},
   "outputs": [],
   "source": [
    "y_vec = np.random.randn(len(x_vec))"
   ]
  },
  {
   "cell_type": "code",
   "execution_count": 18,
   "id": "c6ff3e22",
   "metadata": {},
   "outputs": [
    {
     "data": {
      "text/plain": [
       "array([ 0.40111612, -0.38183098,  0.67976665,  0.24844438,  2.22678687,\n",
       "        0.85091205,  1.18287374,  0.99563507, -0.61984879, -0.50837984,\n",
       "        0.13749208,  0.46542603,  1.08191834,  0.45711584, -0.71369928,\n",
       "        1.06902741,  1.36717715,  0.08854069,  0.88954665,  0.39202937,\n",
       "        0.52781505, -1.2736529 , -0.13868885,  0.43621371, -0.01790371,\n",
       "        1.11131171,  0.39250185, -0.33045204,  0.45656647, -0.44448411,\n",
       "        2.4881342 , -1.87084755, -0.54991704, -0.69056224,  0.97634669,\n",
       "       -0.26649213,  0.09566364, -0.14830734,  0.04384859, -1.22586721,\n",
       "       -0.1208099 ,  1.11197372,  0.2763258 , -1.78457852, -0.1057854 ,\n",
       "       -0.598141  ,  1.95608347,  0.82545155, -0.78655686, -1.10521585,\n",
       "        0.01107494,  0.35015946, -0.12991373, -0.54500306, -0.97834395,\n",
       "        1.44943989,  0.28828842,  0.31871697,  0.2530194 ,  2.04520291,\n",
       "        1.781533  , -1.48152093,  1.36556135, -1.29574512,  0.44969701,\n",
       "       -0.25879445,  0.22054545, -0.01756099, -0.89193072,  1.28634949,\n",
       "        0.27302084, -1.99959613,  0.340928  ,  1.18037832,  0.67142258,\n",
       "       -0.83342276, -0.17248069,  0.1724452 , -1.61524723,  0.45491065,\n",
       "       -1.27298708,  0.62171776,  0.34657248,  0.46899361,  1.41838649,\n",
       "       -1.26857445,  0.3696021 , -0.75604078,  0.6727137 ,  0.67182816,\n",
       "        0.89998995, -0.61415478,  0.19659006,  0.54951309, -1.21375968,\n",
       "        1.68506636, -1.23508013,  0.19123337,  0.00675441, -1.05402641])"
      ]
     },
     "execution_count": 18,
     "metadata": {},
     "output_type": "execute_result"
    }
   ],
   "source": [
    "y_vec"
   ]
  },
  {
   "cell_type": "code",
   "execution_count": 3,
   "id": "beacf658",
   "metadata": {},
   "outputs": [],
   "source": [
    "size = 100\n",
    "x_vec = np.linspace(0,1,size+1)[0:-1]\n",
    "y_vec = np.random.randn(len(x_vec))\n",
    "line1 = []\n",
    "while True:\n",
    "    rand_val = np.random.randn(1)\n",
    "    y_vec[-1] = rand_val\n",
    "    line1 = live_plotter(x_vec,y_vec,line1)\n",
    "    y_vec = np.append(y_vec[1:],0.0)"
   ]
  },
  {
   "cell_type": "code",
   "execution_count": 1,
   "id": "f4eb049e",
   "metadata": {},
   "outputs": [],
   "source": [
    "import numpy as np\n",
    "from matplotlib import pyplot as plt\n",
    "\n",
    "class LivePlotNotebook(object):\n",
    "    \"\"\"\n",
    "    Live plot using %matplotlib notebook in jupyter notebook\n",
    "    \n",
    "    Usage:\n",
    "    ```\n",
    "    import time\n",
    "    liveplot = LivePlotNotebook()\n",
    "    x=np.random.random((10,))\n",
    "    for i in range(10):\n",
    "        time.sleep(1)\n",
    "        liveplot.update(\n",
    "            x=x+np.random.random(x.shape)/10,\n",
    "            actions=np.random.randint(0, 3, size=(10,))\n",
    "        )\n",
    "    ```\n",
    "    \n",
    "    url:\n",
    "    \"\"\"\n",
    "\n",
    "    def __init__(self):\n",
    "        %matplotlib notebook\n",
    "        fig,ax = plt.subplots(1,1)\n",
    "        \n",
    "        ax.plot([0]*20, label='price')\n",
    "        ax.plot([1]*20, [1]*20, 'o', ms=12,c='gray', label='hold')\n",
    "        ax.plot([0]*20, [0]*20, '^', ms=12,c='blue', label='buy' )\n",
    "        ax.plot([0]*20, [0]*20, 'v', ms=12,c='red', label='sell')\n",
    "        \n",
    "        ax.set_xlim(0,1)\n",
    "        ax.set_ylim(0,1)\n",
    "        ax.legend()\n",
    "        ax.set_xlabel('timesteps')\n",
    "        ax.grid()\n",
    "        ax.set_title('actions')\n",
    "        \n",
    "        self.ax = ax\n",
    "        self.fig = fig\n",
    "\n",
    "    def update(self, x, actions):             \n",
    "        # update price\n",
    "        line = self.ax.lines[0]\n",
    "        line.set_xdata(range(len(x)))\n",
    "        line.set_ydata(x)\n",
    "        \n",
    "        # update action plots\n",
    "        for i, line in enumerate(self.ax.lines[1:]):\n",
    "            line.set_xdata(np.argwhere(actions==i).T)\n",
    "            line.set_ydata(x[actions==i])\n",
    "            line.set_marker(['o','^','v'][i])\n",
    "\n",
    "        # update limits\n",
    "        self.ax.set_xlim(0, len(actions))\n",
    "        self.ax.set_ylim(x.min(), x.max())\n",
    "\n",
    "        self.fig.canvas.draw()\n",
    "        "
   ]
  },
  {
   "cell_type": "code",
   "execution_count": 2,
   "id": "92d3c4ac",
   "metadata": {},
   "outputs": [
    {
     "data": {
      "image/png": "[encoded data removed]",
      "text/plain": [
       "<Figure size 432x288 with 1 Axes>"
      ]
     },
     "metadata": {
      "needs_background": "light"
     },
     "output_type": "display_data"
    }
   ],
   "source": [
    "# Test\n",
    "import time\n",
    "liveplot = LivePlotNotebook()\n",
    "x=np.random.random((10,))\n",
    "for i in range(10):\n",
    "    time.sleep(1)\n",
    "    liveplot.update(\n",
    "        x=x+np.random.random(x.shape)/10,\n",
    "        actions=np.random.randint(0, 3, size=(10,)))"
   ]
  },
  {
   "cell_type": "code",
   "execution_count": null,
   "id": "930db641",
   "metadata": {},
   "outputs": [],
   "source": []
  }
 ],
 "metadata": {
  "kernelspec": {
   "display_name": "Python 3",
   "language": "python",
   "name": "python3"
  },
  "language_info": {
   "codemirror_mode": {
    "name": "ipython",
    "version": 3
   },
   "file_extension": ".py",
   "mimetype": "text/x-python",
   "name": "python",
   "nbconvert_exporter": "python",
   "pygments_lexer": "ipython3",
   "version": "3.8.10"
  }
 },
 "nbformat": 4,
 "nbformat_minor": 5
}
