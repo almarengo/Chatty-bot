{
 "cells": [
  {
   "cell_type": "code",
   "execution_count": 1,
   "id": "627c0da8",
   "metadata": {},
   "outputs": [],
   "source": [
    "from load_utils import prepare_data\n",
    "import numpy as np\n",
    "import torch\n",
    "from torch import nn\n",
    "import torch.nn.functional as F"
   ]
  },
  {
   "cell_type": "code",
   "execution_count": 2,
   "id": "d885b9af",
   "metadata": {},
   "outputs": [],
   "source": [
    "def load_glove(file_path, small=True):\n",
    "    idx = 0\n",
    "    vectors = {}\n",
    "    word2idx = {}\n",
    "    words = []\n",
    "    with open(file_path, encoding='utf8') as lines:\n",
    "        for line in lines:\n",
    "            if small and idx > 5000:\n",
    "                break\n",
    "            line = line.split()\n",
    "            word2idx[line[0].lower()] = idx\n",
    "            vectors[line[0].lower()] = np.array(list(line[1:]), dtype='float')\n",
    "            idx += 1\n",
    "    return vectors, word2idx"
   ]
  },
  {
   "cell_type": "code",
   "execution_count": 3,
   "id": "cbf2197e",
   "metadata": {},
   "outputs": [],
   "source": [
    "vec, word2idx = load_glove('glove.42B.300d/glove.42B.300d.txt')"
   ]
  },
  {
   "cell_type": "code",
   "execution_count": 4,
   "id": "a4a627a7",
   "metadata": {},
   "outputs": [
    {
     "data": {
      "text/plain": [
       "dict_keys([',', 'the', '.', 'and', 'to', 'of', 'a', 'in', '\"', 'is', 'for', ':', 'i', ')', 'that', '(', 'you', 'it', 'on', '-', 'with', \"'s\", 'this', 'by', 'are', 'at', 'as', 'be', 'from', 'have', 'was', 'or', 'your', 'not', '...', 'we', '!', 'but', '?', 'all', 'will', 'an', 'my', 'can', 'they', \"n't\", 'do', 'he', 'more', 'if', 'one', 'has', '|', 'so', 'about', 'new', 'what', 'his', 'there', 'up', 'out', ';', 'their', 'our', \"'\", 'like', 'when', '$', 'just', 'time', '&', 'me', 'which', 'who', 'no', 'would', '/', '1', 'some', 'get', '[', ']', 'also', 'other', 'how', 'may', 'had', 'am', 'been', '2', 'her', 'were', 'them', 'people', 'she', 'any', 'now', 'only', 'pm', 'first', 'than', 'good', '>', 'into', 'its', 'these', 'us', 'see', 'here', 'make', 'home', '3', 'very', 'over', 'most', 'then', 'know', 'said', 'after', 'well', 'use', 'two', '%', 'did', 'could', 'day', 'great', 'free', 'many', 'back', 'way', 'work', 'because', \"'m\", 'best', 'should', 'even', 'year', 'think', 'years', 'much', 'does', 'where', '4', 'go', 'love', 'need', 'last', 'find', '2012', '=', 'world', 'really', 'information', 'through', 'want', '#', '5', 'him', 'right', 'take', 'views', 'such', 'made', 'those', 'business', 'life', '2011', 'before', 'being', '--', 'off', 'used', 'help', '10', 'while', 'posted', \"'re\", 'too', 'still', \"'ve\", 'down', '2010', 'going', 'video', 'part', 'online', 'each', 'little', 'high', '+', 'look', 'around', 'same', 'game', 'read', 'service', '2009', 'long', 'why', 'school', 'state', '6', 'post', 'city', 'own', 'every', 'system', 'next', \"'ll\", 'news', 'site', 'say', 'got', 'both', 'under', 'top', 'set', 'another', 'since', 'things', 'available', 'show', 'place', 'using', 'better', 'page', 'never', 'please', 'come', 'big', 'today', 's', 'family', 'music', 'services', 'full', 'something', 'number', 'company', 'few', '7', 'price', 'ca', 'between', 'days', 'book', '0', 'name', 'view', 'found', 'ago', 'real', 'without', 'old', 'search', 'always', 'black', 'house', '2008', 'three', '8', 'man', 'must', 'during', 'again', 'end', '12', 'different', 'lot', 'health', 'looking', 'week', 'sure', 'group', 'give', '20', 'team', 'power', 'times', 'let', 'car', 'area', 'buy', 'money', 'water', 'keep', 'support', 'web', 'data', 'live', 'comments', 'small', '.....', 'play', 'including', 'x', 'thing', 'list', 'put', 'children', 'design', 'women', 'might', 'white', 'public', 'point', 'order', '2013', 'call', 'second', 'local', 'says', 'case', 'care', 'download', 'reblogged', 'program', '....', 'night', '15', 'blog', 'away', 'start', 'products', 'review', 'against', 'left', 'however', 'center', 'feel', 'having', '11', 'website', 'line', 'thanks', 'food', 'ever', '9', 'open', 'university', 'room', 'though', '30', 'god', 'product', 'national', 'change', 'making', 'experience', 'add', '2007', 'internet', 'hotel', 'check', 'job', 'getting', 'date', \"'d\", 'quality', 'once', 'course', 'american', 'hard', 'within', 'contact', 'until', 'try', 'sale', 'games', 'side', 'able', 'county', 'phone', 'research', 'community', 'software', 'working', 'march', 'art', 'yet', 'months', 'body', 'easy', 'control', 'story', 'done', 'light', 'de', 'click', 'country', 'provide', 'market', 'results', 'large', 'person', 'actually', 'less', 'office', 'enough', 'men', 'government', 'june', 'following', 'special', 'international', 'states', 'report', 'makes', 'per', 'important', 'united', 'series', 'april', 'doing', 'size', 'air', 'hours', 'red', 'john', 'south', 'project', 'thought', 'nice', 'management', 'based', 'run', 'development', '100', 'type', 'history', 'least', 'friends', '18', '14', '13', 'email', 'party', 'general', 'north', '16', 'law', 'bad', 'far', '25', 'head', 'problem', 'already', 'called', 'process', 'january', 'fun', 'york', 'someone', 'hope', 'students', 'watch', 'hot', 'photo', 'level', 'movie', 'comment', 'july', 'media', 'together', 'needs', '!!', 'others', '24', 'include', 'young', 'season', 'members', 'version', 'started', 'offer', 'went', 'form', 'anything', 'several', 'file', 'bit', 'road', 'tell', '@', 'link', 'article', 'pretty', 'often', 'four', 'february', 'park', 'tv', 'came', 'hand', 'yes', 'everything', 'green', 'share', 'access', 'social', 'fact', 'reviews', 'personal', 'visit', 'single', 'along', 'become', '~', 'points', 'plan', 'added', 'october', 'reply', 'believe', 'technology', '2006', 'possible', 'photos', 'street', 'everyone', 'past', 'anyone', 'below', 'features', 'means', 'west', 'windows', 'current', 'related', 'september', 'details', 'november', 'code', 'sex', 'tags', 'college', 'nothing', 'class', 'event', 'card', '17', 'seen', 'december', 're', 'minutes', 'august', 'value', 'training', 'beautiful', 'early', 'took', 'security', 'true', 'education', 'comes', 'kind', 'source', 'song', 'board', 'film', 'learn', 'low', 'happy', 'question', 'front', 'kids', 'property', 'reading', 'probably', 'short', 'above', 'create', 'computer', 'whole', 'blue', 'either', 'given', 'example', 'heart', '£', 'near', 'parts', 'member', 'future', 'whether', 'building', 'insurance', 'girl', 'c', '21', 'energy', '19', 'image', 'million', 'child', 'face', 'maybe', 'pay', 'mind', 'thank', 'close', 'books', '22', 'complete', 'network', 'main', 'u.s.', 'trying', 'war', 'location', 'later', 'user', 'offers', 'month', 'credit', 'president', 'save', 'idea', 'human', 'jobs', 'words', 'works', 'travel', 'perfect', 'total', 'cost', 'store', 'looks', 'questions', 'almost', 'original', 'model', 'style', 'systems', 'medical', 'space', 'action', 'sales', 'taking', 'quite', 'age', '50', 'club', 'living', 'known', 'stop', 'posts', 'oh', '\\\\', 'drive', 'talk', 'box', 'events', 'color', 'content', 'study', 'companies', 'via', 'baby', '!!!', 'church', 'b', 'natural', 'issue', 'coming', 'test', 'major', 'five', 'performance', 'industry', 'mean', 'america', 'key', 'uk', 'enjoy', 'collection', 'range', 'rate', 'marketing', 'told', 'simple', '23', 'seems', 'digital', 'ask', 'rights', 'court', 'due', 'sound', 'friend', 'send', 'across', 'word', '2005', 'remember', 'leave', 'according', 'professional', 'soon', 'wanted', 'problems', 'miles', 'else', 'private', 'includes', 'english', 'field', 'rather', 'cover', 'beach', 'issues', 'stay', 'taken', 'message', 'girls', 'reason', '>>', 'pictures', 'address', 'financial', 'turn', 'guide', 'although', 'especially', 'move', 'oil', 'prices', 'half', 'star', 'simply', 'press', 'estate', 'continue', 'running', 'section', 'woman', 'weeks', 'policy', 'latest', 'return', '26', 'la', 'department', 'shows', 'stock', '28', 'title', 'summer', 'provides', 'picture', 'deal', 'note', 'm', 'win', 'paper', 'town', 'meet', 'mobile', 'items', 'hair', 'understand', ':)', 'friday', 'further', 'weight', 'follow', 'application', 't', 'account', 'asked', 'plus', 'staff', 'item', 'death', 'bring', 'sports', 'player', 'lost', 'google', '_', 'published', 'gold', 'london', 'gets', 'act', 'among', 'shop', 'east', 'upon', 'guy', '27', 'wedding', 'subject', 'd', 'instead', 'morning', 'videos', 'usually', 'clear', 'science', 'couple', 'playing', 'standard', 'present', 'recent', 'san', 'david', 'lyrics', 'release', 'currently', 'table', 'etc.', 'daily', 'record', 'stuff', 'matter', 'required', 'fire', 'inside', 'needed', 'sun', 'writing', 'favorite', 'final', 'various', 'behind', 'third', 'dog', 'common', 'provided', 'u', 'saw', 'cool', 'guys', 'california', 'popular', 'tax', 'interest', 'located', 'meeting', 'rock', 'takes', 'cheap', 'fast', 'choose', 'position', 'links', 'similar', 'name@domain.com', 'hit', 'forum', 'write', 'cut', '29', 'n', 'written', 'users', 'areas', 'info', 'sites', 'sunday', 'created', 'result', 'amazing', 'yourself', 'lead', 'treatment', 'saturday', 'cannot', 'wo', 'terms', 'pages', 'bill', 'land', 'e', 'fine', 'cause', 'designed', 'resources', 'images', 'rest', 'goes', 'wrong', 'outside', 'band', 'ready', 'sometimes', 'author', 'amount', 'text', 'sign', '2004', 'customer', 'mr.', 'police', 'changes', 'players', 'join', 'equipment', 'longer', 'usa', 'recently', 'finally', 'central', 'student', 'myself', 'bank', 'choice', 'previous', 'percent', 'programs', 'hotels', 'map', 'step', 'w', 'washington', 'interesting', 'strong', 'ways', 'late', 'customers', 'director', 'global', 'period', 'mark', 'category', '{', 'welcome', 'mother', 'bar', 'hear', 'homes', 'held', 'shall', 'movies', 'received', 'king', 'unique', 'forward', 'description', 'door', 'answer', 'jan', 'christmas', 'tools', 'james', 'worth', 'certain', 'additional', 'fall', 'safety', 'wall', 'heard', 'gift', 'bed', 'material', 'excellent', 'st.', 'practice', 'conference', 'inc.', 'language', 'brand', 'speed', 'wish', 'wait', 'obama', 'included', 'build', 'sense', 'monday', 'track', 'lol', 'learning', 'saying', 'skin', 'loss', 'quote', 'lake', 'huge', 'production', 'thinking', 'six', 'album', 'brown', 'radio', 'super', 'china', 'likely', 'society', 'eyes', 'update', 'options', '40', 'son', 'screen', 'engine', 'wrote', 'paul', 'addition', 'texas', '}', 'ideas', 'wide', 'hold', 'notes', 'files', 'chance', 'higher', 'dr.', 'michael', 'increase', 'dvd', 'individual', 'average', 'server', 'canada', 'manager', 'limited', 'parents', 'profile', '2003', '31', 'allow', 'shot', 'blood', 'round', 'played', 'modern', 'purchase', 'island', 'updated', 'clean', 'specific', 'term', 'method', 'voice', 'feb', 'born', 'id', 'tour', 'likes', 'lower', 'india', 'articles', 'mp3', 'starting', 'political', 'risk', 'river', 'knowledge', 'tips', 'seem', 'piece', 'stories', 'groups', 'quick', 'father', 'planning', 'association', 'dark', 'middle', 'machine', 'wife', 'receive', 'district', 'trade', 'print', 'base', 'library', 'thursday', 'entire', 'camera', 'ones', 'race', 'cards', 'double', 'success', 'pass', 'silver', 'role', 'force', 'unit', 'legal', 'facebook', 'schools', 'opportunity', 'led', 'shipping', 'rates', 'weather', 'tuesday', 'activities', 'official', 'nature', 'extra', 'wednesday', 'st', 'no.', 'football', 'federal', 'response', 'apple', 'fit', 'effect', 'easily', 'hour', 'lives', 'holiday', 'wonderful', 'display', 'tried', 'cell', 'particular', 'perhaps', 'moving', 'themselves', 'cd', 'agree', 'ok', 'channel', 'effects', 'awesome', '2000', 'ii', 'weekend', 'direct', 'built', 'focus', 'spring', 'glass', 'career', 'floor', 'former', 'environment', 'gave', 'talking', 'worked', 'itself', 'thread', 'boy', 'hands', 'walk', 'analysis', 'plans', 'ground', 'throughout', 'giving', 'gas', 'records', 'applications', 'audio', 'commercial', 'trip', 'interested', 'earth', 'garden', 'ball', 'safe', 'gives', 'golf', 'construction', 'florida', 'conditions', 'growth', 'pain', 'sell', 'fan', 'mar', 'decided', 'consider', 'economic', 'sent', 'cases', 'a.', 'annual', 'feet', 'solution', 'shopping', 'device', 'cars', 'entry', 'quickly', 'reports', 'guess', 'stand', 'moment', 'projects', 'break', 'edition', 'dead', 'apr', 'cancer', 'skills', 'completely', 'sorry', 'types', 'himself', 'deep', 'memory', 'fashion', 'feature', 'attention', 'wants', 'rating', 'lots', 'eye', 'released', 'potential', 'classic', 'leading', 'cup', 'basic', 'pick', 'gay', 'kitchen', 'songs', 'knew', 'effective', 'places', 'pro', 'gallery', 'looked', 'military', 'dec', '^', 'cash', 'character', 'pc', 'custom', 'felt', 'council', 'solutions', 'sweet', 'regular', 'jun', 'ability', 'involved', 'difficult', 'costs', 'exactly', 'auto', 'r', 'benefits', 'drug', 'request', 'select', 'variety', 'sounds', 'im', 'decision', 'funny', 'oct', 'miss', 'copyright', 'rules', 'french', 'option', 'fans', 'numbers', 'battery', 'l', 'figure', 'patients', 'eat', 'tool', 'touch', 'levels', 'metal', 'match', 'rooms', 'lines', 'shoes', 'stars', 'region', 'dance', 'allows', 'fresh', 'overall', 'activity', 'bag', 'tickets', 'storage', 'gone', 'station', 'turned', 'necessary', 'nov', '2002', '60', 'countries', 'studies', 'filed', 'sold', 'stage', 'tagged', 'sea', 'definitely', 'master', 'advice', 'active', 'yeah', 'function', 'materials', 'restaurant', 'organization', 'began', 'happen', 'committee', 'dress', 'window', 'advanced', 'hospital', 'heat', 'paid', 'became', 'twitter', 'sort', 'topic', 'brought', 'difference', 'bay', 'o', 'christian', 'centre', 'culture', 'p.m.', 'beauty', 'valley', 'fight', 'fish', 'physical', 'multiple', 'traditional', 'normal', 'iphone', 'arts', 'feeling', 'providing', 'aug', 'episode', 'supply', 'pool', 'cable', 'vehicle', 'wood', 'goal', 'magazine', 'shown', 'george', 'europe', 'steel', 'certainly', 'hall', 'won', 'senior', 'wine', 'artist', 'net', 'adult', 'dont', 'mix', 'directly', 'protection', 'winter', 'highly', 'beginning', 'lord', 'hill', 'entertainment', 'jesus', 'ice', 'tree', 'relationship', 'whatever', 'fully', 'pressure', 'loved', 'owner', 'enter', 'cold', 'approach', 'situation', 'deals', 'listed', 'delivery', 'charge', 'alone', 'bottom', 'league', 'england', 'apply', 'loan', 'copy', 'grand', 'discussion', 'sep', 'claim', 'microsoft', 'thus', 'british', 'connection', 'traffic', 'therefore', 'dating', 'beyond', 'journal', 'com', 'challenge', 'boys', 'los', 'spend', 'url', 'western', 'uses', 'poor', '1st', '2001', 'robert', 'impact', 'australia', 'models', 'chicago', 'budget', 'ass', 'directory', 'improve', 'reference', 'coffee', 'package', 'jul', 'expected', 'changed', 'vote', 'mom', 'award', 'healthy', 'letter', 'recommend', 'hi', 'finish', 'clients', 'truth', 'ensure', 'showing', 'airport', 'fair', 'condition', 'spent', 'expect', 'considered', 'serious', '`', 'associated', 'disease', 'successful', 'repair', 'watching', 'f', 'names', 'originally', 'died', 'notice', 'doctor', 'businesses', 'nearly', 'begin', 'mountain', 'union', 'j.', 'self', 'female', '<', 'driving', 'fat', 'growing', 'century', 'degree', 'happened', 'length', 'investment', 'finding', 'driver', 'bought', 'campaign', 'william', 'chris', 'opening', 'smith', 'status', 'helps', 'straight', 'peace', 'ten', 'hey', 's.', 'wow', 'pdf', 'square', 'volume', 'positive', 'pack', 'interview', 'et', 'towards', 'unless', 'requirements', 'statement', 'trust', 'flash', 'ring', 'teen', 'electric', 'dream', 'technical', 'surface', 'knows', 'agency', 'european', 'button', 'capital', 'mike', 'evidence', 'v', 'vs', 'remove', 'g', 'c.', 'economy', 'buying', 'income', 'chapter', 'block', 'met', 'wear', 'kit', 'database', 'reach', 'developed', 'score', 'sat', 'cross', 'truly', 'studio', 'sexy', 'birthday', 'h', 'waiting', 'setting', 'client', 'indian', 'seeing', '2nd', 'daughter', 'anyway', 'creative', 'accessories', 'listen', 'greater', 'except', 'selection', 'leather', 'teams', 'foundation', 'earlier', 'useful', 'scene', 'offered', 'chinese', 'purpose', 'nation', 'benefit', 'p', 'executive', 'moved', 'debt', 'mine', 'cat', 'husband', 'opinion', 'register', 'reported', 'whose', 'corporate', 'families', 'sleep', 'named', 'significant', 'allowed', 'mary', 'older', 'beat', 'drop', 'background', 'understanding', 'administration', 'reasons', 'rich', 'creating', 'attack', 'pink', 'thomas', 'seven', 'p.', 'coach', 'guitar', 'male', 'lose', 'heavy', 'primary', 'rental', 'cute', 'wonder', 'require', 'prior', 'offering', 'avoid', 'fuck', '200', 'exchange', 'institute', 'despite', 'generally', 'evening', 'calls', 'develop', 'effort', 'ride', 'speak', 'contract', 'solid', 'soft', 'seconds', 'museum', 'engineering', 'peter', 'independent', 'breakfast', 'finished', 'yesterday', 'characters', 'animal', 'announced', 'communication', 'lady', 'theme', 'rent', 'die', 'b.', 'privacy', 'distance', 'helpful', 'format', 'employees', 'host', 'plant', 'actual', 'leader', 'dinner', 'm.', 'festival', '80', 'powerful', 'discount', 'error', 'yellow', 'damage', 'defense', 'ny', 'regarding', 'largest', 'facilities', 'mail', 'village', 'friendly', 'electronic', 'furniture', 'spirit', 'wireless', 'movement', 'e-mail', 'j', 'totally', 'brother', 'testing', 'chief', 'port', 'johnson', 'serve', 'recipe', 'mission', 'forums', 'selling', 'individuals', 'photography', '90', 'spot', 'properties', 'index', 'edit', 'foreign', 'joe', 'hate', 'otherwise', 'colors', 'married', 'easier', 'youtube', 'grow', 'firm', 'medicine', 'basis', 'patient', 'immediately', 'onto', 'methods', 'contains', 'population', 'dry', 'particularly', 'tom', 'guest', 'session', 'porn', 'ad', 'schedule', 'increased', 'correct', 'angeles', 'teacher', 'responsible', 'mortgage', 'standards', 'faith', 'france', 'bike', 'target', 'mode', 'battle', 'alternative', 'television', 'absolutely', 'wild', 'respect', 'minute', 'reality', 'environmental', 'stores', 'train', 'cream', 'structure', 'complex', 'extremely', 'kept', 'advertising', 'flowers', 'gifts', 'diet', 'seat', 'al', 'japan', 'mac', 'army', 'served', 'artists', 'exercise', 'flight', 'competition', 'walking', 'housing', 'opportunities', 'co.', 'feed', 'sources', 'youth', 'virginia', 'hell', 'menu', 'featured', 'famous', 'tea', 'core', 'teaching', 'vacation', 'ahead', 'steps', 'closed', 'marriage', 'compare', 'plastic', 'protect', 'edge', 'pet', 'frame', 'pieces', 'foot', 'strategy', 'rule', 'handle', 'values', 'none', 'thoughts', 'coast', 'commission', 'agreement', '35', 'stone', 'camp', 'vs.', 'payment', 'carry', 'fuel', 'forget', 'larger', 'produce', 'runs', '500', 'dogs', 'panel', 'tag', 'brain', 'passed', 'classes', 'appear', 'warm', 'agent', 'submitted', 'resource', 'awards', 'comfortable', 'lack', 'africa', 'jack', 'wind', 'document', 'animals', 'appropriate', 'devices', 'sharing', 'compared', 'southern', 'crazy', 'richard', 'patch', 'uploaded', 'forms', 'reduce', 'plays', 'christ', 'japanese', 'kill', 'division', 'd.', 'smart', 'thousands', 'tech', 'secret', 'rose', 'german', 'operations', 'jersey', 'happens', 'operation', 'justice', 'billion', 'advantage', 'outdoor', 'transfer', 'trial', 'flat', 'bedroom', 'sets', 'en', 'fund', '32', 'balance', 'k', 'produced', 'log', 'ford', 'and/or', 'jewelry', 'clearly', 'civil', 'loans', 'biggest', 'y', 'selected', 'bush', 'direction', 'learned', 'parties', 'glad', 'medium', 'lights', 'lee', 'joined', 'operating', 'magic', 'established', 'eating', 'mentioned', 'van', 'steve', 'covered', 'categories', 'keeping', '1999', 'leaders', 'fucking', 'topics', 'goals', 'license', 'workers', 'fear', 'kid', 'calling', 'birth', 'path', 'owners', 'followed', 'app', 'express', '70', 'boston', 'cast', 'helped', '3rd', 'partner', 'motor', '€', 'restaurants', 'lovely', 'ship', 'laptop', 'drugs', 'horse', 'hd', '3d', 'count', 'guests', 'freedom', 'demand', 'mb', 'chicken', 'chocolate', 'snow', 'requires', 'israel', 'fantastic', 'retail', 'km', 'putting', 'mostly', 'ohio', 'missing', 'bus', 'carolina', 'orange', 'farm', 'sport', 'helping', 'cities', 'elements', 'slow', 'hits', 'reserved', 'existing', 'drink', 'ideal', 'supplies', 'documents', '??', 'shape', 'flow', 'killed', 'mm', 'corner', 'parking', 'pop', 'laws', 'liked', 'michigan', 'scott', 'officer', 'highest', 'detail', 'presented', 'replacement', 'quotes', 'gear', 'generation', 'claims', 'essential', 'described', 'roll', 'signed', 'bridge', 'critical', 'starts', 'cleaning', 'apartment', 'golden', 'meaning', 'mini', 'switch', 'pics', 'completed', 'boat', 'experienced', 'efforts', 'eight', 'visitors', 'asian', 'inn', 'lighting', 'pair', 'royal', 'zone', 'mi', 'fishing', 'designs', 'sample', 'nor', 'taste', 'coverage', 'theory', '45', 'updates', 'imagine', 'tonight', 'fill', 'congress', 'prevent', 'strength', 'accept', 'resort', 'quarter', 'mexico', 'organizations', 'appears', 'units', 'leaving', 'install', 'vision', 'registered', 'continued', 'finance', 'progress', 'concept', 'courses', 'surgery', 'object', 'houses', 'indeed', 'placed', 'toward', 'politics', 'wed', 'editor', 'emergency', 'sugar', 'discuss', 'changing', 'consumer', 'martin', 'seemed', 'basketball', 'filter', 'listings', 'tomorrow', 'mass', '1/2', 'secure', 'co', 'truck', 'germany', 'advance', 'fix', 'websites', 'soul', 'gun', 'internal', 'gain', 'asking', '1998', 'doubt', 'judge', 'jones', 'hearing', 'chair', 'capacity', 'rear', 'arms', 'answers', 'bear', 'el', 'plenty', 'adding', 'regional', 'mount', 'shit', 'americans', 'becomes', 'sit', 'tx', 'spending', 'seriously', 'maintenance', 'teachers', 'clothing', 'winning', 'chat', 'bob', 'mention', 'leadership', 'domain', 'fixed', 'bowl', 'applied', 'funds', 'election', 'northern', 'authority', 'separate', 'approximately', 'colorado', 'techniques', 'fitness', 'cells', 'recommended', 'feedback', 'mouth', 'comfort', 'industrial', 'grade', 'manufacturer', 'upper', 'dollars', 'pattern', 'facts', 'missed', 'bath', 'remote', 'expensive', 'archive', 'jim', 'luck', 'forest', 'waste', 'vintage', 'sitting', 'abuse', 'remain', 'temperature', 'ended', 'mon', 'permalink', 'rise', 'markets', 'decide', 'proper', 'fee', 'bible', 'holding', 'sister', 'diamond', 'expert', 'opened', 'max', 'developing', 'leaves', 'recovery', 'submit', 'platform', 'v.', 'plants', 'load', 'majority', 'aid', 'perform', 'trouble', 'survey', 'iron', 'premium', 'canadian', 'caught', 'signs', 'greatest', 'therapy', '01', 'dedicated', 'communications', 'le', 'manage', 'rain', 'vol', 'e.', 'blogs', 'gonna', 'mr', 'maximum', 'broken', 'covers', 'inch', 'trading', 'busy', 'processing', 'cock', 'enjoyed', 'detailed', 'avenue', 'caused', 'baseball', 'jackson', 'listing', '›', 'lunch', 'paris', 'marine', 'dr', 'religious', 'crime', 'shared', 'sheet', 'becoming', 'downloads', 'determine', 'failed', 'holy', 'minimum', 'fri', 'minister', 'salt', 'fly', 'officials', 'paint', 'corporation', 'aware', '36', 'serving', 'writer', 'signal', 'ultimate', 'hardware', 'obviously', 'agents', 'combination', 'historical', 'attorney', 'injury', 'possibly', 'w.', 'attempt', 'installation', 'partners', 'summary', 'bags', 'professor', 'tue', 'smaller', 'catch', 'wheel', 'output', 'html', ':d', 'maintain', 'designer', 'ends', 'continues', 'ads', 'thu', 'sexual', '300', 'santa', 'recipes', 'inc', 'resolution', 'speaking', 'interface', 'suggest', 'chain', 'meant', 'manual', 'slightly', 'managed', 'charles', 'filled', 'forces', 'anywhere', 'films', 'registration', 'queen', 'limit', 'eventually', 'bathroom', 'spanish', 'whom', 'beer', 'williams', 'ma', 'assistance', 'standing', 'actions', '4th', 'jump', 'proud', 'audience', 'launch', 'gmt', 'ed', 'oz', 'technologies', 'stick', '09', 'featuring', 'racing', 'showed', 'worse', 'dj', 'stress', 'excited', 'organic', 'hosting', 'solar', 'readers', 'definition', 'motion', 'prepared', 'task', 'reader', 'distribution', 'explain', 'scale', 'trees', 'raised', 'assist', 'fl', 'unfortunately', 'route', 'okay', 'pa', 'visual', 'dad', 'negative', 'weekly', 'spread', 'r.', 'realize', 'willing', 'kingdom', 'seeking', 'casino', 'returned', '!!!!', 'messages', 'browse', 'command', 'poker', 'rare', 'height', 'sky', 'species', 'facility', 'pull', 'speech', 'components', 'religion', 'journey', 'climate', 'evil', 'hp', 'factors', 'treat', 'il', 'connect', 'grant', 'milk', 'cooking', 'fees', 'francisco', 'bright', 'locations', 'flights', 'hello', 'trailer', 'brings', 'dc', 'turns', 'cook', 'connected', 'georgia', 'educational', 'usb', 'winner', 'throw', 'employment', 'orders', 'votes', 'virtual', 'thats', 'ladies', 'communities', 'removed', 'interior', 'sony', 'edited', 'luxury', 'cake', 'tough', 'fourth', 'telephone', 'remains', 'italian', 'a.m.', 'exclusive', '75', 'papers', 'tip', 'draw', 'approved', 'foods', 'loves', 'prescription', 'plate', 'assembly', 'failure', 'searching', 'installed', 'flag', 'electrical', 'amazon', 'clothes', 'monthly', 'ocean', 'arizona', 'sad', 'cheese', '08', 'shower', 'numerous', 'factor', 'cultural', 'exciting', 'apartments', 'afternoon', 'dining', 'leads', 'inches', 'fruit', '1997', 'mental', 'falls', 'achieve', 'input', 'clip', 'label', 'ticket', 'stupid', 'native', 'louis', 'initial', 'ran', 'suite', 'policies', 'folks', 'clinical', 'raise', 'moon', 'banks', 'fox', 'worst', 'vehicles', '33', 'musical', 'satellite', 'l.', 'behavior', 'houston', 'feels', 'arm', 'professionals', 'discover', 'doors', 'vegas', 'presentation', 'appreciate', 'residents', 'posting', 'presence', 'transportation', 'ms', 'alcohol', 'experts', 'flower', 'performed', 'supposed', 'theatre', 'tests', 'twice', 'lucky', 'graphics', 'paying', 'layer', 'mature', 'etc', 'hire', 'drivers', 'unknown', 'apparently', 'illinois', 'specifically', 'fort', 'practices', 'reached', 'pussy', 'password', 'hole', 'suit', 'matt', 'previously', 'iii', 'wearing', 'worry', 'stopped', 'letters', 'relevant', 'external', 'adventure', 'painting', 'labor', 'returns', 'duty', 'portion', 'fighting', 'experiences', 'telling', 'bass', 'forever', 'novel', 'urban', 'extended', 'goods', 'las', 'random', 'false', 'examples', 'lived', 'rss', 'q', 'faster', 'charges', 'academic', '02', '2.0', 'tracks', 'maps', 'pure', 'calendar', 'enterprise', 'creek', 'responsibility', 'considering', 'funding', 'monitor', 'fabric', 'bottle', 'crystal', 'sector', 'availability', 'recording', 'african', 'functions', 'causes', 'logo', 'bird', 'shops', 'personally', 'basically', 'contest', 'instructions', 'worldwide', '48', 'fig.', 'deliver', '07', 'settings', 'ip', 'relationships', 'manufacturing', 'comprehensive', 'russian', 'shirt', 'nine', 'push', 'computers', 'iraq', 'depending', 'breast', 'planet', 'tank', 'desire', 'assistant', 'combined', 'eastern', 'toys', 'string', 'rated', 'introduction', 'accounts', 'ipod', 'h.', 'shooting', 'wire', 'zip', 'employee', '1996', 'proposed', 'adults', 'bet', '34', 'measures', 'fields', 'sick', 'taxes', 'dates', 'viagra', 'ltd', 'noticed', 'concert', 'creation', 'ryan', 'provider', 'apart', 'tells', 'concerned', 'teach', 'scientific', 'knowing', 'hurt', 'transport', 'hundreds', 'bigger', 'measure', 'contemporary', 'owned', '03', 'trail', 'warning', 'forced', 'recorded', 'violence', 'element', 'influence', 'hide', 'symptoms', 'exam', '---', 'consumers', 'academy', 'lets', 'criminal', 'machines', 'affordable', 'yahoo', 'est', 'decisions', 'intended', 'purchased', 'campus', '06', 'quiet', 'nude', 'buildings', 'networks', '04', 'ben', 'ancient', 'properly', 'junior', 'manner', 'explore', 'improved', 'kb', 'min', 'promote', 'begins', 'brian', 'android', 'e.g.', 'tight', '05', 'fax', 'minor', 'nearby', 'brothers', 'appearance', 'cotton', 'crisis', 'purposes', 'agencies', 'statistics', 'mixed', 'talent', 'don', 'stated', 'somewhere', 'smooth', 'prefer', 'hopefully', 'fell', 'joint', 'increasing', 'certified', 'dan', 'surprise', 'supported', 'seek', 'prime', 'australian', 'browser', 'debate', 'yards', 'shoot', 'replace', 'automatic', 'phones', 'miami', 'springs', 'sides', 'dave', 'italy', 'dear', 'interests', 'damn', 'linux', 'fantasy', 'meat', 'hollywood', 'allowing', 'rd', 'listening', 'powered', 'responses', 'andrew', 'rice', 'usual', 'senate', 'ya', 'neck', 'lists', 'parent', 'programming', 'smile', 'everyday', 'guard', 'hat', 'cutting', 'accident', 'shots', 'colour', 'automatically', 'challenges', 'ages', 'pocket', 'secretary', 'revenue', 'frank', 'tube', 'factory', 'identify', 'downtown', 'md', 'hidden', 'accepted', 'keeps', 'circuit', 'integrated', 'visiting', 'spa', 'row', 'talks', 'taylor', 'draft', 'raw', 'turning', 'extreme', 'victory', 'typically', 'phase', 'dreams', 'arrived', 'archives', 'discovered', 'subscribe', 'picked', 'reduced', 'nursing', 'dollar', '42', 'tim', 'boards', 'everybody', 'harry', 'improvement', 'asia', 'appeared', 'theater', 'codes', 'f.', 'conversation', 'legs', 'cap', 'cycle', 'sizes', 'hills', 'drawing', 'desk', 'citizens', 'closer', 'nuclear', 'savings', 'joy', 'default', 'equal', 'tiny', 'matters', 'ft', 'obvious', 'desktop', 'speaker', 'disney', 'ave', 'practical', 'crew', 'wars', '5th', 'holidays', 'bringing', 'determined', 'typical', 'kinds', 'bonus', 'neighborhood', 'sarah', 'ipad', 'domestic', 'choices', 'tape', 'suitable', 'massive', 'nations', 'treated', 'pacific', 'inspired', '1995', 'relief', 'surprised', 'lessons', 'losing', 'pump', 'printing', 'boots', 'assessment', 'degrees', 'saved', 'wins', 'daniel', 'contain', 'invention', 'graduate', 'un', 'membership', 'carbon', 'sam', 'flying', 'henry', 'tournament', 'naked', 'neither', 'herself', 'strategies', 'angel', 'breaking', 'accommodation', 'importance', 'aspects', 'persons', 'workshop', 'confidence', 'agreed', 'presents', '150', '38', 'introduced', 'efficient', 'defined', 'acid', 'anymore', 'till', '???', 'reporting', 'comparison', 'jewish', 'disc', 'formed', 'login', 'pleasure', 'guarantee', 'charged', 'brief', 'printed', 'providers', 'garage', 'committed', 'da', 'lawyer', 'concerns', 'architecture', 'ingredients', 'attend', 'chemical', 'i.e.', 'wet', 'millions', 'bars', 'watched', 'upcoming', 'jeff', 'clock', 'perspective', 'affect', 'catholic', '65', 'cloud', 'fellow', 'exist', 'viewing', 'lane', 'gorgeous', 'atlanta', 'prepare', 'context', 'jazz', 'ireland', 'viewed', 'shares', 'kansas', 'amateur', 'honor', 'rentals', 'stream', 'accurate', 'dangerous', 'kevin', 'leg', 'swimming', 'cant', 'strange', 'supports', 'wholesale', 'highway', 'ratings', 'positions', 'storm', 'honest', 'universal', 'ray', 'instance', 'adam', 'figures', 'extension', 'memorial', 'blonde', 'focused', 'delivered', 'processes', 'manufacturers', 'joseph', 'attached', 'dick', 'moves', 'normally', 'newspaper', 'perfectly', 'tend', 'dallas', 'indiana', 'historic', 'competitive', 'gaming', 'planned', 'seattle', 'toy', 'republican', 'officers', 'attacks', 'hoping', 'oregon', 'mouse', 'modified', 'receiving', 'incredible', 'heads', 'supporting', 'noise', 'publisher', 'noted', 't.', 'stands', 'nights', 'saving', 'minnesota', 'serial', 'doctors', 'utc', 'mile', 'border', 'concern', 'relations', 'spain', 'haha', 'familiar', 'faculty', 'os', 'del', 'directions', 'healthcare', 'candidate', 'holds', 'bread', 'ourselves', 'reserve', 'instant', 'nfl', 'issued', 'jason', 'piano', 'reasonable', 'seats', 'objects', 'grace', 'boot', 'fail', 'protein', 'carried', 'championship', 'packages', 'laser', 'follows', 'outstanding', '37', 'vice', '64', 'birds', 'alive', 'argument', 'smoking', 'lens', 'tony', 'riding', 'samsung', 'era', 'belt', 'cum', 'script', 'crowd', 'vista', 'meetings', 'suggested', '400', 'chosen', '44', 'appeal', 'residential', 'crack', 'meal', 'acts', 'styles', 'ordered', 'cm', 'publication', 'giant', 'pennsylvania', 'expression', 'mirror', 'spiritual', 'procedure', 'brands', 'drinking', 'upgrade', 'cruise', '1000', 'intelligence', 'procedures', 'chart', 'heaven', 'anniversary', 'rank', 'bunch', 'circle', 'centers', '20th', '55', 'soccer', 'muscle', 'wheels', 'controls', 'stainless', 'preview', 'impossible', 'voted', 'patterns', 'delicious', 'va', 'reliable', 'obtain', 'dual', 'nobody', 'non', 'authors', 'columbia', 'keywords', 'extensive', 'grey', 'prove', 'diego', 'kick', '1994', '39', 'clubs', 'eric', 'apps', 'yours', 'remaining', 'interactive', 'entered', 'proof', 'performing', 'z', 'wave', 'graphic', 'besides', 'fairly', 'ministry', 'frequently', 'pricing', 'happening', 'nj', 'alex', 'wondering', 'toronto', 'offices', 'ebay', 'identity', 'bell', 'zero', 'superior', 'component', 'dirty', 'walls', 'tower', 'nick', 'tired', 'php', 'illegal', 'profit', 'enable', 'passion', 'denver', 'monitoring', 'taught', 'thinks', 'seo', 'ceo', 'slowly', 'xbox', 'dancing', 'fiction', 'roof', 'hundred', 'pulled', 'kelly', 'palm', 'saint', 'literature', 'entirely', 'walked', 'dynamic', 'liquid', 'streets', 'acting', '120', 'warranty', 'moments', 'publishing', 'tall', 'shift', 'sec', 'admin', 'edt', 'converter', 'russia', '99', 'anonymous', 'regulations', 'beds', 'valuable', 'dental', 'memories', 'branch', 'rings', 'bands', 'earn', 'singing', 'lifestyle', 'lesson', 'gray', 'unable', 'hero', 'technique', 'solo', 'writers', 'passing', 'replies', 'exact', 'candidates', 'versions', 'relatively', 'oral', 'iowa', 'smoke', 'comedy', 'investigation', 'linked', 'participants', 'directed', 'writes', 'butter', 'nc', 'promise', 'split', ';)', 'lies', 'whenever', 'encourage', 'sauce', 'commitment', 'certificate', 'trends', 'releases', 'ending', 'tennis', 'plain', 'weapons', 'purple', 'depth', 'launched', 'g.', 'abstract', 'sir', 'faces', 'networking', 'miller', 'channels', 'aside', 'teeth', '95', 'coupon', 'austin', 'turkey', 'ct', 'jacket', '250', 'pounds', 'somewhat', 'empty', 'thin', 'convention', 'boxes', 'llc', 'finds', 'massage', 'exposure', 'complaint', 'democratic', 'array', 'lift', 'inner', 'newsletter', 'xp', 'scheduled', 'suggestions', 'davis', 'irish', 'permanent', 'accounting', 'participate', 'portable', 'captain', 'loving', 'scenes', 'dropped', '41', 'convert', '360', 'ships', 'pic', '6th', 'prize', 'prayer', 'engineer', 'electronics', 'cuts', 'respond', 'reaction', 'removal', 'innovative', 'republic', 'yard', 'mad', 'describe', 'pleased', 'java', 'philosophy', 'represent', 'shoulder', 'developer', 'statements', 'lock', 'stephen', 'threat', 'supreme', 'counter', 'younger', 'navy', 'governor', 'n.', 'destination', 'blues', 'bond', 'facing', 'capable', 'massachusetts', 'entries', 'heating', 'module', 'elizabeth', 'regardless', 'sessions', 'sending', 'generated', 'realized', 'universe', 'jr.', 'pizza', 'weird', 'mrs.', 'poster', 'ha', 'managing', 'capture', 'dish', 'se', 'remix', 'comic', 'fits', 'earned', 'awareness', 'dude', 'overview', 'unlike', 'keys', '7th', 'implementation', 'emotional', 'islands', 'affairs', 'principles', 'thick', 'cart', 'landscape', 'root', 'afraid', 'rush', '19th', 'institutions', 'pdt', 'actor', 'estimated', 'tables', 'lawyers', 'prince', 'cats', 'column', 'shut', 'effectively', 'wanna', 'grown', 'tone', '1993', 'containing', 'certification', 'temple', 'killing', 'stuck', 'everywhere', 'identified', 'di', 'adds', 'plane', 'albums', 'greek', 'boss', 'retrieved', 'ann', 'pants', 'cent', 'occur', 'broke', 'wake', 'crash', 'evaluation', 'tours', 'iran', 'seller', 'immediate', 'bodies', 'valid', 'brilliant', 'transmission', 'resistance', 'recognized', 'pan', 'wilson', 'surrounding', 'maryland', 'isbn', 'jpg', 'specialist', 'tested', 'math', 'efficiency', 'representative', 'photographer', 'monster', 'engines', 'murder', 'reduction', 'coat', 'philadelphia', 'printer', 'deck', 'strategic', 'lab', '21st', 'blow', '10th', 'al.', 'laugh', 'drama', 'promotion', 'preferred', 'chairman', 'affected', 'partnership', 'constantly', 'titles', 'powder', 'mainly', 'checking', 'guidelines', 'legislation', 'payments', 'approval', '43', 'industries', 'rubber', 'catalog', 'dealing', 'mercury', 'sciences', 'bid', 'suddenly', 'atmosphere', '1990', 'forth', 'dealers', 'constant', 'carefully', 'jordan', 'lowest', 'ltd.', '8th', 'explained', 'requests', 'bug', 't-shirt', 'aircraft', 'lie', 'alabama', 'ai', 'revealed', 'celebrate', 'compatible', 'maker', 'adobe', 'protected', 'conduct', 'prison', 'trend', 'craft', 'increases', 'favourite', 'impressive', 'oak', 'chrome', '46', 'attractive', 'blocks', 'oklahoma', 'serves', 'speakers', 'gate', 'assets', 'evolution', 'assume', 'teens', 'shell', 'somehow', 'successfully', '101', 'strike', 'differences', 'reform', 'generic', '52', 'formula', 'dealer', 'chest', 'escape', 'yoga', 'programme', '1992', '72', 'wisconsin', 'mountains', 'patent', 'grew', 'navigation', 'circumstances', 'zealand', 'decent', 'scheme', 'auction', 'long-term', 'wash', 'discussed', 'replaced', 'heritage', 'favorites', 'halloween', 'inspiration', 'bone', 'organized', 'controlled', 'tennessee', 'handling', 'burn', 'britain', 'falling', 'ink', 'batteries', 'depends', 'opinions', 'dresses', 'castle', 'lay', 'wordpress', 'admit', 'feelings', 'celebrity', 'skill', 'investors', 'parks', 'latin', 'kim', 'premier', 'opposite', 'infrastructure', 'sand', 'regularly', 'sing', 'flexible', 'hearts', 'pin', 'exhibition', 'hunting', 'hang', 'twin', 'cameras', 'possibility', 'disk', 'juice', 'qualified', 'pot', 'recommendations', 'loose', 'sharp', 'healing', 'howard', 'conflict', 'guaranteed', 'rural', 'thousand', 'bills', 'depression', 'continuing', 'scored', 'hunter', 'preparation', 'dragon', 'frequency', 'gardens', 'nutrition', 'searches', 'keyboard', 'diabetes', 'innovation', 'i.', 'aspect', 'conversion', 'visited', 'setup', 'utah', 'allen', 'choosing', 'referred', 'revolution', 'pregnancy', 'gotten', 'egg', 'conducted', 'utility', 'pride', 'believed', 'developers', 'addresses', 'kentucky', 'checked', 'somebody', 'convenient', 'width', 'alert', 'backup', 'fake', 'powers', 'champion', 'cookies', 'proposal', 'stunning', 'rising', 'victoria', 'obtained', 'researchers', 'significantly', 'aim', 'decades', 'stations', 'talked', 'plot', 'photographs', 'canon', 'galleries', 'jane', 'clips', 'ga', 'genuine', 'licensed', 'severe', 'sight', 'balls', 'afford', 'singles', 'singer', 'template', 'peak', '1.5', 'dimensions', 'guides', '’s', '85', 'eggs', 'relative', 'honda', 'tradition', 'burning', 'signature', 'anal', 'closing', 'pregnant', 'highlights', '47', 'stayed', 'tab', 'candy', 'wealth', 'buyers', 'empire', 'hip', 'suites', 'antique', 'scientists', 'wherein', 'carrying', 'marks', 'dust', 'retirement', 'phoenix', '49', 'drives', 'anybody', 'recognize', 'patrick', 'missouri', 'expand', 'stretch', 'broad', 'wa', 'errors', 'sections', 'enhance', 'matches', 'hardcore', 'situations', 'spoke', 'arrested', 'grass', 'slide', 'hockey', 'proven', 'ap', 'suppliers', 'cry', 'naturally', 'copies', 'chamber', 'tie', '2.5', 'percentage', '9th', 'reviewed', 'authorities', 'clinton', 'folder', 'instruments', 'carpet', 'ex', 'andy', 'meets', 'ron', 'pets', 'treatments', 'subjects', 'configuration', 'lcd', 'visits', '.1', 'anthony', 'languages', 'associate', 'hanging', 'secondary', 'fifth', 'woods', 'permission', 'humans', 'salary', 'collect', 'mo', 'volunteer', '1991', 'answered', 'demo', 'ur', 'edward', 'generate', 'strip', 'blogging', 'rolling', 'lewis', 'ac', 'worship', 'sleeping', 'detroit', 'reputation', 'costume', 'babies', 'enemy', 'ratio', 'tweet', 'spray', 'literally', 'virus', 'eu', 'kiss', 'matching', 'founded', 'surely', 'personality', 'refer', '18th', 'expertise', 'invited', 'optical', 'samples', 'consistent', 'chose', 'primarily', 'shoe', 'feat', '51', 'princess', 'wooden', 'suffering', 'soldiers', 'rescue', 'trained', 'boost', 'consulting', 'confirmed', 'seed', 'gender', 'references', 'nose', 'adapter', 'seasons', 'attitude', 'coupons', 'ski', 'connections', 'du', 'mayor', 'enjoying', 'origin', 'soil', 'translation', 'sterling', 'contents', 'reception', 'pilot', 'mistake', 'fabulous', 'household', 'finger', 'fingers', 'romantic', 'pharmacy', '66', 'managers', 'anderson', 'operate', 'interviews', 'gene', 'affiliate', 'portfolio', 'pakistan', 'guns', 't1', 'ignore', 'cialis', 'puts', 'stadium', 'conservative', 'informed', 'mystery', 'careful', 'headed', 'usage', 'creates', 'booking', 'limits', '110', 'motorcycle', 'favor', 'recognition', 'collections', 'horses', 'lincoln', 'rid', 'dot', 'victims', 'staying', 'xd', 'firms', 'resulting', 'tutorial', 'attended', 'pst', 'gary', 'exit', 'inventory', 'aluminum', 'ultimately', 'represents', 'tracking', 'prevention', 'displayed', 'jennifer', 'discovery', 'concerning', '11th', 'expectations', 'beta', 'expansion', 'absolute', 'lesbian', 'covering', 'kinda', 'granted', 'combat', 'scotland', 'prints', 'rs', 'decade', 'pat', 'principal', 'extent', 'directors', 'breath', 'fiber', 'broadband', 'alarm', 'bedrooms', 'terrible', '.5', 'wildlife', 'concrete', 'poetry', 'ontario', 'resident', '15th', 'pepper', 'hunt', 'javascript', 'blackberry', 'newest', 'logic', 'sydney', 'ill', 'compensation', 'upload', 'stood', 'nov.', 'publications', 'bbc', 'celebration', 'lifetime', 'amounts', 'ft.', 'blind', 'accessible', 'opens', 'iv', 'wise', 'chip', '54', 'ease', 'scores', '12th', 'shadow', 'buyer', 'steering', 'outlook', 'quantity', 'kings', 'constitution', 'collected', 'vital', 'jan.', 'integration', 'sub', 'hawaii', 'harder', 'drinks', 'winners', 'blame', 'ear', 'tits', 'personnel', 'expenses', 'justin', 'enforcement', 'nokia', 'honey', 'servers', 'swing', 'roman', 'dictionary', 'wanting', 'elementary', 'debut', 'causing', 'necessarily', 'hopes', 'th', 'weak', 'contrast', 'priority', 'sin', 'criteria', 'optional', 'gps', 'liberty', 'situated', 'compact', 'driven', 'banking', '98', 'establish', 'injuries', 'elected', 'solve', 'threads', 'sustainable', 'pace', '?!', 'elite', 'simon', 'improving', 'holes', 'airlines', 'credits', 'closely', 'chances', 'sc', 'equipped', 'korea', 'bmw', 'charity', 'â', 'desired', 'nurse', 'risks', 'offensive', 'diseases', 'funeral', 'amendment', 'icon', 'crown', 'producing', 'stats', 'reverse', 'residence', 'framework', 'dean', 'existence', 'broadcast', 'wayne', 'vast', 'watches', 'initiative', 'couples', '17th', 'mid', 'shock', 'angle', 'stored', 'anime', 'ceremony', 'guidance', 'crap', 'rob', 'tel', 'ram', 'layout', 'conditioning', '.0', 'pearl', 'trips', 'greatly', 'loop', 'angry', 'drawn', 'suck', 'matthew', 'atlantic', '600', 'purchasing', 'formal', 'pr', 'outlet', 'gym', 'rocks', 'gap', 'villa', 'suppose', 'engagement', 'roads', 'legend', 'sensor', 'holder', 'lounge', 'struggle', 'ms.', 'elegant', 'themes', 'portland', 'arrive', '16th', 'childhood', 'sensitive', 'meals', 'manchester', 'usd', 'traveling', '56', 'feb.', 'deposit', 'moore', 'pleasant', 'contained', 'appointment', '13th', 'painted', 'repeat', 'hosted', 'believes', 'suspect', 'adjustable', 'salad', '69', 'instruction', 'infection', 'alot', 'nba', 'oven', 'pp.', 'commented', 'summit', 'administrative', 'hook', 'temporary', 'liberal', '.2', 'transition', 'sees', 'newly', 'reflect', 'voting', 'specified', '14th', 'exposed', 'mechanical', 'incident', 'bruce', 'delete', 'controller', 'explains', 'pen', 'rick', 'equivalent', 'grab', 'casual', 'equity', 'awarded', 'contribute', 'laid', 'democrats', 'guilty', 'metro', '3.5', 'jay', 'oct.', 'cape', 'alaska', 'regions', 'contractors', 'lamp', 'vinyl', 'regard', 'sequence', 'immigration', 'drum', 'forecast', 'muslim', '1989', 'concepts', 'producer', 'odd', 'cafe', 'variable', 'ongoing', 'morgan', 'fed', 'compliance', 'currency', 'pray', 'disaster', 'rail', 'clark', 'k.', 'int', 'kate', 'blend', 'marked', 'narrow', 'clinic', 'em', 'breaks', 'uncategorized', 'editing', 'lbs', 'bound', 'mg', 'vary', 'institution', 'duration', 'alliance', 'commerce', 'wing', 'claimed', 'entitled', 'sons', 'republicans', 'joke', 'consumption', 'ranked', 'merely', 'nyc', 'achieved', 'mood', 'opera', 'paperback', 'entrance', 'economics', 'satisfaction', 'heading', 'moral', 'mixture', 'tourism', 'regulation', 'discussions', 'structures', 'rod', 'beef', 'romance', 'lodge', 'alan', 'loud', 'brush', 'chef', 'lisa', 'intel', 'soup', 'poll', 'belief', 'occasion', 'letting', 'cabinet', 'recall', 'spots', 'fucked', 'sponsored', 'desert', 'scope', 'tasks', 'stocks', 'mexican', 'pitch', 'consideration', 'plug', 'singapore', 'indoor', 'visible', '68', 'electricity', 'forgot', 'specifications', 'laboratory', 'toyota', 'pipe', 'hardly', 'wisdom', 'contacts', 'mess', 'designers', 'sentence', 'combine', 'courts', 'delay', 'occurred', 'carrier', 'animation', 'requested', 'copper', 'kong', 'routine', 'comics', 'processor', 'farmers', 'consultant', 'gotta', 'widely', 'orleans', 'promotional', 'brazil', 'bitch', 'brass', 'victim', 'representatives', 'conservation', 'canvas', 'knife', 'raising', 'attractions', 'displays', 'globe', 'loading', '53', 'dell', 'instrument', 'volunteers', 'ghost', 'ceiling', 'suggests', 'returning', 'valve', 'epic', 'smell', '67', 'presidential', 'acres', 'exception', 'vitamin', 'tissue', 'accuracy', 'corn', 'versus', 'reducing', 'fault', 'unusual', 'artwork', 'relax', 'elections', 'expressed', 'hence', 'rapid', 'functional', 'correctly', 'mall', 'itunes', 'define', 'census', '25th', 'waters', 'contracts', 'heights', 'sheets', 'wings', 'tons', 'egypt', 'tied', 'rough', 'posters', 'venue', 'tears', 'strongly', 'sufficient', 'stable', 'packaging', 'medication', 'jews', 'jet', 'honestly', 'offense', 'documentation', 'churches', 'objective', 'officially', 'amenities', 'angels', 'agenda', 'characteristics', 'challenging', 'drew', 'les', 'voters', 'secrets', 'curious', 'incredibly', 'cherry', 'engineers', 'passes', 'glasses', 'genre', 'susan', 'cam', 'quit', 'quest', 'gb', 'trim', '1/4', 'sleeve', 'impressed', 'physics', 'steam', 'arrival', 'diverse', 'involving', 'eligible', 'automotive', 'fiscal', 'tiger', 'killer', 'tune', 'jon', 'voltage', 'overnight', 'worried', 'classroom', 'amy', 'export', 'ridge', 'pad', 'anxiety', 'engaged', 'indicate', 'preparing', 'horror', 'loaded', 'terminal', 'slot', 'picks', 'joining', 'commonly', 'troops', 'wallpaper', 'bears', 'consists', 'chips', 'adopted', 'dec.', 'dna', 'ban', 'coaching', 'larry', 'sept.', 'charlie', 'implement', 'requirement', 'liability', 'understood', 'whilst', 'confused', 'import', 'sucks', 'exists', 'fluid', 'mens', 'stronger', 'lately', 'chairs', 'twenty', 'ordinary', 'supplier', 'basket', 'johnny', 'maintained', 'episodes', 'spam', 'arena', 'seeds', 'cleveland', '1988', 'inspection', 'danger', 'blade', 'necklace', '58', 'cure', 'computing', 'unlimited', 'minds', 'conclusion', 'nike', 'ah', 'participation', 'adventures', 'seal', 'spaces', 'walker', 'bc', 'des', 'replied', 'injured', 'louisiana', '96', 'wii', 'baltimore', 'pie', 'alexander', 'girlfriend', '88', 'meanwhile', 'collaboration', 'suffer', 'extend', 'behalf', 'pointed', 'hop', 'labels', 'panels', 'insight', 'xxx', 'buttons', 'mill', 'wrap', 'authentic', 'disabled', 'eagle', 'lease', 'galaxy', 'vancouver', 'distributed', 'hong', 'classical', 'connecticut', 'trucks', 'increasingly', '30th', 'mn', 'mls', '71', 'capabilities', 'anne', 'greg', 'glory', 'clicking', 'ref', 'colleges', 'struck', 'masters', 'talented', 'ne', 'mississippi', 'happiness', '+1', 'wikipedia', 'makeup', 'explanation', 'ringtone', 'na', 'essay', 'survival', 'associates', 'democracy', 'fraud', 'defensive', 'attempts', 'latter', 'essentially', 'opposition', 'aids', 'orlando', 'afghanistan', '800', 'composition', 'announcement', '78', 'womens', 'lips', 'jimmy', '__', 'hr', 'flavor', 'entering', '57', 'confident', 'anna', 'reads', '1,000', 'finest', 'fancy', 'vertical', 'maine', 'addiction', 'silent', 'legacy', '1.0', 'console', 'workout', 'christians', 'dakota', 'precious', 'survive', 'psychology', 'improvements', 'omg', 'estimate', 'largely', 'transaction', 'skip', 'vegetables', '76', 'shirts', 'equally', 'disorder', 'assigned', 'rome', 'personalized', 'hood', 'mistakes', 'diameter', 'chase', 'shame', 'cheaper', '74', 'jose', 'facial', 'fame', 'occurs', 'filters', 'involves', 'jeans', 'ps3', '77', 'intelligent', 'eve', 'rack', 'divorce', 'checks', '59', 'employer', 'phil', 'packed', 'bookmark', 'appointed', 'knee', 'underground', 'performances', 'oxford', 'tire', 'euro', 'initially', 'humor', 'dutch', 'bench', 'butt', 'elsewhere', 'contributions', 'babe', 'opposed', 'courtesy', 'observed', '125', 'romney', 'billy', '73', 'satisfied', 'sean', 'findings', '91', 'jerry', 'judgment', 'ultra', 'athletic', 'kits', 'tail', 'wales', 'lawn', 'virgin', 'weapon', '84', 'cups', 'adams', 'olympic', 'newspapers', 'shore', 'olive', '62', 'barely', 'magnetic', 'scan', 'dose', 'maria', 'roots', 'rarely', 'lemon', 'represented', 'intellectual', 'hitting', 'sql', 'roles', 'settlement', 'intense', 'agriculture', 'starter', 'libraries', 'laura', 'asks', 'receiver', 'applying', 'conventional', 'sku', 'bits', 'suspension', 'insert', 'trick', 'employed', 'hybrid', 'asset', 'http', 'remained', 'gang', 'barbara', 'citizen', 'province', 'bang', 'studios', ':p', 'grill', 'enhanced', 'boring', '82', 'penalty', 'earrings', 'bow', 'confirm', 'palace', 'engage', 'indicated', 'easter', 'ken', 'sisters', 'gospel', '97', 'trusted', 'notebook', 'antonio', 'vietnam', 'tablet', 'races', 'berlin', 'actors', 'josh', 'profiles', 'additionally', 'dirt', 'signals', 'founder', 'photoshop', 'financing', 'permit', 'illness', 'operator', 'dodge', 'pt', 'ugly', 'maintaining', 'virtually', 'relating', 'discounts', 'describes', 'bureau', 'ibm', 'consequences', 'harris', 'nm', 'gulf', 'christopher', 'invest', 'marketplace', 'abc', 'armed', 'universities', 'recreation', 'devil', 'veterans', 'michelle', 'container', 'subscription', 'emails', 'deserve', 'leaf', 'mask', 'deluxe', 'communicate', 'compete', 'outer', 'independence', 'senator', 'filling', '86', '1987', 'portrait', 'brooklyn', 'earnings', 'alpha', 'charm', ':-)', 'tourist', 'query', 'nail', 'tn', '3.0', 'btw', 'destroy', 'actress', 'interaction', 'tropical', 'foster', 'editorial', 'valentine', 'dawn', 'applicable', 'labour', 'picking', 'spare', 'resume', 'jean', 'speaks', '24th', 'retired', '92', 'mounted', '61', 'stewart', 'outcome', 'venture', 'streaming', 'protocol', 'relation', 'korean', 'tries', 'cartoon', 'witness', '28th', 'gordon', 'worker', 'principle', 'didnt', 'governments', 'chronic', '81', 'exercises', 'invite', 'poverty', 'colored', 'mechanism', 'announce', 'browsing', 'bronze', 'charlotte', 'cambridge', '79', 'photograph', 'nevada', 'complicated', 'introduce', 'ears', 'arkansas', 'apparatus', 'jonathan', 'investments', '1986', 'creator', 'con', 'sandy', 'dishes', 'stomach', 'attorneys', 'camping', 'promoting', 'figured', 'real-time', '1980', 'waves', 'cinema', 'buffalo', 'sole', 'biography', 'studying', 'enables', 'essays', 'keyword', 'contribution', 'difficulty', 'nuts', '22nd', 'wishes', 'detection', 'static', 'advantages', 'stylish', 'formation', 'apparel', 'heroes', 'identification', 'franklin', 'signing', 'tribute', 'tale', 'grants', 'substance', 'ep', 'appreciated', 'convenience', 'stops', 'baking', 'blogger', 'jessica', 'mining', 'lying', 'gained', 'frames', 'hospitals', 'jail', 'silk', 'silly', 'ownership', 'lakes', '89', 'perry', 'cancel', 'supplied', '83', 'grove', 'steven', 'documentary', 'parallel', 'soap', 'diversity', '26th', 'podcast', 'losses', 'cloth', 'suffered', 'bulk', 'midnight', 'northwest', 'symbol', 'horrible', '23rd', 'faq', 'grounds', '63', 'faced', '27th', 'rally', 'accused', 'bold', 'folk', 'embodiment', 'demands', 'acne', 'franchise', 'exceptional', 'announces', 'biology', 'experiment', 'pittsburgh', 'tires', 'physician', 'analyst', 'clay', 'territory', 'knight', 'cisco', 'destroyed', '93', 'reveal', 'triple', 'terry', 'duke', 'stones', 'chemistry', 'drops', 'islam', 'myspace', 'gm', 'progressive', 'dying', 'fired', 'attending', 'gambling', 'visa', 'pine', 'ross', 'fundamental', 'walks', 'ups', 'fewer', 'beats', 'laundry', 'stages', 'voices', 'scholarship', 'wi', 'accordance'])"
      ]
     },
     "execution_count": 4,
     "metadata": {},
     "output_type": "execute_result"
    }
   ],
   "source": [
    "word2idx.keys()"
   ]
  },
  {
   "cell_type": "code",
   "execution_count": 5,
   "id": "97f706d1",
   "metadata": {},
   "outputs": [
    {
     "name": "stdout",
     "output_type": "stream",
     "text": [
      "Reading test -------\n",
      "Read 4041 sentence pairs\n",
      "Counting words\n",
      "Counted words:\n",
      "In questions: 6723 words\n",
      "In answers: 4670 words\n"
     ]
    }
   ],
   "source": [
    "q, a, pairs, vector = prepare_data('test', 'glove.42B.300d/glove.42B.300d.txt')"
   ]
  },
  {
   "cell_type": "code",
   "execution_count": 6,
   "id": "8fbb7b34",
   "metadata": {},
   "outputs": [],
   "source": [
    "matrix_len = q.n_words\n",
    "weights_matrix = np.zeros((matrix_len, 300))\n",
    "word_found = 0\n",
    "for i, word in enumerate(q.word2index):\n",
    "    try:\n",
    "        weights_matrix[i] = vector[word]\n",
    "    except:\n",
    "        continue"
   ]
  },
  {
   "cell_type": "code",
   "execution_count": 7,
   "id": "a8f6b622",
   "metadata": {},
   "outputs": [
    {
     "data": {
      "text/plain": [
       "6723"
      ]
     },
     "execution_count": 7,
     "metadata": {},
     "output_type": "execute_result"
    }
   ],
   "source": [
    "matrix_len"
   ]
  },
  {
   "cell_type": "markdown",
   "id": "0ad3f5f1",
   "metadata": {},
   "source": [
    "## Encoder"
   ]
  },
  {
   "cell_type": "code",
   "execution_count": 8,
   "id": "f246d5fc",
   "metadata": {},
   "outputs": [],
   "source": [
    "class Encoder(nn.Module):\n",
    "    \n",
    "    def __init__(self, batch_size, vocabulary_size, embedding_dim, hidden_size):\n",
    "        \n",
    "        super(Encoder, self).__init__()\n",
    "        \n",
    "        self.batch_size = batch_size\n",
    "        self.hidden_size = hidden_size\n",
    "        self.embedding_dim = embedding_dim\n",
    "        self.embedding = nn.Embedding(vocabolary_size, embedding_dim)\n",
    "        self.embedding.weight.data.copy(torch.from_numpy(weights_matrix))\n",
    "        self.gru = nn.GRU(hidden_size, hidden_size, dropout=0.3)\n",
    "        \n",
    "        \n",
    "    def forward(self, input, hidden):\n",
    "        \n",
    "        embedded = self.embedding(input)\n",
    "        output, hidden = self.gru(output, hidden)\n",
    "        \n",
    "        return output, hidden\n",
    "    \n",
    "    def initHidden(self):\n",
    "        \n",
    "        return torch.zeros((self.batch_size, 1, self.hidden_size), device=device)\n",
    "        \n",
    "        "
   ]
  },
  {
   "cell_type": "code",
   "execution_count": 9,
   "id": "c218c548",
   "metadata": {},
   "outputs": [],
   "source": [
    "attn = nn.Linear(100, 100)\n",
    "v = nn.Parameter(torch.rand(100))"
   ]
  },
  {
   "cell_type": "code",
   "execution_count": 10,
   "id": "7b976e95",
   "metadata": {},
   "outputs": [
    {
     "data": {
      "text/plain": [
       "100"
      ]
     },
     "execution_count": 10,
     "metadata": {},
     "output_type": "execute_result"
    }
   ],
   "source": [
    "v.size(0)"
   ]
  },
  {
   "cell_type": "code",
   "execution_count": 11,
   "id": "19760ebf",
   "metadata": {},
   "outputs": [],
   "source": [
    "encoder_outputs = torch.rand((32, 20, 100))"
   ]
  },
  {
   "cell_type": "code",
   "execution_count": 12,
   "id": "8d1558c8",
   "metadata": {},
   "outputs": [],
   "source": [
    "hidden = torch.rand((32, 1, 100))"
   ]
  },
  {
   "cell_type": "code",
   "execution_count": 13,
   "id": "01bf065b",
   "metadata": {},
   "outputs": [],
   "source": [
    "def score (hidden, encoder_outputs):\n",
    "    encoder_outputs = encoder_outputs.transpose(1, 2)\n",
    "    energy = torch.bmm(hidden, encoder_outputs)\n",
    "    return energy.squeeze(1)"
   ]
  },
  {
   "cell_type": "code",
   "execution_count": 14,
   "id": "df26560d",
   "metadata": {},
   "outputs": [
    {
     "data": {
      "text/plain": [
       "torch.Size([32, 20])"
      ]
     },
     "execution_count": 14,
     "metadata": {},
     "output_type": "execute_result"
    }
   ],
   "source": [
    "score(hidden, encoder_outputs).shape"
   ]
  },
  {
   "cell_type": "code",
   "execution_count": 15,
   "id": "d94de6e4",
   "metadata": {},
   "outputs": [],
   "source": [
    "class Attention(nn.Module):\n",
    "    \n",
    "    def __init__(self, hidden_size):\n",
    "        super(Attention, self).__init__()\n",
    "        \n",
    "        self.hidden_size = hidden_size\n",
    "        self.attn = nn.Linear(self.hidden_size, hidden_size)\n",
    "        \n",
    "    def forward(self, hidden, encoder_outputs):\n",
    "        \n",
    "        encoder_outputs = self.attn(encoder_outputs)\n",
    "        encoder_outputs = encoder_outputs.transpose(1, 2)\n",
    "        energy = torch.bmm(hidden, encoder_outputs)\n",
    "        att_energy = energy.squeeze(1)\n",
    "        \n",
    "        return F.softmax(att_energy, dim=1).unsqueeze(1)"
   ]
  },
  {
   "cell_type": "code",
   "execution_count": 16,
   "id": "d3c5dc3d",
   "metadata": {},
   "outputs": [
    {
     "data": {
      "text/plain": [
       "torch.Size([32, 100, 20])"
      ]
     },
     "execution_count": 16,
     "metadata": {},
     "output_type": "execute_result"
    }
   ],
   "source": [
    "encoder_outputs.transpose(1, 2).size()"
   ]
  },
  {
   "cell_type": "code",
   "execution_count": 17,
   "id": "18897385",
   "metadata": {},
   "outputs": [],
   "source": [
    "encoder_outputs = attn(encoder_outputs)\n",
    "encoder_outputs = encoder_outputs.transpose(1, 2)\n",
    "energy = torch.bmm(hidden, encoder_outputs)"
   ]
  },
  {
   "cell_type": "code",
   "execution_count": 18,
   "id": "ff346ac0",
   "metadata": {},
   "outputs": [
    {
     "data": {
      "text/plain": [
       "torch.Size([32, 1, 20])"
      ]
     },
     "execution_count": 18,
     "metadata": {},
     "output_type": "execute_result"
    }
   ],
   "source": [
    "energy.size()"
   ]
  },
  {
   "cell_type": "code",
   "execution_count": 19,
   "id": "744cdfec",
   "metadata": {},
   "outputs": [],
   "source": [
    "dropout = nn.Dropout(0.2, inplace=True)"
   ]
  },
  {
   "cell_type": "code",
   "execution_count": 20,
   "id": "7b878eb3",
   "metadata": {},
   "outputs": [],
   "source": [
    "dec_inp = torch.randint(500, (32, 1))"
   ]
  },
  {
   "cell_type": "code",
   "execution_count": 21,
   "id": "76e7f477",
   "metadata": {},
   "outputs": [
    {
     "data": {
      "text/plain": [
       "torch.int64"
      ]
     },
     "execution_count": 21,
     "metadata": {},
     "output_type": "execute_result"
    }
   ],
   "source": [
    "dec_inp.dtype"
   ]
  },
  {
   "cell_type": "code",
   "execution_count": 22,
   "id": "9a38e1ef",
   "metadata": {},
   "outputs": [],
   "source": [
    "encoder_outputs = torch.rand((32, 20, 100))"
   ]
  },
  {
   "cell_type": "code",
   "execution_count": 23,
   "id": "bf20b1ec",
   "metadata": {},
   "outputs": [],
   "source": [
    "embed = nn.Embedding(500, 100)\n",
    "\n",
    "embedded = embed(dec_inp)\n",
    "embedded = dropout(embedded)\n",
    "attn_weight = score(hidden, encoder_outputs).unsqueeze(1)"
   ]
  },
  {
   "cell_type": "code",
   "execution_count": 24,
   "id": "38f72386",
   "metadata": {},
   "outputs": [
    {
     "data": {
      "text/plain": [
       "torch.Size([32, 1, 20])"
      ]
     },
     "execution_count": 24,
     "metadata": {},
     "output_type": "execute_result"
    }
   ],
   "source": [
    "attn_weight.size()"
   ]
  },
  {
   "cell_type": "code",
   "execution_count": 25,
   "id": "19ca19c8",
   "metadata": {},
   "outputs": [
    {
     "data": {
      "text/plain": [
       "torch.Size([32, 1, 100])"
      ]
     },
     "execution_count": 25,
     "metadata": {},
     "output_type": "execute_result"
    }
   ],
   "source": [
    "embedded.size()"
   ]
  },
  {
   "cell_type": "code",
   "execution_count": 26,
   "id": "8d6169e0",
   "metadata": {},
   "outputs": [],
   "source": [
    "context = attn_weight.bmm(encoder_outputs)"
   ]
  },
  {
   "cell_type": "code",
   "execution_count": 27,
   "id": "67d772b2",
   "metadata": {},
   "outputs": [
    {
     "data": {
      "text/plain": [
       "torch.Size([32, 1, 100])"
      ]
     },
     "execution_count": 27,
     "metadata": {},
     "output_type": "execute_result"
    }
   ],
   "source": [
    "context.size()"
   ]
  },
  {
   "cell_type": "code",
   "execution_count": 28,
   "id": "e75d1901",
   "metadata": {},
   "outputs": [],
   "source": [
    "rnn_input= torch.cat([embedded, context], 2)"
   ]
  },
  {
   "cell_type": "code",
   "execution_count": 29,
   "id": "1b3c2e65",
   "metadata": {},
   "outputs": [
    {
     "data": {
      "text/plain": [
       "torch.Size([32, 1, 200])"
      ]
     },
     "execution_count": 29,
     "metadata": {},
     "output_type": "execute_result"
    }
   ],
   "source": [
    "rnn_input.size()"
   ]
  },
  {
   "cell_type": "code",
   "execution_count": 30,
   "id": "65fe2dd4",
   "metadata": {},
   "outputs": [],
   "source": [
    "class Decoder(nn.Module):\n",
    "    \n",
    "    def __init__(self, embed_size, hidden_size, output_size, dropout):\n",
    "        \n",
    "        self.embed_size = embed_size\n",
    "        self.hidden_size = hidden_size\n",
    "        self.output_size = output_size\n",
    "        \n",
    "        self.embedded = nn.Embedding(output_size, self.embed_size)\n",
    "        self.dropout = nn.Dropout(dropout, inplace=True)\n",
    "        self.attention = Attention(hidden_size)\n",
    "        self.gru = nn.GRU(hidden_size+embed_size, hidden_size, dropout=dropout)\n",
    "        self.out = nn.Linear(hidden_size*2, output_size)\n",
    "        \n",
    "    \n",
    "    def forward(self, input, last_hidden, encoder_outputs):\n",
    "        \n",
    "        embedded = self.embed(input)\n",
    "        embedded = self.dropout(embedded)\n",
    "        attn_weights = self.attention(last_hidden, encoder_outputs)\n",
    "        context = attn_weights.bmm(encoder_outputs)\n",
    "        rnn_input = torch.cat([embedded, context], 2)\n",
    "        output, hidden = self.gru(rnn_input, last_hidden)\n",
    "        output = output.squeeze(1)\n",
    "        context = context.squeeze(1)\n",
    "        output = self.out(torch.cat([output, context], 1))\n",
    "        output = F.log_softmax(output, dim=1)\n",
    "        \n",
    "        return output, hidden, attn_weights"
   ]
  },
  {
   "cell_type": "code",
   "execution_count": 31,
   "id": "324bbc0a",
   "metadata": {},
   "outputs": [],
   "source": [
    "class Seq2Seq(nn.Module):\n",
    "    \n",
    "    def __init__(self, encoder, decoder, max_out_length, device, criterion):\n",
    "        \n",
    "        super(Seq2Seq, self).__init__()\n",
    "        \n",
    "        self.encoder = encoder\n",
    "        self.decoder = decoder\n",
    "        self.batch_size = encoder.batch_size\n",
    "        self.output_size = decoder.output_size\n",
    "        self.max_length = max_out_length\n",
    "        self.device = device\n",
    "        self.criterion = criterion\n",
    "        self.SOS_token = 0 \n",
    "\n",
    "    \n",
    "    def forward(self, src, trg, teacher_forcing_ratio = 0.5):\n",
    "        \n",
    "        loss = 0\n",
    "        decoder_outputs = torch.zeros((self.batch_size, self.max_length, self.output_size), device=self.device)\n",
    "        \n",
    "        encoder_outputs, encoder_hidden = self.encoder(src)\n",
    "        \n",
    "        decoder_input = torch.tensor([self.batch_size*[self.SOS_token]], device = self.device)\n",
    "        decoder_hidden = encoder_hidden\n",
    "        \n",
    "        use_teacher_forcing = True if random.random() < teacher_forcing_ratio else False\n",
    "        \n",
    "        if use_teacher_forcing:\n",
    "            for inp in range(self.max_out_length):\n",
    "                decoder_output, decoder_hidden, decoder_attention = self.decoder(decoder_input, decoder_hidden, encoder_outputs)\n",
    "                decoder_outputs[:, inp, :] = decoder_output\n",
    "                loss += self.criterion(decoder_output, trg[inp]) \n",
    "                \n",
    "                decoder_input = trg[inp]\n",
    "        else:\n",
    "            for inp in range(self.max_out_length):\n",
    "                decoder_output, decoder_hidden, decoder_attention = self.decoder(decoder_input, decoder_hidden, encoder_outputs)\n",
    "                decoder_outputs[:, inp, :] = decoder_output\n",
    "                topv, topi = decoder_output.topk(1)\n",
    "                decoder_input = topi.squeeze().detach()\n",
    "                loss += self.criterion(decoder_output, trg[inp]) \n",
    "        \n",
    "        return decoder_outputs, loss"
   ]
  },
  {
   "cell_type": "code",
   "execution_count": 32,
   "id": "b615dbc2",
   "metadata": {},
   "outputs": [],
   "source": [
    "decoderout = torch.rand(32, 500)"
   ]
  },
  {
   "cell_type": "code",
   "execution_count": 33,
   "id": "978f223f",
   "metadata": {},
   "outputs": [
    {
     "data": {
      "text/plain": [
       "torch.Size([32, 500])"
      ]
     },
     "execution_count": 33,
     "metadata": {},
     "output_type": "execute_result"
    }
   ],
   "source": [
    "decoderout.size()"
   ]
  },
  {
   "cell_type": "code",
   "execution_count": 34,
   "id": "876c7742",
   "metadata": {},
   "outputs": [],
   "source": [
    "topv, topi = decoderout.topk(1)"
   ]
  },
  {
   "cell_type": "code",
   "execution_count": 35,
   "id": "5769584c",
   "metadata": {},
   "outputs": [
    {
     "data": {
      "text/plain": [
       "tensor([268, 435, 445, 110, 491, 232, 197, 184, 392, 157, 202, 201, 230, 187,\n",
       "        167, 355, 195,  94, 361, 479, 251, 338, 468,  52, 334,  17, 146, 109,\n",
       "        113, 155,  35,  12])"
      ]
     },
     "execution_count": 35,
     "metadata": {},
     "output_type": "execute_result"
    }
   ],
   "source": [
    "topi.squeeze().detach()"
   ]
  },
  {
   "cell_type": "code",
   "execution_count": 36,
   "id": "ef29720b",
   "metadata": {},
   "outputs": [
    {
     "data": {
      "text/plain": [
       "tensor([[0.9995],\n",
       "        [1.0000],\n",
       "        [0.9946],\n",
       "        [0.9993],\n",
       "        [0.9987],\n",
       "        [0.9993],\n",
       "        [0.9929],\n",
       "        [0.9998],\n",
       "        [0.9972],\n",
       "        [0.9999],\n",
       "        [0.9978],\n",
       "        [0.9991],\n",
       "        [0.9994],\n",
       "        [0.9982],\n",
       "        [0.9991],\n",
       "        [0.9966],\n",
       "        [1.0000],\n",
       "        [0.9984],\n",
       "        [0.9990],\n",
       "        [0.9984],\n",
       "        [0.9962],\n",
       "        [0.9999],\n",
       "        [0.9959],\n",
       "        [0.9979],\n",
       "        [0.9982],\n",
       "        [0.9989],\n",
       "        [0.9997],\n",
       "        [0.9989],\n",
       "        [0.9980],\n",
       "        [0.9982],\n",
       "        [0.9991],\n",
       "        [0.9982]])"
      ]
     },
     "execution_count": 36,
     "metadata": {},
     "output_type": "execute_result"
    }
   ],
   "source": [
    "topv"
   ]
  },
  {
   "cell_type": "code",
   "execution_count": 37,
   "id": "796287de",
   "metadata": {},
   "outputs": [
    {
     "data": {
      "text/plain": [
       "tensor([[0, 0, 0, 0, 0, 0, 0, 0, 0, 0, 0, 0, 0, 0, 0, 0, 0, 0, 0, 0, 0, 0, 0, 0,\n",
       "         0, 0, 0, 0, 0, 0, 0, 0]])"
      ]
     },
     "execution_count": 37,
     "metadata": {},
     "output_type": "execute_result"
    }
   ],
   "source": [
    "torch.tensor([32*[0]])"
   ]
  },
  {
   "cell_type": "code",
   "execution_count": 45,
   "id": "716e7985",
   "metadata": {},
   "outputs": [],
   "source": [
    "loop_1 = topi.detach()\n",
    "loop_2 = topi.detach()"
   ]
  },
  {
   "cell_type": "code",
   "execution_count": 55,
   "id": "15a75e7a",
   "metadata": {},
   "outputs": [
    {
     "data": {
      "text/plain": [
       "[[268, 268],\n",
       " [435, 435],\n",
       " [445, 445],\n",
       " [110, 110],\n",
       " [491, 491],\n",
       " [232, 232],\n",
       " [197, 197],\n",
       " [184, 184],\n",
       " [392, 392],\n",
       " [157, 157],\n",
       " [202, 202],\n",
       " [201, 201],\n",
       " [230, 230],\n",
       " [187, 187],\n",
       " [167, 167],\n",
       " [355, 355],\n",
       " [195, 195],\n",
       " [94, 94],\n",
       " [361, 361],\n",
       " [479, 479],\n",
       " [251, 251],\n",
       " [338, 338],\n",
       " [468, 468],\n",
       " [52, 52],\n",
       " [334, 334],\n",
       " [17, 17],\n",
       " [146, 146],\n",
       " [109, 109],\n",
       " [113, 113],\n",
       " [155, 155],\n",
       " [35, 35],\n",
       " [12, 12]]"
      ]
     },
     "execution_count": 55,
     "metadata": {},
     "output_type": "execute_result"
    }
   ],
   "source": [
    "torch.cat([loop_1, loop_2], dim=-1).numpy().tolist()"
   ]
  },
  {
   "cell_type": "code",
   "execution_count": 67,
   "id": "faff534f",
   "metadata": {},
   "outputs": [],
   "source": [
    "a=torch.empty((32,1), dtype=torch.int32, device = 'cpu')"
   ]
  },
  {
   "cell_type": "code",
   "execution_count": 72,
   "id": "ad5506ac",
   "metadata": {},
   "outputs": [],
   "source": [
    "a = torch.cat([a, loop_1], dim=-1)"
   ]
  },
  {
   "cell_type": "code",
   "execution_count": 73,
   "id": "d03ca306",
   "metadata": {},
   "outputs": [
    {
     "data": {
      "text/plain": [
       "tensor([[  0, 268, 268, 268],\n",
       "        [  0, 435, 435, 435],\n",
       "        [  0, 445, 445, 445],\n",
       "        [  0, 110, 110, 110],\n",
       "        [  0, 491, 491, 491],\n",
       "        [  0, 232, 232, 232],\n",
       "        [  0, 197, 197, 197],\n",
       "        [  0, 184, 184, 184],\n",
       "        [  0, 392, 392, 392],\n",
       "        [  0, 157, 157, 157],\n",
       "        [  0, 202, 202, 202],\n",
       "        [  0, 201, 201, 201],\n",
       "        [  0, 230, 230, 230],\n",
       "        [  0, 187, 187, 187],\n",
       "        [  0, 167, 167, 167],\n",
       "        [  0, 355, 355, 355],\n",
       "        [  0, 195, 195, 195],\n",
       "        [  0,  94,  94,  94],\n",
       "        [  0, 361, 361, 361],\n",
       "        [  0, 479, 479, 479],\n",
       "        [  0, 251, 251, 251],\n",
       "        [  0, 338, 338, 338],\n",
       "        [  0, 468, 468, 468],\n",
       "        [  0,  52,  52,  52],\n",
       "        [  0, 334, 334, 334],\n",
       "        [  0,  17,  17,  17],\n",
       "        [  0, 146, 146, 146],\n",
       "        [  0, 109, 109, 109],\n",
       "        [  0, 113, 113, 113],\n",
       "        [  0, 155, 155, 155],\n",
       "        [  0,  35,  35,  35],\n",
       "        [  0,  12,  12,  12]])"
      ]
     },
     "execution_count": 73,
     "metadata": {},
     "output_type": "execute_result"
    }
   ],
   "source": [
    "a"
   ]
  },
  {
   "cell_type": "code",
   "execution_count": 78,
   "id": "275a950a",
   "metadata": {},
   "outputs": [
    {
     "data": {
      "text/plain": [
       "[[268, 268, 268],\n",
       " [435, 435, 435],\n",
       " [445, 445, 445],\n",
       " [110, 110, 110],\n",
       " [491, 491, 491],\n",
       " [232, 232, 232],\n",
       " [197, 197, 197],\n",
       " [184, 184, 184],\n",
       " [392, 392, 392],\n",
       " [157, 157, 157],\n",
       " [202, 202, 202],\n",
       " [201, 201, 201],\n",
       " [230, 230, 230],\n",
       " [187, 187, 187],\n",
       " [167, 167, 167],\n",
       " [355, 355, 355],\n",
       " [195, 195, 195],\n",
       " [94, 94, 94],\n",
       " [361, 361, 361],\n",
       " [479, 479, 479],\n",
       " [251, 251, 251],\n",
       " [338, 338, 338],\n",
       " [468, 468, 468],\n",
       " [52, 52, 52],\n",
       " [334, 334, 334],\n",
       " [17, 17, 17],\n",
       " [146, 146, 146],\n",
       " [109, 109, 109],\n",
       " [113, 113, 113],\n",
       " [155, 155, 155],\n",
       " [35, 35, 35],\n",
       " [12, 12, 12]]"
      ]
     },
     "execution_count": 78,
     "metadata": {},
     "output_type": "execute_result"
    }
   ],
   "source": [
    "l = a[:, 1:].numpy().tolist()\n",
    "l"
   ]
  },
  {
   "cell_type": "code",
   "execution_count": 81,
   "id": "67cc2860",
   "metadata": {},
   "outputs": [],
   "source": [
    "seq_length = np.random.randint(3, size=32)"
   ]
  },
  {
   "cell_type": "code",
   "execution_count": 82,
   "id": "ace4f6e9",
   "metadata": {},
   "outputs": [
    {
     "data": {
      "text/plain": [
       "array([0, 0, 1, 2, 2, 1, 2, 0, 0, 2, 1, 0, 2, 0, 2, 1, 1, 1, 1, 1, 2, 0,\n",
       "       0, 2, 1, 2, 0, 0, 1, 2, 0, 1])"
      ]
     },
     "execution_count": 82,
     "metadata": {},
     "output_type": "execute_result"
    }
   ],
   "source": [
    "seq_length"
   ]
  },
  {
   "cell_type": "code",
   "execution_count": 94,
   "id": "cce07dec",
   "metadata": {},
   "outputs": [
    {
     "data": {
      "text/plain": [
       "[445, 445]"
      ]
     },
     "execution_count": 94,
     "metadata": {},
     "output_type": "execute_result"
    }
   ],
   "source": [
    "l[2][:seq_length[2]+1]"
   ]
  },
  {
   "cell_type": "code",
   "execution_count": 97,
   "id": "e17e36fa",
   "metadata": {},
   "outputs": [
    {
     "data": {
      "text/plain": [
       "[[268],\n",
       " [435],\n",
       " [445, 445],\n",
       " [110, 110, 110],\n",
       " [491, 491, 491],\n",
       " [232, 232],\n",
       " [197, 197, 197],\n",
       " [184],\n",
       " [392],\n",
       " [157, 157, 157],\n",
       " [202, 202],\n",
       " [201],\n",
       " [230, 230, 230],\n",
       " [187],\n",
       " [167, 167, 167],\n",
       " [355, 355],\n",
       " [195, 195],\n",
       " [94, 94],\n",
       " [361, 361],\n",
       " [479, 479],\n",
       " [251, 251, 251],\n",
       " [338],\n",
       " [468],\n",
       " [52, 52, 52],\n",
       " [334, 334],\n",
       " [17, 17, 17],\n",
       " [146],\n",
       " [109],\n",
       " [113, 113],\n",
       " [155, 155, 155],\n",
       " [35],\n",
       " [12, 12]]"
      ]
     },
     "execution_count": 97,
     "metadata": {},
     "output_type": "execute_result"
    }
   ],
   "source": [
    "[word[:length+1] for word, length in zip(l, seq_length)]"
   ]
  }
 ],
 "metadata": {
  "kernelspec": {
   "display_name": "Python 3",
   "language": "python",
   "name": "python3"
  },
  "language_info": {
   "codemirror_mode": {
    "name": "ipython",
    "version": 3
   },
   "file_extension": ".py",
   "mimetype": "text/x-python",
   "name": "python",
   "nbconvert_exporter": "python",
   "pygments_lexer": "ipython3",
   "version": "3.8.10"
  }
 },
 "nbformat": 4,
 "nbformat_minor": 5
}
