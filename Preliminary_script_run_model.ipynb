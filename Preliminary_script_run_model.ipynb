{
 "cells": [
  {
   "cell_type": "code",
   "execution_count": null,
   "id": "627c0da8",
   "metadata": {},
   "outputs": [],
   "source": [
    "from utils import prepare_data\n",
    "import numpy as np"
   ]
  },
  {
   "cell_type": "code",
   "execution_count": null,
   "id": "ee5b2f2c",
   "metadata": {},
   "outputs": [],
   "source": [
    "q, a, pairs = prepare_data('train')"
   ]
  },
  {
   "cell_type": "code",
   "execution_count": null,
   "id": "d885b9af",
   "metadata": {},
   "outputs": [],
   "source": [
    "def load_glove(file_path, small=True):\n",
    "    idx = 0\n",
    "    vectors = {}\n",
    "    word2idx = {}\n",
    "    words = []\n",
    "    with open(file_path, encoding='utf8') as lines:\n",
    "        for line in lines:\n",
    "            if small and idx > 5000:\n",
    "                break\n",
    "            line = line.split()\n",
    "            word2idx[line[0].lower()] = idx\n",
    "            vectors[line[0].lower()] = np.array(list(line[1:]), dtype='float')\n",
    "            idx += 1\n",
    "    return vectors, word2idx"
   ]
  },
  {
   "cell_type": "code",
   "execution_count": null,
   "id": "cbf2197e",
   "metadata": {},
   "outputs": [],
   "source": [
    "vec, word2idx = load_glove('glove.42B.300d/glove.42B.300d.txt')"
   ]
  },
  {
   "cell_type": "code",
   "execution_count": null,
   "id": "4f7c6b4e",
   "metadata": {},
   "outputs": [],
   "source": [
    "import operator\n",
    "{k: v for k, v in sorted(word2vec.items(), key=operator.itemgetter(1))}"
   ]
  },
  {
   "cell_type": "code",
   "execution_count": null,
   "id": "a4a627a7",
   "metadata": {},
   "outputs": [],
   "source": [
    "word2idx.keys()"
   ]
  },
  {
   "cell_type": "code",
   "execution_count": null,
   "id": "30a04300",
   "metadata": {},
   "outputs": [],
   "source": [
    "len(glove.keys())"
   ]
  },
  {
   "cell_type": "code",
   "execution_count": null,
   "id": "97f706d1",
   "metadata": {},
   "outputs": [],
   "source": [
    "q, a, pairs = prepare_data('test', 'glove.42B.300d/glove.42B.300d.txt')"
   ]
  },
  {
   "cell_type": "code",
   "execution_count": null,
   "id": "8fbb7b34",
   "metadata": {},
   "outputs": [],
   "source": []
  }
 ],
 "metadata": {
  "kernelspec": {
   "display_name": "Python 3",
   "language": "python",
   "name": "python3"
  },
  "language_info": {
   "codemirror_mode": {
    "name": "ipython",
    "version": 3
   },
   "file_extension": ".py",
   "mimetype": "text/x-python",
   "name": "python",
   "nbconvert_exporter": "python",
   "pygments_lexer": "ipython3",
   "version": "3.8.10"
  }
 },
 "nbformat": 4,
 "nbformat_minor": 5
}
