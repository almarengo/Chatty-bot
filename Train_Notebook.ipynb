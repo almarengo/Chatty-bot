{
 "cells": [
  {
   "cell_type": "code",
   "execution_count": null,
   "id": "sporting-circular",
   "metadata": {
    "ExecuteTime": {
     "end_time": "2021-09-01T06:40:42.013249Z",
     "start_time": "2021-09-01T06:40:41.389328Z"
    }
   },
   "outputs": [],
   "source": [
    "from torch.optim.lr_scheduler import ReduceLROnPlateau\n",
    "from load_utils import prepare_data\n",
    "from train_utils import *\n",
    "from seq2seq_model import *\n",
    "import numpy as np\n",
    "import torch\n",
    "from tqdm.notebook import tnrange, tqdm_notebook\n",
    "from Calculate_BLEU import *\n",
    "import datetime"
   ]
  },
  {
   "cell_type": "code",
   "execution_count": null,
   "id": "interpreted-cornwall",
   "metadata": {
    "ExecuteTime": {
     "end_time": "2021-09-01T06:40:42.029253Z",
     "start_time": "2021-09-01T06:40:42.016253Z"
    }
   },
   "outputs": [],
   "source": [
    "device = torch.device(\"cuda\" if torch.cuda.is_available() else \"cpu\")\n",
    "#device = \"cpu\""
   ]
  },
  {
   "cell_type": "code",
   "execution_count": null,
   "id": "sixth-management",
   "metadata": {
    "ExecuteTime": {
     "end_time": "2021-09-01T06:40:42.771941Z",
     "start_time": "2021-09-01T06:40:42.033248Z"
    }
   },
   "outputs": [],
   "source": [
    "q, a, pairs, vector = prepare_data('train', 'glove.42B.300d/glove.42B.300d.txt', small=True)"
   ]
  },
  {
   "cell_type": "code",
   "execution_count": null,
   "id": "24c8383f",
   "metadata": {},
   "outputs": [],
   "source": [
    "# Add EOS at end of each target sentence\n",
    "pairs = [[line[0], line[1]+' EOS'] for line in pairs ]"
   ]
  },
  {
   "cell_type": "code",
   "execution_count": null,
   "id": "decimal-tissue",
   "metadata": {
    "ExecuteTime": {
     "end_time": "2021-09-01T06:40:42.803806Z",
     "start_time": "2021-09-01T06:40:42.775935Z"
    }
   },
   "outputs": [],
   "source": [
    "matrix_len = q.n_words\n",
    "weights_matrix = np.zeros((matrix_len, 300))\n",
    "word_found = 0\n",
    "for i, word in enumerate(q.word2index):\n",
    "    try:\n",
    "        weights_matrix[i] = vector[word]\n",
    "    except:\n",
    "        continue"
   ]
  },
  {
   "cell_type": "code",
   "execution_count": null,
   "id": "bored-interest",
   "metadata": {
    "ExecuteTime": {
     "end_time": "2021-09-01T06:40:43.217378Z",
     "start_time": "2021-09-01T06:40:43.203344Z"
    }
   },
   "outputs": [],
   "source": [
    "criterion = nn.NLLLoss()\n",
    "optimizer = 'Adam'\n",
    "batch_size = 32\n",
    "lr = 0.001"
   ]
  },
  {
   "cell_type": "code",
   "execution_count": null,
   "id": "finnish-insertion",
   "metadata": {
    "ExecuteTime": {
     "end_time": "2021-09-01T06:40:43.265344Z",
     "start_time": "2021-09-01T06:40:43.219343Z"
    },
    "scrolled": true
   },
   "outputs": [],
   "source": [
    "model = Seq2Seq(batch_size, q.n_words, a.n_words, 256, 100, weights_matrix, 0.2, device, criterion)"
   ]
  },
  {
   "cell_type": "code",
   "execution_count": null,
   "id": "8b401cb8",
   "metadata": {},
   "outputs": [],
   "source": [
    "if optimizer == 'Adam':\n",
    "    optimizer = torch.optim.Adam(model.parameters(), lr=lr)\n",
    "else:\n",
    "    optimizer = torch.optim.SGD(model.parameters(), lr=lr)"
   ]
  },
  {
   "cell_type": "code",
   "execution_count": null,
   "id": "dacb54cf",
   "metadata": {},
   "outputs": [],
   "source": [
    "scheduler = ReduceLROnPlateau(optimizer, 'min', patience=3)"
   ]
  },
  {
   "cell_type": "code",
   "execution_count": null,
   "id": "improving-jerusalem",
   "metadata": {
    "ExecuteTime": {
     "end_time": "2021-09-01T05:34:10.025725Z",
     "start_time": "2021-09-01T05:34:07.912Z"
    }
   },
   "outputs": [],
   "source": [
    "a.n_words"
   ]
  },
  {
   "cell_type": "code",
   "execution_count": null,
   "id": "grave-prison",
   "metadata": {
    "ExecuteTime": {
     "end_time": "2021-09-01T06:40:43.816506Z",
     "start_time": "2021-09-01T06:40:43.267345Z"
    },
    "scrolled": false
   },
   "outputs": [],
   "source": [
    "from jupyterplot import ProgressPlot\n",
    "\n",
    "pp = ProgressPlot(x_label='Epoch', plot_names=['train_loss', 'train_accuracy'])\n",
    "\n",
    "for epoch in tnrange(100, desc=\"Total epochs: \"):\n",
    "\n",
    "    print(f'Epoch {epoch + 1}: {datetime.datetime.now()}')\n",
    "\n",
    "    # Calculte loss\n",
    "    loss = epoch_train(model, optimizer, batch_size, pairs, q, a, device)\n",
    "    \n",
    "    current_lr = optimizer.param_groups[0]['lr']\n",
    "    \n",
    "    print(f'Loss: {loss}')\n",
    "    print(f'LR: {current_lr}')\n",
    "    \n",
    "    scheduler.step(loss)\n",
    "\n",
    "    # Calculate accuracy\n",
    "    accuracy = epoch_accuray(model, batch_size, pairs, q, a, device)\n",
    "\n",
    "    print(f'Train accuracy: {accuracy}')\n",
    "\n",
    "    # Calculate BLEU Score\n",
    "    #BLEU_model = CalculateBleu(model, batch_size, pairs, q, a, device)\n",
    "    #bleu_score = BLEU_model.score()\n",
    "\n",
    "    #print(f'BLUE score: {bleu_score}')\n",
    "\n",
    "    # Try to do interactive plot\n",
    "    pp.update([[loss], [accuracy]])\n",
    "\n",
    "pp.finalize()\n",
    "print(f\"Optimization ended successfully\")\n"
   ]
  }
 ],
 "metadata": {
  "hide_input": false,
  "kernelspec": {
   "display_name": "Python 3",
   "language": "python",
   "name": "python3"
  },
  "language_info": {
   "codemirror_mode": {
    "name": "ipython",
    "version": 3
   },
   "file_extension": ".py",
   "mimetype": "text/x-python",
   "name": "python",
   "nbconvert_exporter": "python",
   "pygments_lexer": "ipython3",
   "version": "3.8.10"
  },
  "toc": {
   "base_numbering": 1,
   "nav_menu": {},
   "number_sections": true,
   "sideBar": true,
   "skip_h1_title": false,
   "title_cell": "Table of Contents",
   "title_sidebar": "Contents",
   "toc_cell": false,
   "toc_position": {},
   "toc_section_display": true,
   "toc_window_display": false
  }
 },
 "nbformat": 4,
 "nbformat_minor": 5
}
