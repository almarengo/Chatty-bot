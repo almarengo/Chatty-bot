{
 "cells": [
  {
   "cell_type": "code",
   "execution_count": 1,
   "id": "sporting-circular",
   "metadata": {
    "ExecuteTime": {
     "end_time": "2021-09-01T06:40:42.013249Z",
     "start_time": "2021-09-01T06:40:41.389328Z"
    }
   },
   "outputs": [],
   "source": [
    "from load_utils import prepare_data\n",
    "from train_utils import *\n",
    "from seq2seq_model import *\n",
    "import numpy as np\n",
    "import torch\n",
    "from tqdm.notebook import tnrange, tqdm_notebook\n",
    "from Calculate_BLEU import *\n",
    "import datetime"
   ]
  },
  {
   "cell_type": "code",
   "execution_count": 2,
   "id": "interpreted-cornwall",
   "metadata": {
    "ExecuteTime": {
     "end_time": "2021-09-01T06:40:42.029253Z",
     "start_time": "2021-09-01T06:40:42.016253Z"
    }
   },
   "outputs": [],
   "source": [
    "device = torch.device(\"cuda\" if torch.cuda.is_available() else \"cpu\")\n",
    "#device = \"cpu\""
   ]
  },
  {
   "cell_type": "code",
   "execution_count": 3,
   "id": "sixth-management",
   "metadata": {
    "ExecuteTime": {
     "end_time": "2021-09-01T06:40:42.771941Z",
     "start_time": "2021-09-01T06:40:42.033248Z"
    }
   },
   "outputs": [
    {
     "name": "stdout",
     "output_type": "stream",
     "text": [
      "Reading test -------\n",
      "Read 4041 sentence pairs\n",
      "Counting words\n",
      "Counted words:\n",
      "In questions: 6821 words\n",
      "In answers: 4758 words\n"
     ]
    }
   ],
   "source": [
    "q, a, pairs, vector = prepare_data('test', 'glove.42B.300d/glove.42B.300d.txt', small=True)"
   ]
  },
  {
   "cell_type": "code",
   "execution_count": 4,
   "id": "decimal-tissue",
   "metadata": {
    "ExecuteTime": {
     "end_time": "2021-09-01T06:40:42.803806Z",
     "start_time": "2021-09-01T06:40:42.775935Z"
    }
   },
   "outputs": [],
   "source": [
    "matrix_len = q.n_words\n",
    "weights_matrix = np.zeros((matrix_len, 300))\n",
    "word_found = 0\n",
    "for i, word in enumerate(q.word2index):\n",
    "    try:\n",
    "        weights_matrix[i] = vector[word]\n",
    "    except:\n",
    "        continue"
   ]
  },
  {
   "cell_type": "code",
   "execution_count": 5,
   "id": "spatial-deviation",
   "metadata": {
    "ExecuteTime": {
     "end_time": "2021-09-01T06:40:43.201340Z",
     "start_time": "2021-09-01T06:40:42.806805Z"
    }
   },
   "outputs": [],
   "source": [
    "from matplotlib import pyplot as plt\n",
    "\n",
    "class LivePlotNotebook(object):\n",
    "    \"\"\"\n",
    "    Live plot using %matplotlib notebook in jupyter notebook\n",
    "    \n",
    "    Usage:\n",
    "    ```\n",
    "    import time\n",
    "    liveplot = LivePlotNotebook()\n",
    "    x=np.random.random((10,))\n",
    "    for i in range(10):\n",
    "        time.sleep(1)\n",
    "        liveplot.update(\n",
    "            x=x+np.random.random(x.shape)/10,\n",
    "            actions=np.random.randint(0, 3, size=(10,))\n",
    "        )\n",
    "    ```\n",
    "    \n",
    "    url:\n",
    "    \"\"\"\n",
    "\n",
    "    def __init__(self):\n",
    "        %matplotlib notebook\n",
    "        fig,ax = plt.subplots(1,1)\n",
    "        \n",
    "        ax.plot([0]*20, label='price')\n",
    "        ax.plot([1]*20, [1]*20, 'o', ms=12,c='gray', label='hold')\n",
    "        \n",
    "        \n",
    "    \n",
    "        ax.legend()\n",
    "        ax.set_xlabel('timesteps')\n",
    "        ax.grid()\n",
    "        ax.set_title('actions')\n",
    "        \n",
    "        self.ax = ax\n",
    "        self.fig = fig\n",
    "\n",
    "    def update(self, x, actions):             \n",
    "        # update price\n",
    "        line = self.ax.lines[0]\n",
    "        line.set_xdata(range(len(x)))\n",
    "        line.set_ydata(x)\n",
    "        \n",
    "        # update action plots\n",
    "        for i, line in enumerate(self.ax.lines[1:]):\n",
    "            line.set_xdata(np.argwhere(actions==i).T)\n",
    "            line.set_ydata(x[actions==i])\n",
    "            line.set_marker(['o','^','v'][i])\n",
    "\n",
    "        # update limits\n",
    "        self.ax.set_xlim(0, len(actions))\n",
    "        self.ax.set_ylim(x.min(), x.max())\n",
    "\n",
    "        self.fig.canvas.draw()\n",
    "        "
   ]
  },
  {
   "cell_type": "code",
   "execution_count": 6,
   "id": "bored-interest",
   "metadata": {
    "ExecuteTime": {
     "end_time": "2021-09-01T06:40:43.217378Z",
     "start_time": "2021-09-01T06:40:43.203344Z"
    }
   },
   "outputs": [],
   "source": [
    "criterion = nn.NLLLoss()\n",
    "optimizer = 'Adam'\n",
    "batch_size = 32"
   ]
  },
  {
   "cell_type": "code",
   "execution_count": 7,
   "id": "finnish-insertion",
   "metadata": {
    "ExecuteTime": {
     "end_time": "2021-09-01T06:40:43.265344Z",
     "start_time": "2021-09-01T06:40:43.219343Z"
    }
   },
   "outputs": [
    {
     "name": "stderr",
     "output_type": "stream",
     "text": [
      "C:\\Users\\maren\\Anaconda3\\envs\\deeplearning\\lib\\site-packages\\torch\\nn\\modules\\rnn.py:62: UserWarning: dropout option adds dropout after all but last recurrent layer, so non-zero dropout expects num_layers greater than 1, but got dropout=0.5 and num_layers=1\n",
      "  warnings.warn(\"dropout option adds dropout after all but last \"\n"
     ]
    }
   ],
   "source": [
    "model = Seq2Seq(batch_size, q.n_words, a.n_words, 300, 100, weights_matrix, 0.5, device, criterion)"
   ]
  },
  {
   "cell_type": "code",
   "execution_count": 8,
   "id": "improving-jerusalem",
   "metadata": {
    "ExecuteTime": {
     "end_time": "2021-09-01T05:34:10.025725Z",
     "start_time": "2021-09-01T05:34:07.912Z"
    }
   },
   "outputs": [
    {
     "data": {
      "text/plain": [
       "4758"
      ]
     },
     "execution_count": 8,
     "metadata": {},
     "output_type": "execute_result"
    }
   ],
   "source": [
    "a.n_words"
   ]
  },
  {
   "cell_type": "code",
   "execution_count": 9,
   "id": "grave-prison",
   "metadata": {
    "ExecuteTime": {
     "end_time": "2021-09-01T06:40:43.816506Z",
     "start_time": "2021-09-01T06:40:43.267345Z"
    }
   },
   "outputs": [
    {
     "data": {
      "application/vnd.jupyter.widget-view+json": {
       "model_id": "dba12df89d0545919762f6e5458a97d6",
       "version_major": 2,
       "version_minor": 0
      },
      "text/plain": [
       "Total epochs:   0%|          | 0/50 [00:00<?, ?it/s]"
      ]
     },
     "metadata": {},
     "output_type": "display_data"
    },
    {
     "name": "stdout",
     "output_type": "stream",
     "text": [
      "Epoch 1: 2021-09-03 18:26:42.114880\n",
      "Loss: 5.43847137498195\n",
      "Train accuracy: 0.0\n",
      "BLUE score: 0\n",
      "Epoch 2: 2021-09-03 18:27:01.743034\n",
      "Loss: 2.340335253293696\n",
      "Train accuracy: 0.0\n",
      "BLUE score: 0\n",
      "Epoch 3: 2021-09-03 18:27:20.421369\n",
      "Loss: 2.1794790256018075\n",
      "Train accuracy: 0.0\n",
      "BLUE score: 0.0007732466684332356\n",
      "Epoch 4: 2021-09-03 18:27:39.068306\n",
      "Loss: 2.1338159802105015\n",
      "Train accuracy: 0.0\n",
      "BLUE score: 0.0016905299428081337\n",
      "Epoch 5: 2021-09-03 18:27:57.886166\n",
      "Loss: 2.061749776049418\n",
      "Train accuracy: 0.0\n",
      "BLUE score: 0.0008146006536487812\n",
      "Epoch 6: 2021-09-03 18:28:16.768908\n",
      "Loss: 2.0306759330062576\n",
      "Train accuracy: 0.0\n",
      "BLUE score: 0.0010536546538829656\n",
      "Epoch 7: 2021-09-03 18:28:35.754457\n",
      "Loss: 1.952253047206846\n",
      "Train accuracy: 0.00024746349913387774\n",
      "BLUE score: 0.0010198705192115476\n",
      "Epoch 8: 2021-09-03 18:28:54.896279\n",
      "Loss: 1.9790495603047016\n",
      "Train accuracy: 0.0\n",
      "BLUE score: 0.0013464341684969988\n",
      "Epoch 9: 2021-09-03 18:29:14.104190\n",
      "Loss: 1.9518401032486998\n",
      "Train accuracy: 0.0\n",
      "BLUE score: 0.0008177564621910173\n",
      "Epoch 10: 2021-09-03 18:29:33.150868\n",
      "Loss: 1.9372790183478434\n",
      "Train accuracy: 0.0\n",
      "BLUE score: 0.0008563347127682094\n",
      "Epoch 11: 2021-09-03 18:29:52.307510\n",
      "Loss: 1.9184995987120042\n",
      "Train accuracy: 0.0\n",
      "BLUE score: 0.0008358516784486966\n",
      "Epoch 12: 2021-09-03 18:30:11.199286\n",
      "Loss: 1.9322765072298227\n",
      "Train accuracy: 0.0\n",
      "BLUE score: 0.0011745378987032473\n",
      "Epoch 13: 2021-09-03 18:30:29.926848\n",
      "Loss: 1.7902958793670802\n",
      "Train accuracy: 0.0\n",
      "BLUE score: 0.0021132599573056364\n",
      "Epoch 14: 2021-09-03 18:30:49.247237\n",
      "Loss: 1.8160028596404432\n",
      "Train accuracy: 0.0\n",
      "BLUE score: 0.0005923107480538558\n",
      "Epoch 15: 2021-09-03 18:31:08.345640\n",
      "Loss: 1.8208225091570678\n",
      "Train accuracy: 0.0\n",
      "BLUE score: 0.0014325738916061786\n",
      "Epoch 16: 2021-09-03 18:31:27.445419\n",
      "Loss: 1.8120644942764703\n",
      "Train accuracy: 0.0\n",
      "BLUE score: 0.0019136943321855907\n",
      "Epoch 17: 2021-09-03 18:31:46.426154\n",
      "Loss: 1.7131774577569663\n",
      "Train accuracy: 0.0\n",
      "BLUE score: 0.0022747561763402195\n",
      "Epoch 18: 2021-09-03 18:32:05.581156\n",
      "Loss: 1.663977871045524\n",
      "Train accuracy: 0.0\n",
      "BLUE score: 0.0009882029998348396\n",
      "Epoch 19: 2021-09-03 18:32:24.640598\n",
      "Loss: 1.6725958912902839\n",
      "Train accuracy: 0.0\n",
      "BLUE score: 0.0007055769136788711\n",
      "Epoch 20: 2021-09-03 18:32:43.767445\n",
      "Loss: 1.7073644103617027\n",
      "Train accuracy: 0.0\n",
      "BLUE score: 0.0006432389198434624\n",
      "Epoch 21: 2021-09-03 18:33:02.918667\n",
      "Loss: 1.673149298028727\n",
      "Train accuracy: 0.0\n",
      "BLUE score: 0.0006848316021417057\n",
      "Epoch 22: 2021-09-03 18:33:21.932953\n",
      "Loss: 1.5480089006988067\n",
      "Train accuracy: 0.0\n",
      "BLUE score: 0.0010351160318117154\n",
      "Epoch 23: 2021-09-03 18:33:41.145099\n",
      "Loss: 1.602279580814331\n",
      "Train accuracy: 0.0\n",
      "BLUE score: 0.001169736002347647\n",
      "Epoch 24: 2021-09-03 18:34:00.097952\n",
      "Loss: 1.5558614603574479\n",
      "Train accuracy: 0.0\n",
      "BLUE score: 0.00078749834321171\n",
      "Epoch 25: 2021-09-03 18:34:19.082353\n",
      "Loss: 1.626509778473784\n",
      "Train accuracy: 0.0\n",
      "BLUE score: 0.0005252108968685919\n",
      "Epoch 26: 2021-09-03 18:34:38.048509\n",
      "Loss: 1.6217067463473163\n",
      "Train accuracy: 0.0\n",
      "BLUE score: 0.0008918407507382277\n",
      "Epoch 27: 2021-09-03 18:34:56.930287\n",
      "Loss: 1.6074604007585216\n",
      "Train accuracy: 0.0\n",
      "BLUE score: 0.0013248012058195728\n",
      "Epoch 28: 2021-09-03 18:35:15.844007\n",
      "Loss: 1.4994703244872254\n",
      "Train accuracy: 0.0\n",
      "BLUE score: 0.0026133973579169968\n",
      "Epoch 29: 2021-09-03 18:35:34.769484\n",
      "Loss: 1.3984949149291233\n",
      "Train accuracy: 0.0\n",
      "BLUE score: 0.0012751918213836397\n",
      "Epoch 30: 2021-09-03 18:35:53.938679\n",
      "Loss: 1.435097947774692\n",
      "Train accuracy: 0.0\n",
      "BLUE score: 0.001774270840359075\n",
      "Epoch 31: 2021-09-03 18:36:13.080869\n",
      "Loss: 1.503535411415603\n",
      "Train accuracy: 0.0\n",
      "BLUE score: 0.0012842210095088062\n",
      "Epoch 32: 2021-09-03 18:36:32.060192\n",
      "Loss: 1.4556687648872115\n",
      "Train accuracy: 0.0\n",
      "BLUE score: 0.0009543050543052046\n",
      "Epoch 33: 2021-09-03 18:36:51.104836\n",
      "Loss: 1.4082517224378928\n",
      "Train accuracy: 0.0\n",
      "BLUE score: 0.000721381239723224\n",
      "Epoch 34: 2021-09-03 18:37:10.044273\n",
      "Loss: 1.4042167967531893\n",
      "Train accuracy: 0.0\n",
      "BLUE score: 0.0017035596592066091\n",
      "Epoch 35: 2021-09-03 18:37:28.988501\n",
      "Loss: 1.407321838525878\n",
      "Train accuracy: 0.0\n",
      "BLUE score: 0.001417658741865253\n",
      "Epoch 36: 2021-09-03 18:37:48.237726\n",
      "Loss: 1.404507281270428\n",
      "Train accuracy: 0.0\n",
      "BLUE score: 0.0014421243251535063\n",
      "Epoch 37: 2021-09-03 18:38:07.459015\n",
      "Loss: 1.3569895908284544\n",
      "Train accuracy: 0.0\n",
      "BLUE score: 0.0016628114171019165\n",
      "Epoch 38: 2021-09-03 18:38:26.610423\n",
      "Loss: 1.4091415006668382\n",
      "Train accuracy: 0.0\n",
      "BLUE score: 0.00106965831066525\n",
      "Epoch 39: 2021-09-03 18:38:45.295618\n",
      "Loss: 1.2947555950730416\n",
      "Train accuracy: 0.0\n",
      "BLUE score: 0.0017805128403092746\n",
      "Epoch 40: 2021-09-03 18:39:04.202440\n",
      "Loss: 1.2494994296000854\n",
      "Train accuracy: 0.0\n",
      "BLUE score: 0.0018704239174824422\n",
      "Epoch 41: 2021-09-03 18:39:23.141626\n",
      "Loss: 1.3331322184347205\n",
      "Train accuracy: 0.0\n",
      "BLUE score: 0.002472683185845957\n",
      "Epoch 42: 2021-09-03 18:39:41.979620\n",
      "Loss: 1.2756261440765735\n",
      "Train accuracy: 0.0\n",
      "BLUE score: 0.0008044892130704929\n",
      "Epoch 43: 2021-09-03 18:40:00.906830\n",
      "Loss: 1.250711480786533\n",
      "Train accuracy: 0.0\n",
      "BLUE score: 0.00194676596027726\n",
      "Epoch 44: 2021-09-03 18:40:19.917238\n",
      "Loss: 1.288530505295554\n",
      "Train accuracy: 0.0\n",
      "BLUE score: 0.0024216478437559105\n",
      "Epoch 45: 2021-09-03 18:40:38.839364\n",
      "Loss: 1.2388733886903445\n",
      "Train accuracy: 0.0\n",
      "BLUE score: 0.0028371433096544027\n",
      "Epoch 46: 2021-09-03 18:40:57.762875\n",
      "Loss: 1.2329841933450154\n",
      "Train accuracy: 0.0\n",
      "BLUE score: 0.0014474720784472225\n",
      "Epoch 47: 2021-09-03 18:41:16.677099\n",
      "Loss: 1.2848788538018139\n",
      "Train accuracy: 0.0\n",
      "BLUE score: 0.002423055972665141\n",
      "Epoch 48: 2021-09-03 18:41:35.705644\n",
      "Loss: 1.231173076546806\n",
      "Train accuracy: 0.0\n",
      "BLUE score: 0.0013756730521502717\n",
      "Epoch 49: 2021-09-03 18:41:54.870157\n",
      "Loss: 1.1986332154208723\n",
      "Train accuracy: 0.0\n",
      "BLUE score: 0.0026100920193112215\n",
      "Epoch 50: 2021-09-03 18:42:14.058588\n",
      "Loss: 1.1761136989643874\n",
      "Train accuracy: 0.0\n",
      "BLUE score: 0.0017358006392848057\n",
      "Optimization ended successfully\n"
     ]
    }
   ],
   "source": [
    "for epoch in tnrange(50, desc=\"Total epochs: \"):\n",
    "\n",
    "    print(f'Epoch {epoch + 1}: {datetime.datetime.now()}')\n",
    "  \n",
    "    # Calculte loss\n",
    "    loss = epoch_train(model, optimizer, batch_size, pairs, q, a, device)\n",
    "\n",
    "    print(f'Loss: {loss}')\n",
    "\n",
    "    # Calculate accuracy\n",
    "    accuracy = epoch_accuray(model, batch_size, pairs, q, a, device)\n",
    "\n",
    "    print(f'Train accuracy: {accuracy}')\n",
    "\n",
    "    # Calculate BLEU Score\n",
    "    BLEU_model = CalculateBleu(model, batch_size, pairs, q, a, device)\n",
    "    bleu_score = BLEU_model.score()\n",
    "\n",
    "    print(f'BLUE score: {bleu_score}')\n",
    "\n",
    "    # Try to do interactive plot\n",
    "    \n",
    "\n",
    "\n",
    "print(f\"Optimization ended successfully\")\n"
   ]
  }
 ],
 "metadata": {
  "hide_input": false,
  "kernelspec": {
   "display_name": "Python 3",
   "language": "python",
   "name": "python3"
  },
  "language_info": {
   "codemirror_mode": {
    "name": "ipython",
    "version": 3
   },
   "file_extension": ".py",
   "mimetype": "text/x-python",
   "name": "python",
   "nbconvert_exporter": "python",
   "pygments_lexer": "ipython3",
   "version": "3.8.10"
  },
  "toc": {
   "base_numbering": 1,
   "nav_menu": {},
   "number_sections": true,
   "sideBar": true,
   "skip_h1_title": false,
   "title_cell": "Table of Contents",
   "title_sidebar": "Contents",
   "toc_cell": false,
   "toc_position": {},
   "toc_section_display": true,
   "toc_window_display": false
  }
 },
 "nbformat": 4,
 "nbformat_minor": 5
}
