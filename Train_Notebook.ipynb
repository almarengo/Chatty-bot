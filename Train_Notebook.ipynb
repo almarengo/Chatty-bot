{
 "cells": [
  {
   "cell_type": "code",
   "execution_count": 1,
   "id": "sporting-circular",
   "metadata": {
    "ExecuteTime": {
     "end_time": "2021-09-01T06:40:42.013249Z",
     "start_time": "2021-09-01T06:40:41.389328Z"
    }
   },
   "outputs": [],
   "source": [
    "from load_utils import prepare_data\n",
    "from train_utils import *\n",
    "from seq2seq_model import *\n",
    "import numpy as np\n",
    "import torch\n",
    "from tqdm.notebook import tnrange, tqdm_notebook\n",
    "from Calculate_BLEU import *\n",
    "import datetime"
   ]
  },
  {
   "cell_type": "code",
   "execution_count": 2,
   "id": "interpreted-cornwall",
   "metadata": {
    "ExecuteTime": {
     "end_time": "2021-09-01T06:40:42.029253Z",
     "start_time": "2021-09-01T06:40:42.016253Z"
    }
   },
   "outputs": [],
   "source": [
    "device = torch.device(\"cuda\" if torch.cuda.is_available() else \"cpu\")\n",
    "#device = \"cpu\""
   ]
  },
  {
   "cell_type": "code",
   "execution_count": 3,
   "id": "sixth-management",
   "metadata": {
    "ExecuteTime": {
     "end_time": "2021-09-01T06:40:42.771941Z",
     "start_time": "2021-09-01T06:40:42.033248Z"
    }
   },
   "outputs": [
    {
     "name": "stdout",
     "output_type": "stream",
     "text": [
      "Reading test -------\n",
      "Read 4041 sentence pairs\n",
      "Counting words\n",
      "Counted words:\n",
      "In questions: 6821 words\n",
      "In answers: 4758 words\n"
     ]
    }
   ],
   "source": [
    "q, a, pairs, vector = prepare_data('test', 'glove.42B.300d/glove.42B.300d.txt', small=True)"
   ]
  },
  {
   "cell_type": "code",
   "execution_count": 4,
   "id": "decimal-tissue",
   "metadata": {
    "ExecuteTime": {
     "end_time": "2021-09-01T06:40:42.803806Z",
     "start_time": "2021-09-01T06:40:42.775935Z"
    }
   },
   "outputs": [],
   "source": [
    "matrix_len = q.n_words\n",
    "weights_matrix = np.zeros((matrix_len, 300))\n",
    "word_found = 0\n",
    "for i, word in enumerate(q.word2index):\n",
    "    try:\n",
    "        weights_matrix[i] = vector[word]\n",
    "    except:\n",
    "        continue"
   ]
  },
  {
   "cell_type": "code",
   "execution_count": 5,
   "id": "spatial-deviation",
   "metadata": {
    "ExecuteTime": {
     "end_time": "2021-09-01T06:40:43.201340Z",
     "start_time": "2021-09-01T06:40:42.806805Z"
    }
   },
   "outputs": [],
   "source": [
    "from matplotlib import pyplot as plt\n",
    "\n",
    "class LivePlotNotebook(object):\n",
    "    \"\"\"\n",
    "    Live plot using %matplotlib notebook in jupyter notebook\n",
    "    \n",
    "    Usage:\n",
    "    ```\n",
    "    import time\n",
    "    liveplot = LivePlotNotebook()\n",
    "    x=np.random.random((10,))\n",
    "    for i in range(10):\n",
    "        time.sleep(1)\n",
    "        liveplot.update(\n",
    "            x=x+np.random.random(x.shape)/10,\n",
    "            actions=np.random.randint(0, 3, size=(10,))\n",
    "        )\n",
    "    ```\n",
    "    \n",
    "    url:\n",
    "    \"\"\"\n",
    "\n",
    "    def __init__(self):\n",
    "        %matplotlib notebook\n",
    "        fig,ax = plt.subplots(1,1)\n",
    "        \n",
    "        ax.plot([0]*20, label='price')\n",
    "        ax.plot([1]*20, [1]*20, 'o', ms=12,c='gray', label='hold')\n",
    "        \n",
    "        \n",
    "    \n",
    "        ax.legend()\n",
    "        ax.set_xlabel('timesteps')\n",
    "        ax.grid()\n",
    "        ax.set_title('actions')\n",
    "        \n",
    "        self.ax = ax\n",
    "        self.fig = fig\n",
    "\n",
    "    def update(self, x, actions):             \n",
    "        # update price\n",
    "        line = self.ax.lines[0]\n",
    "        line.set_xdata(range(len(x)))\n",
    "        line.set_ydata(x)\n",
    "        \n",
    "        # update action plots\n",
    "        for i, line in enumerate(self.ax.lines[1:]):\n",
    "            line.set_xdata(np.argwhere(actions==i).T)\n",
    "            line.set_ydata(x[actions==i])\n",
    "            line.set_marker(['o','^','v'][i])\n",
    "\n",
    "        # update limits\n",
    "        self.ax.set_xlim(0, len(actions))\n",
    "        self.ax.set_ylim(x.min(), x.max())\n",
    "\n",
    "        self.fig.canvas.draw()\n",
    "        "
   ]
  },
  {
   "cell_type": "code",
   "execution_count": 6,
   "id": "bored-interest",
   "metadata": {
    "ExecuteTime": {
     "end_time": "2021-09-01T06:40:43.217378Z",
     "start_time": "2021-09-01T06:40:43.203344Z"
    }
   },
   "outputs": [],
   "source": [
    "criterion = nn.NLLLoss()\n",
    "optimizer = 'Adam'\n",
    "batch_size = 32\n",
    "lr = 0.001"
   ]
  },
  {
   "cell_type": "code",
   "execution_count": 7,
   "id": "finnish-insertion",
   "metadata": {
    "ExecuteTime": {
     "end_time": "2021-09-01T06:40:43.265344Z",
     "start_time": "2021-09-01T06:40:43.219343Z"
    }
   },
   "outputs": [
    {
     "name": "stderr",
     "output_type": "stream",
     "text": [
      "C:\\Users\\maren\\Anaconda3\\envs\\deeplearning\\lib\\site-packages\\torch\\nn\\modules\\rnn.py:62: UserWarning: dropout option adds dropout after all but last recurrent layer, so non-zero dropout expects num_layers greater than 1, but got dropout=0.5 and num_layers=1\n",
      "  warnings.warn(\"dropout option adds dropout after all but last \"\n"
     ]
    }
   ],
   "source": [
    "model = Seq2Seq(batch_size, q.n_words, a.n_words, 300, 100, weights_matrix, 0.5, device, criterion)"
   ]
  },
  {
   "cell_type": "code",
   "execution_count": 8,
   "id": "improving-jerusalem",
   "metadata": {
    "ExecuteTime": {
     "end_time": "2021-09-01T05:34:10.025725Z",
     "start_time": "2021-09-01T05:34:07.912Z"
    }
   },
   "outputs": [
    {
     "data": {
      "text/plain": [
       "4758"
      ]
     },
     "execution_count": 8,
     "metadata": {},
     "output_type": "execute_result"
    }
   ],
   "source": [
    "a.n_words"
   ]
  },
  {
   "cell_type": "code",
   "execution_count": 9,
   "id": "grave-prison",
   "metadata": {
    "ExecuteTime": {
     "end_time": "2021-09-01T06:40:43.816506Z",
     "start_time": "2021-09-01T06:40:43.267345Z"
    }
   },
   "outputs": [
    {
     "data": {
      "application/vnd.jupyter.widget-view+json": {
       "model_id": "1087f04416cb4ec7be1a0d2dc19ee8f8",
       "version_major": 2,
       "version_minor": 0
      },
      "text/plain": [
       "Total epochs:   0%|          | 0/50 [00:00<?, ?it/s]"
      ]
     },
     "metadata": {},
     "output_type": "display_data"
    },
    {
     "name": "stdout",
     "output_type": "stream",
     "text": [
      "Epoch 1: 2021-09-07 20:23:55.981434\n",
      "Loss: 5.017174940801811\n",
      "Train accuracy: 0.0\n",
      "BLUE score: 0\n",
      "Epoch 2: 2021-09-07 20:24:16.297375\n",
      "Loss: 2.300727353962918\n",
      "Train accuracy: 0.0\n",
      "BLUE score: 0\n",
      "Epoch 3: 2021-09-07 20:24:35.132801\n",
      "Loss: 2.1294114807233906\n",
      "Train accuracy: 0.041893403804772404\n",
      "BLUE score: 0.000995592283701697\n",
      "Epoch 4: 2021-09-07 20:24:54.000673\n",
      "Loss: 2.06055079159583\n",
      "Train accuracy: 0.02007973702531197\n",
      "BLUE score: 0.001456934777864985\n",
      "Epoch 5: 2021-09-07 20:25:13.028583\n",
      "Loss: 2.0945745639104127\n",
      "Train accuracy: 0.031150654918840236\n",
      "BLUE score: 0.0012033255523770231\n",
      "Epoch 6: 2021-09-07 20:25:31.923360\n",
      "Loss: 2.0282153083396004\n",
      "Train accuracy: 0.025978449286994203\n",
      "BLUE score: 0.0010926936991982022\n",
      "Epoch 7: 2021-09-07 20:25:50.952884\n",
      "Loss: 1.9552749863979257\n",
      "Train accuracy: 0.0193499082170126\n",
      "BLUE score: 0.0006385838075311989\n",
      "Epoch 8: 2021-09-07 20:26:09.957961\n",
      "Loss: 1.923970369686539\n",
      "Train accuracy: 0.02713815955202676\n",
      "BLUE score: 0.0019559278423574777\n",
      "Epoch 9: 2021-09-07 20:26:29.065101\n",
      "Loss: 1.9171719580289033\n",
      "Train accuracy: 0.024887559713887175\n",
      "BLUE score: 0.0006114276775937288\n",
      "Epoch 10: 2021-09-07 20:26:47.793417\n",
      "Loss: 1.9128115829499104\n",
      "Train accuracy: 0.02010080877255621\n",
      "BLUE score: 0.0004121757994368862\n",
      "Epoch 11: 2021-09-07 20:27:06.746082\n",
      "Loss: 1.9101186252402935\n",
      "Train accuracy: 0.025097666766737557\n",
      "BLUE score: 0.0008190627324737515\n",
      "Epoch 12: 2021-09-07 20:27:25.566866\n",
      "Loss: 1.8204386991259285\n",
      "Train accuracy: 0.02010724214547783\n",
      "BLUE score: 0.0008927321640455132\n",
      "Epoch 13: 2021-09-07 20:27:44.544297\n",
      "Loss: 1.8411878424330235\n",
      "Train accuracy: 0.023532472222575467\n",
      "BLUE score: 0.000789006411535809\n",
      "Epoch 14: 2021-09-07 20:28:03.409814\n",
      "Loss: 1.814635237553326\n",
      "Train accuracy: 0.020351590404109006\n",
      "BLUE score: 0.0024375490791713693\n",
      "Epoch 15: 2021-09-07 20:28:22.517408\n",
      "Loss: 1.766965539557692\n",
      "Train accuracy: 0.02840684219884003\n",
      "BLUE score: 0.0006310708058248724\n",
      "Epoch 16: 2021-09-07 20:28:41.543069\n",
      "Loss: 1.7815412375444268\n",
      "Train accuracy: 0.020589974413733603\n",
      "BLUE score: 0.0010582846131973597\n",
      "Epoch 17: 2021-09-07 20:29:00.267244\n",
      "Loss: 1.6840773564137936\n",
      "Train accuracy: 0.030248471614071425\n",
      "BLUE score: 0.00021725796161274028\n",
      "Epoch 18: 2021-09-07 20:29:18.961147\n",
      "Loss: 1.6641735343703075\n",
      "Train accuracy: 0.02767800308246361\n",
      "BLUE score: 0.0017352071996324357\n",
      "Epoch 19: 2021-09-07 20:29:37.947092\n",
      "Loss: 1.635971552093906\n",
      "Train accuracy: 0.02766007391125253\n",
      "BLUE score: 0.00041598023681260266\n",
      "Epoch 20: 2021-09-07 20:29:56.807069\n",
      "Loss: 1.6189814065522805\n",
      "Train accuracy: 0.02619489688239188\n",
      "BLUE score: 0.0023285479678028845\n",
      "Epoch 21: 2021-09-07 20:30:15.642533\n",
      "Loss: 1.6029082021879257\n",
      "Train accuracy: 0.03250777672769514\n",
      "BLUE score: 0.0012689960745238405\n",
      "Epoch 22: 2021-09-07 20:30:34.482610\n",
      "Loss: 1.5520771653101169\n",
      "Train accuracy: 0.02594787931774523\n",
      "BLUE score: 0.0008914061732811323\n",
      "Epoch 23: 2021-09-07 20:30:53.367287\n",
      "Loss: 1.5542321515137076\n",
      "Train accuracy: 0.025571025798756253\n",
      "BLUE score: 0.0006682588515057566\n",
      "Epoch 24: 2021-09-07 20:31:12.253019\n",
      "Loss: 1.5159672111747624\n",
      "Train accuracy: 0.04694114116920495\n",
      "BLUE score: 0.0008557084878177682\n",
      "Epoch 25: 2021-09-07 20:31:31.125770\n",
      "Loss: 1.4928163077897187\n",
      "Train accuracy: 0.02689574347438238\n",
      "BLUE score: 0.0012883636249875262\n",
      "Epoch 26: 2021-09-07 20:31:50.018927\n",
      "Loss: 1.52526105518659\n",
      "Train accuracy: 0.035250762206242896\n",
      "BLUE score: 0.0019377522725477633\n",
      "Epoch 27: 2021-09-07 20:32:08.819747\n",
      "Loss: 1.57455661371631\n",
      "Train accuracy: 0.02756524614163904\n",
      "BLUE score: 0.0012203718145686682\n",
      "Epoch 28: 2021-09-07 20:32:27.633412\n",
      "Loss: 1.4520621487994143\n",
      "Train accuracy: 0.030051259397907967\n",
      "BLUE score: 0.0010843271943130285\n",
      "Epoch 29: 2021-09-07 20:32:46.579375\n",
      "Loss: 1.5096651121449254\n",
      "Train accuracy: 0.028274535691413614\n",
      "BLUE score: 0.0016160342338233152\n",
      "Epoch 30: 2021-09-07 20:33:05.372705\n",
      "Loss: 1.487960041982282\n",
      "Train accuracy: 0.039388382117247635\n",
      "BLUE score: 0.0006456137931556304\n",
      "Epoch 31: 2021-09-07 20:33:24.531131\n",
      "Loss: 1.4612058715677425\n",
      "Train accuracy: 0.039150053346236405\n",
      "BLUE score: 0.0015816166681462574\n",
      "Epoch 32: 2021-09-07 20:33:43.826673\n",
      "Loss: 1.4272453951845725\n",
      "Train accuracy: 0.024769274432325853\n",
      "BLUE score: 0.002920343625161629\n",
      "Epoch 33: 2021-09-07 20:34:02.684232\n",
      "Loss: 1.4070079612344697\n",
      "Train accuracy: 0.024672591721185324\n",
      "BLUE score: 0.0007653073987117886\n",
      "Epoch 34: 2021-09-07 20:34:21.750633\n",
      "Loss: 1.3492931651907016\n",
      "Train accuracy: 0.02175914692354622\n",
      "BLUE score: 0.002399360557086057\n",
      "Epoch 35: 2021-09-07 20:34:40.735154\n",
      "Loss: 1.3632572009683657\n",
      "Train accuracy: 0.023726794670833058\n",
      "BLUE score: 0.000586461998712855\n",
      "Epoch 36: 2021-09-07 20:34:59.572004\n",
      "Loss: 1.4189576418896093\n",
      "Train accuracy: 0.02415362992282046\n",
      "BLUE score: 0.002409642110921044\n",
      "Epoch 37: 2021-09-07 20:35:18.459607\n",
      "Loss: 1.3040660300919034\n",
      "Train accuracy: 0.024530739962227995\n",
      "BLUE score: 0.0007165535559322181\n",
      "Epoch 38: 2021-09-07 20:35:37.721201\n",
      "Loss: 1.3154949606426856\n",
      "Train accuracy: 0.02097708613976227\n",
      "BLUE score: 0.003300497050279556\n",
      "Epoch 39: 2021-09-07 20:35:56.730743\n",
      "Loss: 1.3558300179955607\n",
      "Train accuracy: 0.02358711218580266\n",
      "BLUE score: 0.0017013766477811272\n",
      "Epoch 40: 2021-09-07 20:36:16.059781\n",
      "Loss: 1.282585921405433\n",
      "Train accuracy: 0.02237035476067784\n",
      "BLUE score: 0.0011326936189823096\n",
      "Epoch 41: 2021-09-07 20:36:35.664977\n",
      "Loss: 1.179999525266267\n",
      "Train accuracy: 0.019724739370740346\n",
      "BLUE score: 0.0006971259570519382\n",
      "Epoch 42: 2021-09-07 20:36:55.026385\n",
      "Loss: 1.2941950815605736\n",
      "Train accuracy: 0.0229341451541993\n",
      "BLUE score: 0.002820697974770457\n",
      "Epoch 43: 2021-09-07 20:37:14.369119\n",
      "Loss: 1.2539784254815485\n",
      "Train accuracy: 0.031283088616399383\n",
      "BLUE score: 0.0016070983646142218\n",
      "Epoch 44: 2021-09-07 20:37:33.516378\n",
      "Loss: 1.2228459621516106\n",
      "Train accuracy: 0.02220174320993274\n",
      "BLUE score: 0.003158037147494898\n",
      "Epoch 45: 2021-09-07 20:37:52.433404\n",
      "Loss: 1.226333323755701\n",
      "Train accuracy: 0.03009428272053478\n",
      "BLUE score: 0.0022091541986473963\n",
      "Epoch 46: 2021-09-07 20:38:11.539445\n",
      "Loss: 1.1973301044351865\n",
      "Train accuracy: 0.0214770026861621\n",
      "BLUE score: 0.002347999481129861\n",
      "Epoch 47: 2021-09-07 20:38:30.440970\n",
      "Loss: 1.1877105559675516\n",
      "Train accuracy: 0.024378204865248096\n",
      "BLUE score: 0.0021562536796520555\n",
      "Epoch 48: 2021-09-07 20:38:49.521788\n",
      "Loss: 1.1197290236266797\n",
      "Train accuracy: 0.0203360734704525\n",
      "BLUE score: 0.002627140445579353\n",
      "Epoch 49: 2021-09-07 20:39:08.876068\n",
      "Loss: 1.1900099951661314\n",
      "Train accuracy: 0.024880958894955788\n",
      "BLUE score: 0.0023505440069576033\n",
      "Epoch 50: 2021-09-07 20:39:27.862439\n",
      "Loss: 1.2117526325603296\n",
      "Train accuracy: 0.0189860363681123\n",
      "BLUE score: 0.0010400822788888334\n",
      "Optimization ended successfully\n"
     ]
    }
   ],
   "source": [
    "for epoch in tnrange(50, desc=\"Total epochs: \"):\n",
    "\n",
    "    print(f'Epoch {epoch + 1}: {datetime.datetime.now()}')\n",
    "  \n",
    "    # Calculte loss\n",
    "    loss = epoch_train(model, optimizer, batch_size, pairs, q, a, lr, device)\n",
    "\n",
    "    print(f'Loss: {loss}')\n",
    "\n",
    "    # Calculate accuracy\n",
    "    accuracy = epoch_accuray(model, batch_size, pairs, q, a, device)\n",
    "\n",
    "    print(f'Train accuracy: {accuracy}')\n",
    "\n",
    "    # Calculate BLEU Score\n",
    "    BLEU_model = CalculateBleu(model, batch_size, pairs, q, a, device)\n",
    "    bleu_score = BLEU_model.score()\n",
    "\n",
    "    print(f'BLUE score: {bleu_score}')\n",
    "\n",
    "    # Try to do interactive plot\n",
    "    \n",
    "\n",
    "\n",
    "print(f\"Optimization ended successfully\")\n"
   ]
  },
  {
   "cell_type": "code",
   "execution_count": null,
   "id": "42193f1e",
   "metadata": {},
   "outputs": [],
   "source": []
  }
 ],
 "metadata": {
  "hide_input": false,
  "kernelspec": {
   "display_name": "Python 3",
   "language": "python",
   "name": "python3"
  },
  "language_info": {
   "codemirror_mode": {
    "name": "ipython",
    "version": 3
   },
   "file_extension": ".py",
   "mimetype": "text/x-python",
   "name": "python",
   "nbconvert_exporter": "python",
   "pygments_lexer": "ipython3",
   "version": "3.8.10"
  },
  "toc": {
   "base_numbering": 1,
   "nav_menu": {},
   "number_sections": true,
   "sideBar": true,
   "skip_h1_title": false,
   "title_cell": "Table of Contents",
   "title_sidebar": "Contents",
   "toc_cell": false,
   "toc_position": {},
   "toc_section_display": true,
   "toc_window_display": false
  }
 },
 "nbformat": 4,
 "nbformat_minor": 5
}
