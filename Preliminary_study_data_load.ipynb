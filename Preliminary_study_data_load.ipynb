{
 "cells": [
  {
   "cell_type": "code",
   "execution_count": 1,
   "id": "09aff098",
   "metadata": {},
   "outputs": [],
   "source": [
    "import random\n",
    "import re\n",
    "import unicodedata"
   ]
  },
  {
   "cell_type": "code",
   "execution_count": 2,
   "id": "33f132ea",
   "metadata": {},
   "outputs": [],
   "source": [
    "lines = open('data/test/dialogues_test.txt', encoding='utf-8').read().strip().split('\\n')"
   ]
  },
  {
   "cell_type": "code",
   "execution_count": 3,
   "id": "342b76fa",
   "metadata": {},
   "outputs": [
    {
     "data": {
      "text/plain": [
       "'Hey man , you wanna buy some weed ? __eou__ Some what ? __eou__ Weed ! You know ? Pot , Ganja , Mary Jane some chronic ! __eou__ Oh , umm , no thanks . __eou__ I also have blow if you prefer to do a few lines . __eou__ No , I am ok , really . __eou__ Come on man ! I even got dope and acid ! Try some ! __eou__ Do you really have all of these drugs ? Where do you get them from ? __eou__ I got my connections ! Just tell me what you want and I ’ ll even give you one ounce for free . __eou__ Sounds good ! Let ’ s see , I want . __eou__ Yeah ? __eou__ I want you to put your hands behind your head ! You are under arrest ! __eou__'"
      ]
     },
     "execution_count": 3,
     "metadata": {},
     "output_type": "execute_result"
    }
   ],
   "source": [
    "lines[0]"
   ]
  },
  {
   "cell_type": "code",
   "execution_count": 4,
   "id": "616ff1fb",
   "metadata": {},
   "outputs": [
    {
     "data": {
      "text/plain": [
       "1000"
      ]
     },
     "execution_count": 4,
     "metadata": {},
     "output_type": "execute_result"
    }
   ],
   "source": [
    "len(lines)"
   ]
  },
  {
   "cell_type": "code",
   "execution_count": 5,
   "id": "54b81a30",
   "metadata": {},
   "outputs": [],
   "source": [
    "list_sentences = [[sentence for sentence in line.split('__eou__')] for line in lines]"
   ]
  },
  {
   "cell_type": "code",
   "execution_count": 6,
   "id": "27114d7b",
   "metadata": {},
   "outputs": [
    {
     "data": {
      "text/plain": [
       "['Hey man , you wanna buy some weed ? ',\n",
       " ' Some what ? ',\n",
       " ' Weed ! You know ? Pot , Ganja , Mary Jane some chronic ! ',\n",
       " ' Oh , umm , no thanks . ',\n",
       " ' I also have blow if you prefer to do a few lines . ',\n",
       " ' No , I am ok , really . ',\n",
       " ' Come on man ! I even got dope and acid ! Try some ! ',\n",
       " ' Do you really have all of these drugs ? Where do you get them from ? ',\n",
       " ' I got my connections ! Just tell me what you want and I ’ ll even give you one ounce for free . ',\n",
       " ' Sounds good ! Let ’ s see , I want . ',\n",
       " ' Yeah ? ',\n",
       " ' I want you to put your hands behind your head ! You are under arrest ! ',\n",
       " '']"
      ]
     },
     "execution_count": 6,
     "metadata": {},
     "output_type": "execute_result"
    }
   ],
   "source": [
    "list_sentences[0]"
   ]
  },
  {
   "cell_type": "code",
   "execution_count": 7,
   "id": "534ad4d9",
   "metadata": {},
   "outputs": [],
   "source": [
    "source_sentences_list = [[source for source in sentence if sentence.index(source)%2 == 0] for sentence in list_sentences]"
   ]
  },
  {
   "cell_type": "code",
   "execution_count": 8,
   "id": "6c0a286a",
   "metadata": {},
   "outputs": [],
   "source": [
    "target_sentences_list = [[source for source in sentence if sentence.index(source)%2 != 0] for sentence in list_sentences]"
   ]
  },
  {
   "cell_type": "code",
   "execution_count": 9,
   "id": "9b6a05c4",
   "metadata": {},
   "outputs": [
    {
     "data": {
      "text/plain": [
       "['Hey man , you wanna buy some weed ? ',\n",
       " ' Weed ! You know ? Pot , Ganja , Mary Jane some chronic ! ',\n",
       " ' I also have blow if you prefer to do a few lines . ',\n",
       " ' Come on man ! I even got dope and acid ! Try some ! ',\n",
       " ' I got my connections ! Just tell me what you want and I ’ ll even give you one ounce for free . ',\n",
       " ' Yeah ? ',\n",
       " '']"
      ]
     },
     "execution_count": 9,
     "metadata": {},
     "output_type": "execute_result"
    }
   ],
   "source": [
    "source_sentences_list[0]"
   ]
  },
  {
   "cell_type": "code",
   "execution_count": 10,
   "id": "e4b23b57",
   "metadata": {},
   "outputs": [
    {
     "data": {
      "text/plain": [
       "[' Some what ? ',\n",
       " ' Oh , umm , no thanks . ',\n",
       " ' No , I am ok , really . ',\n",
       " ' Do you really have all of these drugs ? Where do you get them from ? ',\n",
       " ' Sounds good ! Let ’ s see , I want . ',\n",
       " ' I want you to put your hands behind your head ! You are under arrest ! ']"
      ]
     },
     "execution_count": 10,
     "metadata": {},
     "output_type": "execute_result"
    }
   ],
   "source": [
    "target_sentences_list[0]"
   ]
  },
  {
   "cell_type": "code",
   "execution_count": 11,
   "id": "458db7b1",
   "metadata": {},
   "outputs": [],
   "source": [
    "source_sentences = [sentence for row in source_sentences_list for sentence in row]"
   ]
  },
  {
   "cell_type": "code",
   "execution_count": 12,
   "id": "cdcb3751",
   "metadata": {},
   "outputs": [],
   "source": [
    "target_sentences = [sentence for row in target_sentences_list for sentence in row]"
   ]
  },
  {
   "cell_type": "code",
   "execution_count": 13,
   "id": "3d13b79b",
   "metadata": {},
   "outputs": [
    {
     "data": {
      "text/plain": [
       "'Hey man , you wanna buy some weed ? '"
      ]
     },
     "execution_count": 13,
     "metadata": {},
     "output_type": "execute_result"
    }
   ],
   "source": [
    "source_sentences[0]"
   ]
  },
  {
   "cell_type": "code",
   "execution_count": 14,
   "id": "57637145",
   "metadata": {},
   "outputs": [],
   "source": [
    "SOS_token = 'SOS'\n",
    "EOS_token = 'EOS'\n",
    "\n",
    "class QuestionAndAnswer:\n",
    "    \n",
    "    def __init__(self, name):\n",
    "        self.name = name\n",
    "        self.word_count = {}\n",
    "        self.word2index = {}\n",
    "        self.n_words = 2\n",
    "        self.index2word = {0: 'SOS', 1: 'EOS'}\n",
    "        \n",
    "    \n",
    "    def add_word(self, word):\n",
    "        if word not in self.word2index:\n",
    "            self.word2index[word] = self.n_words\n",
    "            self.index2word[self.n_words] = word\n",
    "            self.word_count[word] = 1\n",
    "            self.n_words += 1\n",
    "        else:\n",
    "            self.word_count[word] += 1\n",
    "    \n",
    "    def add_sentence(self, sentence):\n",
    "        for word in sentence.split():\n",
    "            return self.add_word(word)"
   ]
  },
  {
   "cell_type": "code",
   "execution_count": 15,
   "id": "210737c1",
   "metadata": {},
   "outputs": [],
   "source": [
    "# Turn a Unicode string to plain ASCII, thanks to\n",
    "# https://stackoverflow.com/a/518232/2809427\n",
    "def UnicodeToASCII(s):\n",
    "   return ''.join(c for c in unicodedata.normalize('NFD', s)\n",
    "                  if unicodedata.category(c) != 'Mn')"
   ]
  },
  {
   "cell_type": "code",
   "execution_count": 16,
   "id": "db057edc",
   "metadata": {},
   "outputs": [
    {
     "data": {
      "text/plain": [
       "'hey man , you wanna buy some weed ?'"
      ]
     },
     "execution_count": 16,
     "metadata": {},
     "output_type": "execute_result"
    }
   ],
   "source": [
    "UnicodeToASCII(source_sentences[0].lower().strip())"
   ]
  },
  {
   "cell_type": "code",
   "execution_count": 17,
   "id": "c5725737",
   "metadata": {},
   "outputs": [],
   "source": [
    "def sentence_cleaning(sentence):\n",
    "    # Transforms to ASCII, lower case and strip blank spaces\n",
    "    sentence = UnicodeToASCII(sentence)\n",
    "    # Get rid of double puntuation\n",
    "    sentence = re.sub(r\"([.!?]+)\\1\", r\"\\1\", sentence.lower().strip())\n",
    "    # Get rid of non-letter character\n",
    "    sentence = re.sub(r\"[^a-zA-Z.!?]+\", r\" \", sentence)\n",
    "    return sentence"
   ]
  },
  {
   "cell_type": "code",
   "execution_count": 18,
   "id": "0e260d64",
   "metadata": {},
   "outputs": [
    {
     "data": {
      "text/plain": [
       "'Hey man , you wanna buy some weed ? '"
      ]
     },
     "execution_count": 18,
     "metadata": {},
     "output_type": "execute_result"
    }
   ],
   "source": [
    "re.sub(r\"([.!?]+)\\1\", r\"\\1\", 'Hey man , you wanna buy some weed ?? ')"
   ]
  },
  {
   "cell_type": "code",
   "execution_count": 19,
   "id": "dd8ce5d4",
   "metadata": {},
   "outputs": [
    {
     "data": {
      "text/plain": [
       "'hey man you wanna buy some weed ?'"
      ]
     },
     "execution_count": 19,
     "metadata": {},
     "output_type": "execute_result"
    }
   ],
   "source": [
    "sentence_cleaning(source_sentences[0])"
   ]
  },
  {
   "cell_type": "code",
   "execution_count": 20,
   "id": "c9cdd5f0",
   "metadata": {},
   "outputs": [],
   "source": [
    "def load_file(name):\n",
    "    lines = open(f'data/{name}/dialogues_{name}.txt', encoding='utf-8').read().strip().split('\\n')\n",
    "    return lines"
   ]
  },
  {
   "cell_type": "code",
   "execution_count": 21,
   "id": "4dc879e9",
   "metadata": {},
   "outputs": [],
   "source": [
    "test_lines = load_file('test')"
   ]
  },
  {
   "cell_type": "code",
   "execution_count": 22,
   "id": "dd7135f2",
   "metadata": {},
   "outputs": [
    {
     "data": {
      "text/plain": [
       "'Hey man , you wanna buy some weed ? __eou__ Some what ? __eou__ Weed ! You know ? Pot , Ganja , Mary Jane some chronic ! __eou__ Oh , umm , no thanks . __eou__ I also have blow if you prefer to do a few lines . __eou__ No , I am ok , really . __eou__ Come on man ! I even got dope and acid ! Try some ! __eou__ Do you really have all of these drugs ? Where do you get them from ? __eou__ I got my connections ! Just tell me what you want and I ’ ll even give you one ounce for free . __eou__ Sounds good ! Let ’ s see , I want . __eou__ Yeah ? __eou__ I want you to put your hands behind your head ! You are under arrest ! __eou__'"
      ]
     },
     "execution_count": 22,
     "metadata": {},
     "output_type": "execute_result"
    }
   ],
   "source": [
    "test_lines[0]"
   ]
  },
  {
   "cell_type": "code",
   "execution_count": 23,
   "id": "abfc51e0",
   "metadata": {},
   "outputs": [],
   "source": [
    "def Read_data(dataset):\n",
    "    \n",
    "    print(f'Reading {dataset} -------')\n",
    "    # Load one of the three datasets train, test or validation and return a list of all the lines\n",
    "    lines = load_file(dataset)\n",
    "    # Split each line into sentence and create a list of list\n",
    "    list_sentences = [[sentence for sentence in line.split('__eou__')] for line in lines]\n",
    "    # Assumes odd sentences being the source aka question and even sentences the target aka answer, still in a list of list format\n",
    "    source_sentences_list = [[source for source in sentence if sentence.index(source)%2 == 0] for sentence in list_sentences]\n",
    "    target_sentences_list = [[source for source in sentence if sentence.index(source)%2 != 0] for sentence in list_sentences]\n",
    "    # Flattens the list to have all the questions in one list\n",
    "    source_sentences = [sentence for row in source_sentences_list for sentence in row]\n",
    "    # Flattens the list to have all the answers in one list\n",
    "    target_sentences = [sentence for row in target_sentences_list for sentence in row]\n",
    "    # Creates a pair of question-answer as a list of list\n",
    "    pairs = [[sentence_cleaning(question), sentence_cleaning(answer)] for question, answer in zip(source_sentences, target_sentences)]\n",
    "    # Initialize the classes questions and answers to assign indexes and count the words\n",
    "    questions = QuestionAndAnswer('questions')\n",
    "    answers = QuestionAndAnswer('answers')\n",
    "    \n",
    "    return questions, answers, pairs"
   ]
  },
  {
   "cell_type": "code",
   "execution_count": 24,
   "id": "208f71e4",
   "metadata": {},
   "outputs": [],
   "source": [
    "def prepare_data(dataset):\n",
    "    q, a, pairs = Read_data(dataset)\n",
    "    print(f'Read {len(pairs)} sentence pairs')\n",
    "    print('Counting words')\n",
    "    for pair in pairs:\n",
    "        q.add_sentence(pair[0])\n",
    "        a.add_sentence(pair[1])\n",
    "    \n",
    "    print('Counted words:')\n",
    "    print(f'In {q.name}: {q.n_words} words')\n",
    "    print(f'In {a.name}: {a.n_words} words')\n",
    "    \n",
    "    return q, a, pairs"
   ]
  },
  {
   "cell_type": "code",
   "execution_count": 25,
   "id": "f2992dab",
   "metadata": {},
   "outputs": [
    {
     "name": "stdout",
     "output_type": "stream",
     "text": [
      "Reading test -------\n",
      "Read 4041 sentence pairs\n",
      "Counting words\n",
      "Counted words:\n",
      "In questions: 374 words\n",
      "In answers: 394 words\n"
     ]
    }
   ],
   "source": [
    "q, a, pairs = prepare_data('test')"
   ]
  },
  {
   "cell_type": "code",
   "execution_count": 26,
   "id": "aedd21f6",
   "metadata": {},
   "outputs": [
    {
     "name": "stdout",
     "output_type": "stream",
     "text": [
      "['what date would you like to fly ?', 'he can spend more time with his grandchildren .']\n"
     ]
    }
   ],
   "source": [
    "print(random.choice(pairs))"
   ]
  }
 ],
 "metadata": {
  "hide_input": false,
  "kernelspec": {
   "display_name": "Python 3 (ipykernel)",
   "language": "python",
   "name": "python3"
  },
  "language_info": {
   "codemirror_mode": {
    "name": "ipython",
    "version": 3
   },
   "file_extension": ".py",
   "mimetype": "text/x-python",
   "name": "python",
   "nbconvert_exporter": "python",
   "pygments_lexer": "ipython3",
   "version": "3.8.10"
  },
  "toc": {
   "base_numbering": 1,
   "nav_menu": {},
   "number_sections": true,
   "sideBar": true,
   "skip_h1_title": false,
   "title_cell": "Table of Contents",
   "title_sidebar": "Contents",
   "toc_cell": false,
   "toc_position": {},
   "toc_section_display": true,
   "toc_window_display": false
  }
 },
 "nbformat": 4,
 "nbformat_minor": 5
}
